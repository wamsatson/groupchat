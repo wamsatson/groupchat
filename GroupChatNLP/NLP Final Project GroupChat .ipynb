{
 "cells": [
  {
   "cell_type": "markdown",
   "metadata": {},
   "source": [
    "# Analyzing GroupChat Data"
   ]
  },
  {
   "cell_type": "markdown",
   "metadata": {},
   "source": [
    "## Objective\n",
    "\n",
    "I used to work with some friends of mine from 2012-2016. We still hang out together, and keep in touch primarily thorugh an imessage group thread that was created back in 2014. The group text still remains very active today. \n",
    "\n",
    "I wanted to find a way to get the data, and conduct data analysis on it. \n",
    "\n",
    "My Objective was to:\n",
    "\n",
    "1. Do exploritory data analytics, \n",
    "2. identify which person has changed the most overtime,\n",
    "3. identify synonyms, and \n",
    "4. do sentiment analysis on the text with embedding layers"
   ]
  },
  {
   "cell_type": "markdown",
   "metadata": {},
   "source": [
    "## About the Data\n",
    "\n",
    "I was able to colaborate with one of my friends who owns a macbook, as all imessages are stored in a secret folder on the macbooks. After locating the database, he found all group chats where he and I are both in, exported it to a csv file, and sent it to me. "
   ]
  },
  {
   "cell_type": "markdown",
   "metadata": {},
   "source": [
    "The data goes back to November 2017. There are a total of 73K records, some texts, some emotes. **(fig.1)**"
   ]
  },
  {
   "cell_type": "code",
   "execution_count": 37,
   "metadata": {},
   "outputs": [
    {
     "name": "stdout",
     "output_type": "stream",
     "text": [
      "Shape of data: (73328, 10)\n",
      "Earliest Message: 2017-11-14 00:29:35.000000\n"
     ]
    },
    {
     "data": {
      "text/html": [
       "<div>\n",
       "<style scoped>\n",
       "    .dataframe tbody tr th:only-of-type {\n",
       "        vertical-align: middle;\n",
       "    }\n",
       "\n",
       "    .dataframe tbody tr th {\n",
       "        vertical-align: top;\n",
       "    }\n",
       "\n",
       "    .dataframe thead th {\n",
       "        text-align: right;\n",
       "    }\n",
       "</style>\n",
       "<table border=\"1\" class=\"dataframe\">\n",
       "  <thead>\n",
       "    <tr style=\"text-align: right;\">\n",
       "      <th></th>\n",
       "      <th>myid</th>\n",
       "      <th>guid</th>\n",
       "      <th>text</th>\n",
       "      <th>cache_has_attachments</th>\n",
       "      <th>Person</th>\n",
       "      <th>ts</th>\n",
       "      <th>f_guid</th>\n",
       "      <th>Emote</th>\n",
       "      <th>wordlength</th>\n",
       "      <th>ConvoId</th>\n",
       "    </tr>\n",
       "  </thead>\n",
       "  <tbody>\n",
       "    <tr>\n",
       "      <th>0</th>\n",
       "      <td>0</td>\n",
       "      <td>96249AFF-DA2C-4DDB-A4D1-E4BF8B0B686E</td>\n",
       "      <td>I’m thinking of getting a VIP table at a club ...</td>\n",
       "      <td>0</td>\n",
       "      <td>Colleen Crooks</td>\n",
       "      <td>2017-11-14 00:29:35.000000</td>\n",
       "      <td>None</td>\n",
       "      <td>text</td>\n",
       "      <td>19.0</td>\n",
       "      <td>0</td>\n",
       "    </tr>\n",
       "    <tr>\n",
       "      <th>1</th>\n",
       "      <td>1</td>\n",
       "      <td>555A599F-7216-46FD-92FD-924D3DCB6A9E</td>\n",
       "      <td>Damn shawty</td>\n",
       "      <td>0</td>\n",
       "      <td>Ana Rege</td>\n",
       "      <td>2017-11-14 00:30:10.000000</td>\n",
       "      <td>None</td>\n",
       "      <td>text</td>\n",
       "      <td>2.0</td>\n",
       "      <td>0</td>\n",
       "    </tr>\n",
       "    <tr>\n",
       "      <th>2</th>\n",
       "      <td>2</td>\n",
       "      <td>4083A168-4CD1-4C70-8296-C90ED0509457</td>\n",
       "      <td>I’m not paying for it lol</td>\n",
       "      <td>0</td>\n",
       "      <td>Colleen Crooks</td>\n",
       "      <td>2017-11-14 00:30:37.000000</td>\n",
       "      <td>None</td>\n",
       "      <td>text</td>\n",
       "      <td>6.0</td>\n",
       "      <td>0</td>\n",
       "    </tr>\n",
       "  </tbody>\n",
       "</table>\n",
       "</div>"
      ],
      "text/plain": [
       "   myid                                  guid  \\\n",
       "0     0  96249AFF-DA2C-4DDB-A4D1-E4BF8B0B686E   \n",
       "1     1  555A599F-7216-46FD-92FD-924D3DCB6A9E   \n",
       "2     2  4083A168-4CD1-4C70-8296-C90ED0509457   \n",
       "\n",
       "                                                text  cache_has_attachments  \\\n",
       "0  I’m thinking of getting a VIP table at a club ...                      0   \n",
       "1                                        Damn shawty                      0   \n",
       "2                          I’m not paying for it lol                      0   \n",
       "\n",
       "           Person                          ts f_guid Emote  wordlength  \\\n",
       "0  Colleen Crooks  2017-11-14 00:29:35.000000   None  text        19.0   \n",
       "1        Ana Rege  2017-11-14 00:30:10.000000   None  text         2.0   \n",
       "2  Colleen Crooks  2017-11-14 00:30:37.000000   None  text         6.0   \n",
       "\n",
       "   ConvoId  \n",
       "0        0  \n",
       "1        0  \n",
       "2        0  "
      ]
     },
     "execution_count": 37,
     "metadata": {},
     "output_type": "execute_result"
    }
   ],
   "source": [
    "print('Shape of data:',df.shape)\n",
    "print('Earliest Message:',df['ts'].min())\n",
    "df.head(3)"
   ]
  },
  {
   "cell_type": "markdown",
   "metadata": {},
   "source": [
    "## Exploritory Data Analysis"
   ]
  },
  {
   "cell_type": "markdown",
   "metadata": {},
   "source": [
    "Below is some EDA to get a bit of a better understanding of the data. **(fig.2)**"
   ]
  },
  {
   "cell_type": "markdown",
   "metadata": {},
   "source": [
    "The Average number of words used in a text is around 7, and the majority of the messages are less than 10. This could make finding synonyms and doing sentiment analysis more difficult as a result of the texts being so short."
   ]
  },
  {
   "cell_type": "code",
   "execution_count": 38,
   "metadata": {},
   "outputs": [
    {
     "name": "stdout",
     "output_type": "stream",
     "text": [
      "Average number of words used in a text: wordlength    7.064302\n",
      "dtype: float64\n"
     ]
    },
    {
     "data": {
      "image/png": "[encoded data removed]",
      "text/plain": [
       "<Figure size 432x288 with 1 Axes>"
      ]
     },
     "metadata": {},
     "output_type": "display_data"
    }
   ],
   "source": [
    "print('Average number of words used in a text:',Wordlength.mean())\n",
    "plotWord.hist()\n",
    "plt.title('Words in Text Histogram')\n",
    "plt.show()"
   ]
  },
  {
   "cell_type": "markdown",
   "metadata": {},
   "source": [
    "The majoirty of the data in here is text messages. There is a sizeable amount, though, of records that aren't actually texts, but Emotes to previous messages."
   ]
  },
  {
   "cell_type": "code",
   "execution_count": 39,
   "metadata": {},
   "outputs": [
    {
     "data": {
      "image/png": "[encoded data removed]",
      "text/plain": [
       "<Figure size 432x288 with 1 Axes>"
      ]
     },
     "metadata": {},
     "output_type": "display_data"
    }
   ],
   "source": [
    "plotEmote.plot.bar()\n",
    "plt.title('Emotes vs Texts')\n",
    "plt.show()"
   ]
  },
  {
   "cell_type": "markdown",
   "metadata": {},
   "source": [
    "The group chat is dominated by 4 individuals (PersonL, PersonE, PersonA, and PersonO)."
   ]
  },
  {
   "cell_type": "code",
   "execution_count": 40,
   "metadata": {},
   "outputs": [
    {
     "data": {
      "image/png": "[encoded data removed]",
      "text/plain": [
       "<Figure size 432x288 with 1 Axes>"
      ]
     },
     "metadata": {},
     "output_type": "display_data"
    }
   ],
   "source": [
    "plotPerson.plot.bar()\n",
    "plt.title('Person Message Count')\n",
    "plt.show()"
   ]
  },
  {
   "cell_type": "markdown",
   "metadata": {},
   "source": [
    "As the average text message is only 7 words, I wanted to do some analysis based on the conversations that take place.\n",
    "\n",
    "I defined a conversation as any group of text messages that are less than 15 minutes from the previous message. If a message is sent, and the previous message was more than 15 minutes ago, than that is the start of a new conversation. The usefullness of this will be much more noticeable when finding word synonyms. **(fig.3)**"
   ]
  },
  {
   "cell_type": "markdown",
   "metadata": {},
   "source": [
    "Below shows the total number converstaions We have had in the groupmessage, the average number of messages in a conversation, and the average length of time (in minutes) of a conversation."
   ]
  },
  {
   "cell_type": "code",
   "execution_count": 41,
   "metadata": {},
   "outputs": [
    {
     "name": "stdout",
     "output_type": "stream",
     "text": [
      "Total number of conversations in the groupchat: 6167\n",
      "Average number of messages in a conversation: 9.33322523106859\n",
      "Average time length of a conversation: 61.54434895411059\n"
     ]
    }
   ],
   "source": [
    "print('Total number of conversations in the groupchat:',len(convo))\n",
    "print('Average number of messages in a conversation:',convo['MessageCount'].mean())\n",
    "print('Average time length of a conversation:',convo['ConvoMinLength'].mean())"
   ]
  },
  {
   "cell_type": "markdown",
   "metadata": {},
   "source": [
    "Here are the first 5 records of the conversation table, showing some basic characteristics of each conversation:"
   ]
  },
  {
   "cell_type": "code",
   "execution_count": 42,
   "metadata": {},
   "outputs": [
    {
     "data": {
      "text/html": [
       "<div>\n",
       "<style scoped>\n",
       "    .dataframe tbody tr th:only-of-type {\n",
       "        vertical-align: middle;\n",
       "    }\n",
       "\n",
       "    .dataframe tbody tr th {\n",
       "        vertical-align: top;\n",
       "    }\n",
       "\n",
       "    .dataframe thead th {\n",
       "        text-align: right;\n",
       "    }\n",
       "</style>\n",
       "<table border=\"1\" class=\"dataframe\">\n",
       "  <thead>\n",
       "    <tr style=\"text-align: right;\">\n",
       "      <th></th>\n",
       "      <th>ConvoId</th>\n",
       "      <th>Startid</th>\n",
       "      <th>Endid</th>\n",
       "      <th>ConvoStarter</th>\n",
       "      <th>ConvoEnder</th>\n",
       "      <th>Min_ts</th>\n",
       "      <th>Max_ts</th>\n",
       "      <th>WordCount</th>\n",
       "      <th>AverageWordCount</th>\n",
       "      <th>MessageCount</th>\n",
       "      <th>ConvoMinLength</th>\n",
       "    </tr>\n",
       "  </thead>\n",
       "  <tbody>\n",
       "    <tr>\n",
       "      <th>0</th>\n",
       "      <td>0</td>\n",
       "      <td>0</td>\n",
       "      <td>5</td>\n",
       "      <td>Colleen Crooks</td>\n",
       "      <td>Hannah Watson</td>\n",
       "      <td>2017-11-14 00:29:35</td>\n",
       "      <td>2017-11-14 00:31:21</td>\n",
       "      <td>28.0</td>\n",
       "      <td>7.0</td>\n",
       "      <td>4</td>\n",
       "      <td>1.0</td>\n",
       "    </tr>\n",
       "    <tr>\n",
       "      <th>1</th>\n",
       "      <td>1</td>\n",
       "      <td>6</td>\n",
       "      <td>11</td>\n",
       "      <td>Justin Benavidez</td>\n",
       "      <td>Geoff Taylor</td>\n",
       "      <td>2017-11-14 00:55:22</td>\n",
       "      <td>2017-11-14 00:57:40</td>\n",
       "      <td>24.0</td>\n",
       "      <td>6.0</td>\n",
       "      <td>4</td>\n",
       "      <td>2.0</td>\n",
       "    </tr>\n",
       "    <tr>\n",
       "      <th>2</th>\n",
       "      <td>2</td>\n",
       "      <td>12</td>\n",
       "      <td>12</td>\n",
       "      <td>Geoff Taylor</td>\n",
       "      <td>Geoff Taylor</td>\n",
       "      <td>2017-11-15 01:21:27</td>\n",
       "      <td>2017-11-15 01:21:27</td>\n",
       "      <td>9.0</td>\n",
       "      <td>9.0</td>\n",
       "      <td>1</td>\n",
       "      <td>0.0</td>\n",
       "    </tr>\n",
       "    <tr>\n",
       "      <th>3</th>\n",
       "      <td>3</td>\n",
       "      <td>13</td>\n",
       "      <td>24</td>\n",
       "      <td>Allison Burke</td>\n",
       "      <td>Ana Rege</td>\n",
       "      <td>2017-11-15 01:55:53</td>\n",
       "      <td>2017-11-15 02:19:00</td>\n",
       "      <td>40.0</td>\n",
       "      <td>4.0</td>\n",
       "      <td>10</td>\n",
       "      <td>23.0</td>\n",
       "    </tr>\n",
       "    <tr>\n",
       "      <th>4</th>\n",
       "      <td>4</td>\n",
       "      <td>25</td>\n",
       "      <td>25</td>\n",
       "      <td>Sam Watson</td>\n",
       "      <td>Sam Watson</td>\n",
       "      <td>2017-11-15 13:17:44</td>\n",
       "      <td>2017-11-15 13:17:44</td>\n",
       "      <td>1.0</td>\n",
       "      <td>1.0</td>\n",
       "      <td>1</td>\n",
       "      <td>0.0</td>\n",
       "    </tr>\n",
       "  </tbody>\n",
       "</table>\n",
       "</div>"
      ],
      "text/plain": [
       "   ConvoId  Startid  Endid      ConvoStarter     ConvoEnder  \\\n",
       "0        0        0      5    Colleen Crooks  Hannah Watson   \n",
       "1        1        6     11  Justin Benavidez   Geoff Taylor   \n",
       "2        2       12     12      Geoff Taylor   Geoff Taylor   \n",
       "3        3       13     24     Allison Burke       Ana Rege   \n",
       "4        4       25     25        Sam Watson     Sam Watson   \n",
       "\n",
       "               Min_ts              Max_ts  WordCount  AverageWordCount  \\\n",
       "0 2017-11-14 00:29:35 2017-11-14 00:31:21       28.0               7.0   \n",
       "1 2017-11-14 00:55:22 2017-11-14 00:57:40       24.0               6.0   \n",
       "2 2017-11-15 01:21:27 2017-11-15 01:21:27        9.0               9.0   \n",
       "3 2017-11-15 01:55:53 2017-11-15 02:19:00       40.0               4.0   \n",
       "4 2017-11-15 13:17:44 2017-11-15 13:17:44        1.0               1.0   \n",
       "\n",
       "   MessageCount  ConvoMinLength  \n",
       "0             4             1.0  \n",
       "1             4             2.0  \n",
       "2             1             0.0  \n",
       "3            10            23.0  \n",
       "4             1             0.0  "
      ]
     },
     "execution_count": 42,
     "metadata": {},
     "output_type": "execute_result"
    }
   ],
   "source": [
    "convo.head()"
   ]
  },
  {
   "cell_type": "markdown",
   "metadata": {},
   "source": [
    "Finally, it wouldn't be NLP if there wasn't a word cloud showing word counts. Below is a word cloud image, showing the top 500 words, after lowercasing, removing digits, and removing punctuation."
   ]
  },
  {
   "cell_type": "code",
   "execution_count": 43,
   "metadata": {},
   "outputs": [
    {
     "data": {
      "text/plain": [
       "<matplotlib.image.AxesImage at 0x1c2a77434a8>"
      ]
     },
     "execution_count": 43,
     "metadata": {},
     "output_type": "execute_result"
    },
    {
     "data": {
      "image/png": "[encoded data removed]",
      "text/plain": [
       "<Figure size 432x288 with 1 Axes>"
      ]
     },
     "metadata": {},
     "output_type": "display_data"
    }
   ],
   "source": [
    "plt.imshow(wc)"
   ]
  },
  {
   "cell_type": "markdown",
   "metadata": {},
   "source": [
    "## Who Has Changed the Most?"
   ]
  },
  {
   "cell_type": "markdown",
   "metadata": {},
   "source": [
    "I wanted to see who in the chat has changed the most since November 2017. I decided to first break the text data up by time periods of 10 months. Anything before 8/31/2018 is assigned to be \"Time Period 1\". Anything from 9/1/2018 to 6/30/2019 is \n",
    "\"Time Period 2.\" Everything else after 7/1/2019 is \"Time Period 3\". Below are the first 5 rows of the dataset that will be used for this section. **(fig.5)**"
   ]
  },
  {
   "cell_type": "code",
   "execution_count": 44,
   "metadata": {},
   "outputs": [
    {
     "data": {
      "text/html": [
       "<div>\n",
       "<style scoped>\n",
       "    .dataframe tbody tr th:only-of-type {\n",
       "        vertical-align: middle;\n",
       "    }\n",
       "\n",
       "    .dataframe tbody tr th {\n",
       "        vertical-align: top;\n",
       "    }\n",
       "\n",
       "    .dataframe thead th {\n",
       "        text-align: right;\n",
       "    }\n",
       "</style>\n",
       "<table border=\"1\" class=\"dataframe\">\n",
       "  <thead>\n",
       "    <tr style=\"text-align: right;\">\n",
       "      <th></th>\n",
       "      <th>Person</th>\n",
       "      <th>text</th>\n",
       "      <th>ts</th>\n",
       "      <th>ConvoId</th>\n",
       "      <th>textclean</th>\n",
       "      <th>Time Period</th>\n",
       "      <th>Person/Period</th>\n",
       "      <th>labelencode</th>\n",
       "      <th>labelencode1</th>\n",
       "      <th>prediction</th>\n",
       "    </tr>\n",
       "  </thead>\n",
       "  <tbody>\n",
       "    <tr>\n",
       "      <th>73323</th>\n",
       "      <td>Geoff Taylor</td>\n",
       "      <td>This is one of the worst-case senators with Tr...</td>\n",
       "      <td>2020-05-08 14:03:24.000000</td>\n",
       "      <td>6166</td>\n",
       "      <td>this is one of the worstcase senators with tr...</td>\n",
       "      <td>Part 3</td>\n",
       "      <td>Geoff Taylor Part 3</td>\n",
       "      <td>[7, 5, 25, 3, 0, 16, 2, 0, 4, 0]</td>\n",
       "      <td>[7, 5, 25, 3, 0, 16, 2, 0, 4, 0, 0, 0, 0, 0, 0...</td>\n",
       "      <td>[[0.9354379]]</td>\n",
       "    </tr>\n",
       "    <tr>\n",
       "      <th>73324</th>\n",
       "      <td>Colleen Crooks</td>\n",
       "      <td>Our infrastructure is flawed to the point of i...</td>\n",
       "      <td>2020-05-08 14:03:27.000000</td>\n",
       "      <td>6166</td>\n",
       "      <td>our infrastructure is flawed to the point of ...</td>\n",
       "      <td>Part 3</td>\n",
       "      <td>Colleen Crooks Part 3</td>\n",
       "      <td>[261, 5, 2931, 4, 0, 274, 3, 8, 21, 51]</td>\n",
       "      <td>[261, 5, 2931, 4, 0, 274, 3, 8, 21, 51, 0, 0, ...</td>\n",
       "      <td>[[0.372033]]</td>\n",
       "    </tr>\n",
       "    <tr>\n",
       "      <th>73325</th>\n",
       "      <td>Geoff Taylor</td>\n",
       "      <td>If Hillary won and the senate were flipped I’m...</td>\n",
       "      <td>2020-05-08 14:04:18.000000</td>\n",
       "      <td>6166</td>\n",
       "      <td>if hillary won and the senate were flipped im...</td>\n",
       "      <td>Part 3</td>\n",
       "      <td>Geoff Taylor Part 3</td>\n",
       "      <td>[33, 1254, 2, 0, 64, 122, 238, 91, 55, 24, 435...</td>\n",
       "      <td>[33, 1254, 2, 0, 64, 122, 238, 91, 55, 24, 435...</td>\n",
       "      <td>[[0.9974395]]</td>\n",
       "    </tr>\n",
       "    <tr>\n",
       "      <th>73326</th>\n",
       "      <td>Geoff Taylor</td>\n",
       "      <td>Hillary and the Democrats are willing to take ...</td>\n",
       "      <td>2020-05-08 14:05:25.000000</td>\n",
       "      <td>6166</td>\n",
       "      <td>hillary and the democrats are willing to take...</td>\n",
       "      <td>Part 3</td>\n",
       "      <td>Geoff Taylor Part 3</td>\n",
       "      <td>[2, 0, 23, 1868, 4, 201, 189, 2, 1889, 20, 0, ...</td>\n",
       "      <td>[2, 0, 23, 1868, 4, 201, 189, 2, 1889, 20, 0, ...</td>\n",
       "      <td>[[0.4587873]]</td>\n",
       "    </tr>\n",
       "    <tr>\n",
       "      <th>73327</th>\n",
       "      <td>Geoff Taylor</td>\n",
       "      <td>It’s truly cartoonishly evil, to borrow a phra...</td>\n",
       "      <td>2020-05-08 14:05:47.000000</td>\n",
       "      <td>6166</td>\n",
       "      <td>its truly cartoonishly evil to borrow a phras...</td>\n",
       "      <td>Part 3</td>\n",
       "      <td>Geoff Taylor Part 3</td>\n",
       "      <td>[26, 323, 578, 4, 1, 36, 4139]</td>\n",
       "      <td>[26, 323, 578, 4, 1, 36, 4139, 0, 0, 0, 0, 0, ...</td>\n",
       "      <td>[[0.99997663]]</td>\n",
       "    </tr>\n",
       "  </tbody>\n",
       "</table>\n",
       "</div>"
      ],
      "text/plain": [
       "               Person                                               text  \\\n",
       "73323    Geoff Taylor  This is one of the worst-case senators with Tr...   \n",
       "73324  Colleen Crooks  Our infrastructure is flawed to the point of i...   \n",
       "73325    Geoff Taylor  If Hillary won and the senate were flipped I’m...   \n",
       "73326    Geoff Taylor  Hillary and the Democrats are willing to take ...   \n",
       "73327    Geoff Taylor  It’s truly cartoonishly evil, to borrow a phra...   \n",
       "\n",
       "                               ts  ConvoId  \\\n",
       "73323  2020-05-08 14:03:24.000000     6166   \n",
       "73324  2020-05-08 14:03:27.000000     6166   \n",
       "73325  2020-05-08 14:04:18.000000     6166   \n",
       "73326  2020-05-08 14:05:25.000000     6166   \n",
       "73327  2020-05-08 14:05:47.000000     6166   \n",
       "\n",
       "                                               textclean Time Period  \\\n",
       "73323   this is one of the worstcase senators with tr...      Part 3   \n",
       "73324   our infrastructure is flawed to the point of ...      Part 3   \n",
       "73325   if hillary won and the senate were flipped im...      Part 3   \n",
       "73326   hillary and the democrats are willing to take...      Part 3   \n",
       "73327   its truly cartoonishly evil to borrow a phras...      Part 3   \n",
       "\n",
       "               Person/Period  \\\n",
       "73323    Geoff Taylor Part 3   \n",
       "73324  Colleen Crooks Part 3   \n",
       "73325    Geoff Taylor Part 3   \n",
       "73326    Geoff Taylor Part 3   \n",
       "73327    Geoff Taylor Part 3   \n",
       "\n",
       "                                             labelencode  \\\n",
       "73323                   [7, 5, 25, 3, 0, 16, 2, 0, 4, 0]   \n",
       "73324            [261, 5, 2931, 4, 0, 274, 3, 8, 21, 51]   \n",
       "73325  [33, 1254, 2, 0, 64, 122, 238, 91, 55, 24, 435...   \n",
       "73326  [2, 0, 23, 1868, 4, 201, 189, 2, 1889, 20, 0, ...   \n",
       "73327                     [26, 323, 578, 4, 1, 36, 4139]   \n",
       "\n",
       "                                            labelencode1      prediction  \n",
       "73323  [7, 5, 25, 3, 0, 16, 2, 0, 4, 0, 0, 0, 0, 0, 0...   [[0.9354379]]  \n",
       "73324  [261, 5, 2931, 4, 0, 274, 3, 8, 21, 51, 0, 0, ...    [[0.372033]]  \n",
       "73325  [33, 1254, 2, 0, 64, 122, 238, 91, 55, 24, 435...   [[0.9974395]]  \n",
       "73326  [2, 0, 23, 1868, 4, 201, 189, 2, 1889, 20, 0, ...   [[0.4587873]]  \n",
       "73327  [26, 323, 578, 4, 1, 36, 4139, 0, 0, 0, 0, 0, ...  [[0.99997663]]  "
      ]
     },
     "execution_count": 44,
     "metadata": {},
     "output_type": "execute_result"
    }
   ],
   "source": [
    "messages.tail()"
   ]
  },
  {
   "cell_type": "markdown",
   "metadata": {},
   "source": [
    "From here, I grouped together all of the text messages for each Time Period/Person, and put it in a Term Document Matrix.\n",
    "\n",
    "To do this, I first needed to the most frequent words. Below shows a function that puts all of the texts together into one big string (FULLCORP). From there, another function retrieves the top 3000 words that appear in the FULLCORP. I display the top 14 words afterwards."
   ]
  },
  {
   "cell_type": "code",
   "execution_count": 45,
   "metadata": {},
   "outputs": [
    {
     "data": {
      "text/plain": [
       "['i',\n",
       " 'the',\n",
       " 'a',\n",
       " 'to',\n",
       " 'and',\n",
       " 'is',\n",
       " 'you',\n",
       " 'it',\n",
       " 'that',\n",
       " 'of',\n",
       " 'in',\n",
       " 'for',\n",
       " 'like',\n",
       " 'im']"
      ]
     },
     "execution_count": 45,
     "metadata": {},
     "output_type": "execute_result"
    }
   ],
   "source": [
    "x = list(messages[['textclean']].values.T)[0]\n",
    "\n",
    "#full corpus\n",
    "FULLCORP=get_corp(x,' ')\n",
    "\n",
    "#getting word frequencies\n",
    "BOWp=get_bow(FULLCORP,3000)\n",
    "\n",
    "#displaying top 14 words\n",
    "BOWp[:14]"
   ]
  },
  {
   "cell_type": "markdown",
   "metadata": {},
   "source": [
    "From there, I create a Bag of words matrix, a matrix representation of the text data. Each row will be a person/timeframe. Each column will be one of the 3,000 words (there will be 3,000 columns!). Each value in the cells corresponds to the number of instances that word appeared in that person/timeframe."
   ]
  },
  {
   "cell_type": "code",
   "execution_count": 46,
   "metadata": {},
   "outputs": [
    {
     "name": "stdout",
     "output_type": "stream",
     "text": [
      "Shape of my Bag of Words Matrix: (36, 3000)\n"
     ]
    }
   ],
   "source": [
    "TDMatrix=bagofwords(data,BOWp)\n",
    "print('Shape of my Bag of Words Matrix:',TDMatrix.shape)"
   ]
  },
  {
   "cell_type": "code",
   "execution_count": 47,
   "metadata": {},
   "outputs": [
    {
     "data": {
      "text/html": [
       "<div>\n",
       "<style scoped>\n",
       "    .dataframe tbody tr th:only-of-type {\n",
       "        vertical-align: middle;\n",
       "    }\n",
       "\n",
       "    .dataframe tbody tr th {\n",
       "        vertical-align: top;\n",
       "    }\n",
       "\n",
       "    .dataframe thead th {\n",
       "        text-align: right;\n",
       "    }\n",
       "</style>\n",
       "<table border=\"1\" class=\"dataframe\">\n",
       "  <thead>\n",
       "    <tr style=\"text-align: right;\">\n",
       "      <th></th>\n",
       "      <th>i</th>\n",
       "      <th>the</th>\n",
       "      <th>a</th>\n",
       "      <th>to</th>\n",
       "      <th>and</th>\n",
       "      <th>is</th>\n",
       "      <th>you</th>\n",
       "      <th>it</th>\n",
       "      <th>that</th>\n",
       "      <th>of</th>\n",
       "      <th>...</th>\n",
       "      <th>jessica</th>\n",
       "      <th>presidents</th>\n",
       "      <th>clients</th>\n",
       "      <th>properly</th>\n",
       "      <th>allowing</th>\n",
       "      <th>male</th>\n",
       "      <th>understood</th>\n",
       "      <th>smoking</th>\n",
       "      <th>profit</th>\n",
       "      <th>sports</th>\n",
       "    </tr>\n",
       "  </thead>\n",
       "  <tbody>\n",
       "    <tr>\n",
       "      <th>Colleen Crooks Part 1</th>\n",
       "      <td>399</td>\n",
       "      <td>225</td>\n",
       "      <td>268</td>\n",
       "      <td>176</td>\n",
       "      <td>204</td>\n",
       "      <td>145</td>\n",
       "      <td>104</td>\n",
       "      <td>129</td>\n",
       "      <td>107</td>\n",
       "      <td>93</td>\n",
       "      <td>...</td>\n",
       "      <td>0</td>\n",
       "      <td>0</td>\n",
       "      <td>1</td>\n",
       "      <td>0</td>\n",
       "      <td>1</td>\n",
       "      <td>1</td>\n",
       "      <td>1</td>\n",
       "      <td>0</td>\n",
       "      <td>5</td>\n",
       "      <td>1</td>\n",
       "    </tr>\n",
       "    <tr>\n",
       "      <th>Ana Rege Part 1</th>\n",
       "      <td>279</td>\n",
       "      <td>343</td>\n",
       "      <td>272</td>\n",
       "      <td>217</td>\n",
       "      <td>208</td>\n",
       "      <td>157</td>\n",
       "      <td>199</td>\n",
       "      <td>135</td>\n",
       "      <td>74</td>\n",
       "      <td>96</td>\n",
       "      <td>...</td>\n",
       "      <td>0</td>\n",
       "      <td>0</td>\n",
       "      <td>0</td>\n",
       "      <td>0</td>\n",
       "      <td>0</td>\n",
       "      <td>0</td>\n",
       "      <td>0</td>\n",
       "      <td>0</td>\n",
       "      <td>1</td>\n",
       "      <td>0</td>\n",
       "    </tr>\n",
       "    <tr>\n",
       "      <th>Justin Benavidez Part 1</th>\n",
       "      <td>376</td>\n",
       "      <td>495</td>\n",
       "      <td>334</td>\n",
       "      <td>316</td>\n",
       "      <td>213</td>\n",
       "      <td>212</td>\n",
       "      <td>242</td>\n",
       "      <td>215</td>\n",
       "      <td>257</td>\n",
       "      <td>188</td>\n",
       "      <td>...</td>\n",
       "      <td>2</td>\n",
       "      <td>0</td>\n",
       "      <td>0</td>\n",
       "      <td>2</td>\n",
       "      <td>0</td>\n",
       "      <td>0</td>\n",
       "      <td>0</td>\n",
       "      <td>0</td>\n",
       "      <td>0</td>\n",
       "      <td>1</td>\n",
       "    </tr>\n",
       "    <tr>\n",
       "      <th>Geoff Taylor Part 1</th>\n",
       "      <td>525</td>\n",
       "      <td>370</td>\n",
       "      <td>346</td>\n",
       "      <td>400</td>\n",
       "      <td>363</td>\n",
       "      <td>194</td>\n",
       "      <td>234</td>\n",
       "      <td>154</td>\n",
       "      <td>197</td>\n",
       "      <td>176</td>\n",
       "      <td>...</td>\n",
       "      <td>1</td>\n",
       "      <td>2</td>\n",
       "      <td>0</td>\n",
       "      <td>0</td>\n",
       "      <td>1</td>\n",
       "      <td>0</td>\n",
       "      <td>1</td>\n",
       "      <td>1</td>\n",
       "      <td>0</td>\n",
       "      <td>2</td>\n",
       "    </tr>\n",
       "    <tr>\n",
       "      <th>Allison Burke Part 1</th>\n",
       "      <td>61</td>\n",
       "      <td>37</td>\n",
       "      <td>30</td>\n",
       "      <td>43</td>\n",
       "      <td>54</td>\n",
       "      <td>20</td>\n",
       "      <td>17</td>\n",
       "      <td>14</td>\n",
       "      <td>4</td>\n",
       "      <td>9</td>\n",
       "      <td>...</td>\n",
       "      <td>0</td>\n",
       "      <td>0</td>\n",
       "      <td>0</td>\n",
       "      <td>0</td>\n",
       "      <td>0</td>\n",
       "      <td>1</td>\n",
       "      <td>0</td>\n",
       "      <td>0</td>\n",
       "      <td>0</td>\n",
       "      <td>0</td>\n",
       "    </tr>\n",
       "  </tbody>\n",
       "</table>\n",
       "<p>5 rows × 3000 columns</p>\n",
       "</div>"
      ],
      "text/plain": [
       "                           i  the    a   to  and   is  you   it  that   of  \\\n",
       "Colleen Crooks Part 1    399  225  268  176  204  145  104  129   107   93   \n",
       "Ana Rege Part 1          279  343  272  217  208  157  199  135    74   96   \n",
       "Justin Benavidez Part 1  376  495  334  316  213  212  242  215   257  188   \n",
       "Geoff Taylor Part 1      525  370  346  400  363  194  234  154   197  176   \n",
       "Allison Burke Part 1      61   37   30   43   54   20   17   14     4    9   \n",
       "\n",
       "                         ...  jessica  presidents  clients  properly  \\\n",
       "Colleen Crooks Part 1    ...        0           0        1         0   \n",
       "Ana Rege Part 1          ...        0           0        0         0   \n",
       "Justin Benavidez Part 1  ...        2           0        0         2   \n",
       "Geoff Taylor Part 1      ...        1           2        0         0   \n",
       "Allison Burke Part 1     ...        0           0        0         0   \n",
       "\n",
       "                         allowing  male  understood  smoking  profit  sports  \n",
       "Colleen Crooks Part 1           1     1           1        0       5       1  \n",
       "Ana Rege Part 1                 0     0           0        0       1       0  \n",
       "Justin Benavidez Part 1         0     0           0        0       0       1  \n",
       "Geoff Taylor Part 1             1     0           1        1       0       2  \n",
       "Allison Burke Part 1            0     1           0        0       0       0  \n",
       "\n",
       "[5 rows x 3000 columns]"
      ]
     },
     "execution_count": 47,
     "metadata": {},
     "output_type": "execute_result"
    }
   ],
   "source": [
    "TDMatrixdisplay.head()"
   ]
  },
  {
   "cell_type": "markdown",
   "metadata": {},
   "source": [
    "For example, PersonE in Part1 says \"i\" 399 times. Because 3,000 is a lot of columns, I perform SVD to reduce the dimensionality of the dataset to 36 columns."
   ]
  },
  {
   "cell_type": "code",
   "execution_count": 48,
   "metadata": {},
   "outputs": [
    {
     "name": "stdout",
     "output_type": "stream",
     "text": [
      "Shape of my Bag of Words Matrix after svd: (36, 36)\n"
     ]
    }
   ],
   "source": [
    "print('Shape of my Bag of Words Matrix after svd:',mysvd.shape)"
   ]
  },
  {
   "cell_type": "markdown",
   "metadata": {},
   "source": [
    "Because each row represents the words said by each person for each time period, we can measure if an individual has changed over time by measuring the distance from row to row.\n",
    "\n",
    "The measuring technique I used is **Cosine Distance**. This measures the angles between two vectors, as opposed to the distance appart they are. This is useful for NLP tasks, as documents can vary in size. We wouldn't want to classify two documents as being different just soly based on their size; the content and words in there matter too! "
   ]
  },
  {
   "cell_type": "markdown",
   "metadata": {},
   "source": [
    "Below is a summary of my analysis, comparing each person to the different time periods (Chapters) of our group text."
   ]
  },
  {
   "cell_type": "code",
   "execution_count": 49,
   "metadata": {},
   "outputs": [
    {
     "data": {
      "text/html": [
       "<div>\n",
       "<style scoped>\n",
       "    .dataframe tbody tr th:only-of-type {\n",
       "        vertical-align: middle;\n",
       "    }\n",
       "\n",
       "    .dataframe tbody tr th {\n",
       "        vertical-align: top;\n",
       "    }\n",
       "\n",
       "    .dataframe thead tr th {\n",
       "        text-align: left;\n",
       "    }\n",
       "\n",
       "    .dataframe thead tr:last-of-type th {\n",
       "        text-align: right;\n",
       "    }\n",
       "</style>\n",
       "<table border=\"1\" class=\"dataframe\">\n",
       "  <thead>\n",
       "    <tr>\n",
       "      <th></th>\n",
       "      <th colspan=\"6\" halign=\"left\">Cosine Distance</th>\n",
       "    </tr>\n",
       "    <tr>\n",
       "      <th>Compare</th>\n",
       "      <th>Capter 1 to 1</th>\n",
       "      <th>Capter 1 to 2</th>\n",
       "      <th>Capter 1 to 3</th>\n",
       "      <th>Capter 2 to 2</th>\n",
       "      <th>Capter 2 to 3</th>\n",
       "      <th>Capter 3 to 3</th>\n",
       "    </tr>\n",
       "    <tr>\n",
       "      <th>Person</th>\n",
       "      <th></th>\n",
       "      <th></th>\n",
       "      <th></th>\n",
       "      <th></th>\n",
       "      <th></th>\n",
       "      <th></th>\n",
       "    </tr>\n",
       "  </thead>\n",
       "  <tbody>\n",
       "    <tr>\n",
       "      <th>Allison</th>\n",
       "      <td>1.0</td>\n",
       "      <td>0.861812</td>\n",
       "      <td>0.901859</td>\n",
       "      <td>1.0</td>\n",
       "      <td>0.928979</td>\n",
       "      <td>1.0</td>\n",
       "    </tr>\n",
       "    <tr>\n",
       "      <th>Ana</th>\n",
       "      <td>1.0</td>\n",
       "      <td>0.968174</td>\n",
       "      <td>0.983412</td>\n",
       "      <td>1.0</td>\n",
       "      <td>0.978490</td>\n",
       "      <td>1.0</td>\n",
       "    </tr>\n",
       "    <tr>\n",
       "      <th>Ben</th>\n",
       "      <td>1.0</td>\n",
       "      <td>0.885421</td>\n",
       "      <td>0.898270</td>\n",
       "      <td>1.0</td>\n",
       "      <td>0.876414</td>\n",
       "      <td>1.0</td>\n",
       "    </tr>\n",
       "    <tr>\n",
       "      <th>Brandy</th>\n",
       "      <td>1.0</td>\n",
       "      <td>0.931692</td>\n",
       "      <td>0.950962</td>\n",
       "      <td>1.0</td>\n",
       "      <td>0.952157</td>\n",
       "      <td>1.0</td>\n",
       "    </tr>\n",
       "    <tr>\n",
       "      <th>Colleen</th>\n",
       "      <td>1.0</td>\n",
       "      <td>0.980178</td>\n",
       "      <td>0.985130</td>\n",
       "      <td>1.0</td>\n",
       "      <td>0.984945</td>\n",
       "      <td>1.0</td>\n",
       "    </tr>\n",
       "    <tr>\n",
       "      <th>Geoff</th>\n",
       "      <td>1.0</td>\n",
       "      <td>0.983507</td>\n",
       "      <td>0.989674</td>\n",
       "      <td>1.0</td>\n",
       "      <td>0.986160</td>\n",
       "      <td>1.0</td>\n",
       "    </tr>\n",
       "    <tr>\n",
       "      <th>Hannah</th>\n",
       "      <td>1.0</td>\n",
       "      <td>0.954204</td>\n",
       "      <td>0.965023</td>\n",
       "      <td>1.0</td>\n",
       "      <td>0.953378</td>\n",
       "      <td>1.0</td>\n",
       "    </tr>\n",
       "    <tr>\n",
       "      <th>Justin</th>\n",
       "      <td>1.0</td>\n",
       "      <td>0.977513</td>\n",
       "      <td>0.986624</td>\n",
       "      <td>1.0</td>\n",
       "      <td>0.983576</td>\n",
       "      <td>1.0</td>\n",
       "    </tr>\n",
       "    <tr>\n",
       "      <th>Katherine</th>\n",
       "      <td>1.0</td>\n",
       "      <td>0.604456</td>\n",
       "      <td>0.686940</td>\n",
       "      <td>1.0</td>\n",
       "      <td>0.735495</td>\n",
       "      <td>1.0</td>\n",
       "    </tr>\n",
       "    <tr>\n",
       "      <th>Sam</th>\n",
       "      <td>1.0</td>\n",
       "      <td>0.855756</td>\n",
       "      <td>0.879479</td>\n",
       "      <td>1.0</td>\n",
       "      <td>0.932891</td>\n",
       "      <td>1.0</td>\n",
       "    </tr>\n",
       "    <tr>\n",
       "      <th>Sarah</th>\n",
       "      <td>1.0</td>\n",
       "      <td>0.903394</td>\n",
       "      <td>0.944830</td>\n",
       "      <td>1.0</td>\n",
       "      <td>0.951116</td>\n",
       "      <td>1.0</td>\n",
       "    </tr>\n",
       "  </tbody>\n",
       "</table>\n",
       "</div>"
      ],
      "text/plain": [
       "          Cosine Distance                                            \\\n",
       "Compare     Capter 1 to 1 Capter 1 to 2 Capter 1 to 3 Capter 2 to 2   \n",
       "Person                                                                \n",
       "Allison               1.0      0.861812      0.901859           1.0   \n",
       "Ana                   1.0      0.968174      0.983412           1.0   \n",
       "Ben                   1.0      0.885421      0.898270           1.0   \n",
       "Brandy                1.0      0.931692      0.950962           1.0   \n",
       "Colleen               1.0      0.980178      0.985130           1.0   \n",
       "Geoff                 1.0      0.983507      0.989674           1.0   \n",
       "Hannah                1.0      0.954204      0.965023           1.0   \n",
       "Justin                1.0      0.977513      0.986624           1.0   \n",
       "Katherine             1.0      0.604456      0.686940           1.0   \n",
       "Sam                   1.0      0.855756      0.879479           1.0   \n",
       "Sarah                 1.0      0.903394      0.944830           1.0   \n",
       "\n",
       "                                       \n",
       "Compare   Capter 2 to 3 Capter 3 to 3  \n",
       "Person                                 \n",
       "Allison        0.928979           1.0  \n",
       "Ana            0.978490           1.0  \n",
       "Ben            0.876414           1.0  \n",
       "Brandy         0.952157           1.0  \n",
       "Colleen        0.984945           1.0  \n",
       "Geoff          0.986160           1.0  \n",
       "Hannah         0.953378           1.0  \n",
       "Justin         0.983576           1.0  \n",
       "Katherine      0.735495           1.0  \n",
       "Sam            0.932891           1.0  \n",
       "Sarah          0.951116           1.0  "
      ]
     },
     "execution_count": 49,
     "metadata": {},
     "output_type": "execute_result"
    }
   ],
   "source": [
    "cosinepersondisplay"
   ]
  },
  {
   "cell_type": "markdown",
   "metadata": {},
   "source": [
    "#### Findings\n",
    "\n",
    "The row vectors associated with the Same Person and Chapter are all equal to 1. This makes sense, as the angle of two identical vectors will be the same.\n",
    "\n",
    "Overall, though, there isn't anything too interesting/ground breaking with this analysis. Everyone pretty much remains the same through each time period. The only person that has consistently changed was **PersonI**; they have the lowest Cosine distances between each Chapter. However, if you go above to the previous section, you'll see that PersonI has also sent the third least amount of messages out of everyone. This will make the person's data directionality much more volatile than the others.\n"
   ]
  },
  {
   "cell_type": "markdown",
   "metadata": {},
   "source": [
    "## What Words are the Most Similar?"
   ]
  },
  {
   "cell_type": "markdown",
   "metadata": {},
   "source": [
    "Next, I wanted ot find what words were most similar to each other based on context in our conversations.\n",
    "\n",
    "\n",
    "I will be taking a similar approach for this section as the one prior. Instead of making a bag-of-words matrix around People/Time periods, though, I will be making a TD matrix around the 6,000 or so conversations. Additionally, instead of having the columns be the vocab words, the rows will be the vocab words.\n",
    "\n",
    "From there, I wll measure the distances between each word, and create a function that will display the most similar words to an inputted word. Below is the shape, as well as the first 5 records of this new TD matrix.\n",
    "\n",
    "Again, each column is a conversation that took place, each row is a vocab word, and the values represent counts"
   ]
  },
  {
   "cell_type": "code",
   "execution_count": 50,
   "metadata": {},
   "outputs": [
    {
     "name": "stdout",
     "output_type": "stream",
     "text": [
      "Shape of TD matrix: (3000, 6167)\n"
     ]
    },
    {
     "data": {
      "text/html": [
       "<div>\n",
       "<style scoped>\n",
       "    .dataframe tbody tr th:only-of-type {\n",
       "        vertical-align: middle;\n",
       "    }\n",
       "\n",
       "    .dataframe tbody tr th {\n",
       "        vertical-align: top;\n",
       "    }\n",
       "\n",
       "    .dataframe thead th {\n",
       "        text-align: right;\n",
       "    }\n",
       "</style>\n",
       "<table border=\"1\" class=\"dataframe\">\n",
       "  <thead>\n",
       "    <tr style=\"text-align: right;\">\n",
       "      <th></th>\n",
       "      <th>0</th>\n",
       "      <th>1</th>\n",
       "      <th>2</th>\n",
       "      <th>3</th>\n",
       "      <th>4</th>\n",
       "      <th>5</th>\n",
       "      <th>6</th>\n",
       "      <th>7</th>\n",
       "      <th>8</th>\n",
       "      <th>9</th>\n",
       "      <th>...</th>\n",
       "      <th>6157</th>\n",
       "      <th>6158</th>\n",
       "      <th>6159</th>\n",
       "      <th>6160</th>\n",
       "      <th>6161</th>\n",
       "      <th>6162</th>\n",
       "      <th>6163</th>\n",
       "      <th>6164</th>\n",
       "      <th>6165</th>\n",
       "      <th>6166</th>\n",
       "    </tr>\n",
       "  </thead>\n",
       "  <tbody>\n",
       "    <tr>\n",
       "      <th>like</th>\n",
       "      <td>0</td>\n",
       "      <td>0</td>\n",
       "      <td>0</td>\n",
       "      <td>0</td>\n",
       "      <td>0</td>\n",
       "      <td>0</td>\n",
       "      <td>0</td>\n",
       "      <td>1</td>\n",
       "      <td>1</td>\n",
       "      <td>0</td>\n",
       "      <td>...</td>\n",
       "      <td>7</td>\n",
       "      <td>7</td>\n",
       "      <td>0</td>\n",
       "      <td>0</td>\n",
       "      <td>3</td>\n",
       "      <td>0</td>\n",
       "      <td>3</td>\n",
       "      <td>0</td>\n",
       "      <td>11</td>\n",
       "      <td>6</td>\n",
       "    </tr>\n",
       "    <tr>\n",
       "      <th>im</th>\n",
       "      <td>2</td>\n",
       "      <td>0</td>\n",
       "      <td>1</td>\n",
       "      <td>0</td>\n",
       "      <td>0</td>\n",
       "      <td>0</td>\n",
       "      <td>0</td>\n",
       "      <td>3</td>\n",
       "      <td>0</td>\n",
       "      <td>1</td>\n",
       "      <td>...</td>\n",
       "      <td>1</td>\n",
       "      <td>5</td>\n",
       "      <td>0</td>\n",
       "      <td>0</td>\n",
       "      <td>1</td>\n",
       "      <td>0</td>\n",
       "      <td>3</td>\n",
       "      <td>0</td>\n",
       "      <td>6</td>\n",
       "      <td>5</td>\n",
       "    </tr>\n",
       "    <tr>\n",
       "      <th>lol</th>\n",
       "      <td>1</td>\n",
       "      <td>0</td>\n",
       "      <td>0</td>\n",
       "      <td>0</td>\n",
       "      <td>0</td>\n",
       "      <td>0</td>\n",
       "      <td>0</td>\n",
       "      <td>1</td>\n",
       "      <td>0</td>\n",
       "      <td>0</td>\n",
       "      <td>...</td>\n",
       "      <td>2</td>\n",
       "      <td>2</td>\n",
       "      <td>0</td>\n",
       "      <td>0</td>\n",
       "      <td>0</td>\n",
       "      <td>0</td>\n",
       "      <td>0</td>\n",
       "      <td>0</td>\n",
       "      <td>4</td>\n",
       "      <td>2</td>\n",
       "    </tr>\n",
       "    <tr>\n",
       "      <th>dont</th>\n",
       "      <td>0</td>\n",
       "      <td>0</td>\n",
       "      <td>0</td>\n",
       "      <td>0</td>\n",
       "      <td>0</td>\n",
       "      <td>0</td>\n",
       "      <td>0</td>\n",
       "      <td>0</td>\n",
       "      <td>1</td>\n",
       "      <td>0</td>\n",
       "      <td>...</td>\n",
       "      <td>1</td>\n",
       "      <td>5</td>\n",
       "      <td>0</td>\n",
       "      <td>0</td>\n",
       "      <td>3</td>\n",
       "      <td>0</td>\n",
       "      <td>1</td>\n",
       "      <td>0</td>\n",
       "      <td>5</td>\n",
       "      <td>5</td>\n",
       "    </tr>\n",
       "    <tr>\n",
       "      <th>get</th>\n",
       "      <td>0</td>\n",
       "      <td>0</td>\n",
       "      <td>0</td>\n",
       "      <td>0</td>\n",
       "      <td>0</td>\n",
       "      <td>0</td>\n",
       "      <td>0</td>\n",
       "      <td>0</td>\n",
       "      <td>0</td>\n",
       "      <td>1</td>\n",
       "      <td>...</td>\n",
       "      <td>3</td>\n",
       "      <td>4</td>\n",
       "      <td>0</td>\n",
       "      <td>0</td>\n",
       "      <td>1</td>\n",
       "      <td>0</td>\n",
       "      <td>4</td>\n",
       "      <td>0</td>\n",
       "      <td>3</td>\n",
       "      <td>2</td>\n",
       "    </tr>\n",
       "  </tbody>\n",
       "</table>\n",
       "<p>5 rows × 6167 columns</p>\n",
       "</div>"
      ],
      "text/plain": [
       "      0     1     2     3     4     5     6     7     8     9     ...  6157  \\\n",
       "like     0     0     0     0     0     0     0     1     1     0  ...     7   \n",
       "im       2     0     1     0     0     0     0     3     0     1  ...     1   \n",
       "lol      1     0     0     0     0     0     0     1     0     0  ...     2   \n",
       "dont     0     0     0     0     0     0     0     0     1     0  ...     1   \n",
       "get      0     0     0     0     0     0     0     0     0     1  ...     3   \n",
       "\n",
       "      6158  6159  6160  6161  6162  6163  6164  6165  6166  \n",
       "like     7     0     0     3     0     3     0    11     6  \n",
       "im       5     0     0     1     0     3     0     6     5  \n",
       "lol      2     0     0     0     0     0     0     4     2  \n",
       "dont     5     0     0     3     0     1     0     5     5  \n",
       "get      4     0     0     1     0     4     0     3     2  \n",
       "\n",
       "[5 rows x 6167 columns]"
      ]
     },
     "execution_count": 50,
     "metadata": {},
     "output_type": "execute_result"
    }
   ],
   "source": [
    "print('Shape of TD matrix:',convobow.shape)\n",
    "convobow.head()"
   ]
  },
  {
   "cell_type": "markdown",
   "metadata": {},
   "source": [
    "SVD again is performed on this matrix, keeping the first 100 principal components (PC). Below is a graph of the exaplained variance of the PC. Most of this data's variability is explained in the first PC."
   ]
  },
  {
   "cell_type": "code",
   "execution_count": 51,
   "metadata": {},
   "outputs": [
    {
     "data": {
      "text/plain": [
       "Text(0.5,1,'Explained Variance of first 100 PCs')"
      ]
     },
     "execution_count": 51,
     "metadata": {},
     "output_type": "execute_result"
    },
    {
     "data": {
      "image/png": "[encoded data removed]",
      "text/plain": [
       "<Figure size 432x288 with 1 Axes>"
      ]
     },
     "metadata": {},
     "output_type": "display_data"
    }
   ],
   "source": [
    "plt.bar(range(100),svd2.explained_variance_ratio_)\n",
    "plt.title('Explained Variance of first 100 PCs')"
   ]
  },
  {
   "cell_type": "markdown",
   "metadata": {},
   "source": [
    "All thats left to do here is to do cosine similarity of each row to eachother. I created a function that shows the most similar words to a given word using cosine distance. Below are some of my favorites!"
   ]
  },
  {
   "cell_type": "markdown",
   "metadata": {},
   "source": [
    "For the Game of Thrones people! We talk about them quite a bit in the group text."
   ]
  },
  {
   "cell_type": "code",
   "execution_count": 52,
   "metadata": {},
   "outputs": [
    {
     "data": {
      "text/html": [
       "<div>\n",
       "<style scoped>\n",
       "    .dataframe tbody tr th:only-of-type {\n",
       "        vertical-align: middle;\n",
       "    }\n",
       "\n",
       "    .dataframe tbody tr th {\n",
       "        vertical-align: top;\n",
       "    }\n",
       "\n",
       "    .dataframe thead th {\n",
       "        text-align: right;\n",
       "    }\n",
       "</style>\n",
       "<table border=\"1\" class=\"dataframe\">\n",
       "  <thead>\n",
       "    <tr style=\"text-align: right;\">\n",
       "      <th></th>\n",
       "      <th>compare</th>\n",
       "      <th>word2</th>\n",
       "      <th>val</th>\n",
       "    </tr>\n",
       "  </thead>\n",
       "  <tbody>\n",
       "    <tr>\n",
       "      <th>0</th>\n",
       "      <td>Most Similar</td>\n",
       "      <td>arya</td>\n",
       "      <td>0.941140</td>\n",
       "    </tr>\n",
       "    <tr>\n",
       "      <th>1</th>\n",
       "      <td>Second Most Similar</td>\n",
       "      <td>jon</td>\n",
       "      <td>0.920736</td>\n",
       "    </tr>\n",
       "    <tr>\n",
       "      <th>2</th>\n",
       "      <td>Third Most Similar</td>\n",
       "      <td>cersei</td>\n",
       "      <td>0.890753</td>\n",
       "    </tr>\n",
       "    <tr>\n",
       "      <th>3</th>\n",
       "      <td>Forth Most Similar</td>\n",
       "      <td>battle</td>\n",
       "      <td>0.847644</td>\n",
       "    </tr>\n",
       "    <tr>\n",
       "      <th>4</th>\n",
       "      <td>Fifth Most Similar</td>\n",
       "      <td>dragon</td>\n",
       "      <td>0.847189</td>\n",
       "    </tr>\n",
       "    <tr>\n",
       "      <th>5</th>\n",
       "      <td>Sixth Most Similar</td>\n",
       "      <td>king</td>\n",
       "      <td>0.829628</td>\n",
       "    </tr>\n",
       "  </tbody>\n",
       "</table>\n",
       "</div>"
      ],
      "text/plain": [
       "               compare   word2       val\n",
       "0         Most Similar    arya  0.941140\n",
       "1  Second Most Similar     jon  0.920736\n",
       "2   Third Most Similar  cersei  0.890753\n",
       "3   Forth Most Similar  battle  0.847644\n",
       "4   Fifth Most Similar  dragon  0.847189\n",
       "5   Sixth Most Similar    king  0.829628"
      ]
     },
     "execution_count": 52,
     "metadata": {},
     "output_type": "execute_result"
    }
   ],
   "source": [
    "word='throne'\n",
    "get_mostsimilar(word)"
   ]
  },
  {
   "cell_type": "code",
   "execution_count": 53,
   "metadata": {},
   "outputs": [
    {
     "data": {
      "text/html": [
       "<div>\n",
       "<style scoped>\n",
       "    .dataframe tbody tr th:only-of-type {\n",
       "        vertical-align: middle;\n",
       "    }\n",
       "\n",
       "    .dataframe tbody tr th {\n",
       "        vertical-align: top;\n",
       "    }\n",
       "\n",
       "    .dataframe thead th {\n",
       "        text-align: right;\n",
       "    }\n",
       "</style>\n",
       "<table border=\"1\" class=\"dataframe\">\n",
       "  <thead>\n",
       "    <tr style=\"text-align: right;\">\n",
       "      <th></th>\n",
       "      <th>compare</th>\n",
       "      <th>word2</th>\n",
       "      <th>val</th>\n",
       "    </tr>\n",
       "  </thead>\n",
       "  <tbody>\n",
       "    <tr>\n",
       "      <th>0</th>\n",
       "      <td>Most Similar</td>\n",
       "      <td>tyrion</td>\n",
       "      <td>0.854046</td>\n",
       "    </tr>\n",
       "    <tr>\n",
       "      <th>1</th>\n",
       "      <td>Second Most Similar</td>\n",
       "      <td>jon</td>\n",
       "      <td>0.846986</td>\n",
       "    </tr>\n",
       "    <tr>\n",
       "      <th>2</th>\n",
       "      <td>Third Most Similar</td>\n",
       "      <td>cersei</td>\n",
       "      <td>0.842689</td>\n",
       "    </tr>\n",
       "    <tr>\n",
       "      <th>3</th>\n",
       "      <td>Forth Most Similar</td>\n",
       "      <td>jaime</td>\n",
       "      <td>0.828276</td>\n",
       "    </tr>\n",
       "    <tr>\n",
       "      <th>4</th>\n",
       "      <td>Fifth Most Similar</td>\n",
       "      <td>kills</td>\n",
       "      <td>0.814526</td>\n",
       "    </tr>\n",
       "    <tr>\n",
       "      <th>5</th>\n",
       "      <td>Sixth Most Similar</td>\n",
       "      <td>character</td>\n",
       "      <td>0.809274</td>\n",
       "    </tr>\n",
       "  </tbody>\n",
       "</table>\n",
       "</div>"
      ],
      "text/plain": [
       "               compare      word2       val\n",
       "0         Most Similar     tyrion  0.854046\n",
       "1  Second Most Similar        jon  0.846986\n",
       "2   Third Most Similar     cersei  0.842689\n",
       "3   Forth Most Similar      jaime  0.828276\n",
       "4   Fifth Most Similar      kills  0.814526\n",
       "5   Sixth Most Similar  character  0.809274"
      ]
     },
     "execution_count": 53,
     "metadata": {},
     "output_type": "execute_result"
    }
   ],
   "source": [
    "word='sansa'\n",
    "get_mostsimilar(word)"
   ]
  },
  {
   "cell_type": "markdown",
   "metadata": {},
   "source": [
    "Do you remember the yanny/Laruel thing? if not, look it up!"
   ]
  },
  {
   "cell_type": "code",
   "execution_count": 54,
   "metadata": {},
   "outputs": [
    {
     "data": {
      "text/html": [
       "<div>\n",
       "<style scoped>\n",
       "    .dataframe tbody tr th:only-of-type {\n",
       "        vertical-align: middle;\n",
       "    }\n",
       "\n",
       "    .dataframe tbody tr th {\n",
       "        vertical-align: top;\n",
       "    }\n",
       "\n",
       "    .dataframe thead th {\n",
       "        text-align: right;\n",
       "    }\n",
       "</style>\n",
       "<table border=\"1\" class=\"dataframe\">\n",
       "  <thead>\n",
       "    <tr style=\"text-align: right;\">\n",
       "      <th></th>\n",
       "      <th>compare</th>\n",
       "      <th>word2</th>\n",
       "      <th>val</th>\n",
       "    </tr>\n",
       "  </thead>\n",
       "  <tbody>\n",
       "    <tr>\n",
       "      <th>0</th>\n",
       "      <td>Most Similar</td>\n",
       "      <td>laurel</td>\n",
       "      <td>0.997188</td>\n",
       "    </tr>\n",
       "    <tr>\n",
       "      <th>1</th>\n",
       "      <td>Second Most Similar</td>\n",
       "      <td>hear</td>\n",
       "      <td>0.741061</td>\n",
       "    </tr>\n",
       "    <tr>\n",
       "      <th>2</th>\n",
       "      <td>Third Most Similar</td>\n",
       "      <td>l</td>\n",
       "      <td>0.498054</td>\n",
       "    </tr>\n",
       "    <tr>\n",
       "      <th>3</th>\n",
       "      <td>Forth Most Similar</td>\n",
       "      <td>cmon</td>\n",
       "      <td>0.428033</td>\n",
       "    </tr>\n",
       "    <tr>\n",
       "      <th>4</th>\n",
       "      <td>Fifth Most Similar</td>\n",
       "      <td>word</td>\n",
       "      <td>0.425605</td>\n",
       "    </tr>\n",
       "    <tr>\n",
       "      <th>5</th>\n",
       "      <td>Sixth Most Similar</td>\n",
       "      <td>theory</td>\n",
       "      <td>0.338758</td>\n",
       "    </tr>\n",
       "  </tbody>\n",
       "</table>\n",
       "</div>"
      ],
      "text/plain": [
       "               compare   word2       val\n",
       "0         Most Similar  laurel  0.997188\n",
       "1  Second Most Similar    hear  0.741061\n",
       "2   Third Most Similar       l  0.498054\n",
       "3   Forth Most Similar    cmon  0.428033\n",
       "4   Fifth Most Similar    word  0.425605\n",
       "5   Sixth Most Similar  theory  0.338758"
      ]
     },
     "execution_count": 54,
     "metadata": {},
     "output_type": "execute_result"
    }
   ],
   "source": [
    "word='yanny'\n",
    "get_mostsimilar(word)"
   ]
  },
  {
   "cell_type": "markdown",
   "metadata": {},
   "source": [
    "We also **love** tacobell"
   ]
  },
  {
   "cell_type": "code",
   "execution_count": 55,
   "metadata": {},
   "outputs": [
    {
     "data": {
      "text/html": [
       "<div>\n",
       "<style scoped>\n",
       "    .dataframe tbody tr th:only-of-type {\n",
       "        vertical-align: middle;\n",
       "    }\n",
       "\n",
       "    .dataframe tbody tr th {\n",
       "        vertical-align: top;\n",
       "    }\n",
       "\n",
       "    .dataframe thead th {\n",
       "        text-align: right;\n",
       "    }\n",
       "</style>\n",
       "<table border=\"1\" class=\"dataframe\">\n",
       "  <thead>\n",
       "    <tr style=\"text-align: right;\">\n",
       "      <th></th>\n",
       "      <th>compare</th>\n",
       "      <th>word2</th>\n",
       "      <th>val</th>\n",
       "    </tr>\n",
       "  </thead>\n",
       "  <tbody>\n",
       "    <tr>\n",
       "      <th>0</th>\n",
       "      <td>Most Similar</td>\n",
       "      <td>chalupa</td>\n",
       "      <td>0.883058</td>\n",
       "    </tr>\n",
       "    <tr>\n",
       "      <th>1</th>\n",
       "      <td>Second Most Similar</td>\n",
       "      <td>crunchwrap</td>\n",
       "      <td>0.570667</td>\n",
       "    </tr>\n",
       "    <tr>\n",
       "      <th>2</th>\n",
       "      <td>Third Most Similar</td>\n",
       "      <td>taco</td>\n",
       "      <td>0.531691</td>\n",
       "    </tr>\n",
       "    <tr>\n",
       "      <th>3</th>\n",
       "      <td>Forth Most Similar</td>\n",
       "      <td>tjs</td>\n",
       "      <td>0.518273</td>\n",
       "    </tr>\n",
       "    <tr>\n",
       "      <th>4</th>\n",
       "      <td>Fifth Most Similar</td>\n",
       "      <td>meeting</td>\n",
       "      <td>0.425751</td>\n",
       "    </tr>\n",
       "    <tr>\n",
       "      <th>5</th>\n",
       "      <td>Sixth Most Similar</td>\n",
       "      <td>snapchat</td>\n",
       "      <td>0.386564</td>\n",
       "    </tr>\n",
       "  </tbody>\n",
       "</table>\n",
       "</div>"
      ],
      "text/plain": [
       "               compare       word2       val\n",
       "0         Most Similar     chalupa  0.883058\n",
       "1  Second Most Similar  crunchwrap  0.570667\n",
       "2   Third Most Similar        taco  0.531691\n",
       "3   Forth Most Similar         tjs  0.518273\n",
       "4   Fifth Most Similar     meeting  0.425751\n",
       "5   Sixth Most Similar    snapchat  0.386564"
      ]
     },
     "execution_count": 55,
     "metadata": {},
     "output_type": "execute_result"
    }
   ],
   "source": [
    "word='tbell'\n",
    "get_mostsimilar(word)"
   ]
  },
  {
   "cell_type": "markdown",
   "metadata": {},
   "source": [
    "**t-pain's voice** I'm gonna buy you a drannnnkkk"
   ]
  },
  {
   "cell_type": "code",
   "execution_count": 56,
   "metadata": {},
   "outputs": [
    {
     "data": {
      "text/html": [
       "<div>\n",
       "<style scoped>\n",
       "    .dataframe tbody tr th:only-of-type {\n",
       "        vertical-align: middle;\n",
       "    }\n",
       "\n",
       "    .dataframe tbody tr th {\n",
       "        vertical-align: top;\n",
       "    }\n",
       "\n",
       "    .dataframe thead th {\n",
       "        text-align: right;\n",
       "    }\n",
       "</style>\n",
       "<table border=\"1\" class=\"dataframe\">\n",
       "  <thead>\n",
       "    <tr style=\"text-align: right;\">\n",
       "      <th></th>\n",
       "      <th>compare</th>\n",
       "      <th>word2</th>\n",
       "      <th>val</th>\n",
       "    </tr>\n",
       "  </thead>\n",
       "  <tbody>\n",
       "    <tr>\n",
       "      <th>0</th>\n",
       "      <td>Most Similar</td>\n",
       "      <td>drinking</td>\n",
       "      <td>0.635505</td>\n",
       "    </tr>\n",
       "    <tr>\n",
       "      <th>1</th>\n",
       "      <td>Second Most Similar</td>\n",
       "      <td>drunk</td>\n",
       "      <td>0.617228</td>\n",
       "    </tr>\n",
       "    <tr>\n",
       "      <th>2</th>\n",
       "      <td>Third Most Similar</td>\n",
       "      <td>wine</td>\n",
       "      <td>0.614480</td>\n",
       "    </tr>\n",
       "    <tr>\n",
       "      <th>3</th>\n",
       "      <td>Forth Most Similar</td>\n",
       "      <td>distance</td>\n",
       "      <td>0.563411</td>\n",
       "    </tr>\n",
       "    <tr>\n",
       "      <th>4</th>\n",
       "      <td>Fifth Most Similar</td>\n",
       "      <td>tequila</td>\n",
       "      <td>0.557707</td>\n",
       "    </tr>\n",
       "    <tr>\n",
       "      <th>5</th>\n",
       "      <td>Sixth Most Similar</td>\n",
       "      <td>snapchat</td>\n",
       "      <td>0.541680</td>\n",
       "    </tr>\n",
       "  </tbody>\n",
       "</table>\n",
       "</div>"
      ],
      "text/plain": [
       "               compare     word2       val\n",
       "0         Most Similar  drinking  0.635505\n",
       "1  Second Most Similar     drunk  0.617228\n",
       "2   Third Most Similar      wine  0.614480\n",
       "3   Forth Most Similar  distance  0.563411\n",
       "4   Fifth Most Similar   tequila  0.557707\n",
       "5   Sixth Most Similar  snapchat  0.541680"
      ]
     },
     "execution_count": 56,
     "metadata": {},
     "output_type": "execute_result"
    }
   ],
   "source": [
    "word='drink'\n",
    "get_mostsimilar(word)"
   ]
  },
  {
   "cell_type": "markdown",
   "metadata": {},
   "source": [
    "Steak fries, or just potatoes in general, are great for hangovers"
   ]
  },
  {
   "cell_type": "code",
   "execution_count": 57,
   "metadata": {},
   "outputs": [
    {
     "data": {
      "text/html": [
       "<div>\n",
       "<style scoped>\n",
       "    .dataframe tbody tr th:only-of-type {\n",
       "        vertical-align: middle;\n",
       "    }\n",
       "\n",
       "    .dataframe tbody tr th {\n",
       "        vertical-align: top;\n",
       "    }\n",
       "\n",
       "    .dataframe thead th {\n",
       "        text-align: right;\n",
       "    }\n",
       "</style>\n",
       "<table border=\"1\" class=\"dataframe\">\n",
       "  <thead>\n",
       "    <tr style=\"text-align: right;\">\n",
       "      <th></th>\n",
       "      <th>compare</th>\n",
       "      <th>word2</th>\n",
       "      <th>val</th>\n",
       "    </tr>\n",
       "  </thead>\n",
       "  <tbody>\n",
       "    <tr>\n",
       "      <th>0</th>\n",
       "      <td>Most Similar</td>\n",
       "      <td>steak</td>\n",
       "      <td>0.992802</td>\n",
       "    </tr>\n",
       "    <tr>\n",
       "      <th>1</th>\n",
       "      <td>Second Most Similar</td>\n",
       "      <td>romantic</td>\n",
       "      <td>0.924311</td>\n",
       "    </tr>\n",
       "    <tr>\n",
       "      <th>2</th>\n",
       "      <td>Third Most Similar</td>\n",
       "      <td>potato</td>\n",
       "      <td>0.885539</td>\n",
       "    </tr>\n",
       "    <tr>\n",
       "      <th>3</th>\n",
       "      <td>Forth Most Similar</td>\n",
       "      <td>bus</td>\n",
       "      <td>0.855631</td>\n",
       "    </tr>\n",
       "    <tr>\n",
       "      <th>4</th>\n",
       "      <td>Fifth Most Similar</td>\n",
       "      <td>hungover</td>\n",
       "      <td>0.725536</td>\n",
       "    </tr>\n",
       "    <tr>\n",
       "      <th>5</th>\n",
       "      <td>Sixth Most Similar</td>\n",
       "      <td>crunch</td>\n",
       "      <td>0.681739</td>\n",
       "    </tr>\n",
       "  </tbody>\n",
       "</table>\n",
       "</div>"
      ],
      "text/plain": [
       "               compare     word2       val\n",
       "0         Most Similar     steak  0.992802\n",
       "1  Second Most Similar  romantic  0.924311\n",
       "2   Third Most Similar    potato  0.885539\n",
       "3   Forth Most Similar       bus  0.855631\n",
       "4   Fifth Most Similar  hungover  0.725536\n",
       "5   Sixth Most Similar    crunch  0.681739"
      ]
     },
     "execution_count": 57,
     "metadata": {},
     "output_type": "execute_result"
    }
   ],
   "source": [
    "word='fries'\n",
    "get_mostsimilar(word)"
   ]
  },
  {
   "cell_type": "markdown",
   "metadata": {},
   "source": [
    "Some politics"
   ]
  },
  {
   "cell_type": "code",
   "execution_count": 58,
   "metadata": {},
   "outputs": [
    {
     "data": {
      "text/html": [
       "<div>\n",
       "<style scoped>\n",
       "    .dataframe tbody tr th:only-of-type {\n",
       "        vertical-align: middle;\n",
       "    }\n",
       "\n",
       "    .dataframe tbody tr th {\n",
       "        vertical-align: top;\n",
       "    }\n",
       "\n",
       "    .dataframe thead th {\n",
       "        text-align: right;\n",
       "    }\n",
       "</style>\n",
       "<table border=\"1\" class=\"dataframe\">\n",
       "  <thead>\n",
       "    <tr style=\"text-align: right;\">\n",
       "      <th></th>\n",
       "      <th>compare</th>\n",
       "      <th>word2</th>\n",
       "      <th>val</th>\n",
       "    </tr>\n",
       "  </thead>\n",
       "  <tbody>\n",
       "    <tr>\n",
       "      <th>0</th>\n",
       "      <td>Most Similar</td>\n",
       "      <td>hillary</td>\n",
       "      <td>0.844054</td>\n",
       "    </tr>\n",
       "    <tr>\n",
       "      <th>1</th>\n",
       "      <td>Second Most Similar</td>\n",
       "      <td>supporters</td>\n",
       "      <td>0.836752</td>\n",
       "    </tr>\n",
       "    <tr>\n",
       "      <th>2</th>\n",
       "      <td>Third Most Similar</td>\n",
       "      <td>candidate</td>\n",
       "      <td>0.822273</td>\n",
       "    </tr>\n",
       "    <tr>\n",
       "      <th>3</th>\n",
       "      <td>Forth Most Similar</td>\n",
       "      <td>warren</td>\n",
       "      <td>0.781491</td>\n",
       "    </tr>\n",
       "    <tr>\n",
       "      <th>4</th>\n",
       "      <td>Fifth Most Similar</td>\n",
       "      <td>democrats</td>\n",
       "      <td>0.752936</td>\n",
       "    </tr>\n",
       "    <tr>\n",
       "      <th>5</th>\n",
       "      <td>Sixth Most Similar</td>\n",
       "      <td>totally</td>\n",
       "      <td>0.744225</td>\n",
       "    </tr>\n",
       "  </tbody>\n",
       "</table>\n",
       "</div>"
      ],
      "text/plain": [
       "               compare       word2       val\n",
       "0         Most Similar     hillary  0.844054\n",
       "1  Second Most Similar  supporters  0.836752\n",
       "2   Third Most Similar   candidate  0.822273\n",
       "3   Forth Most Similar      warren  0.781491\n",
       "4   Fifth Most Similar   democrats  0.752936\n",
       "5   Sixth Most Similar     totally  0.744225"
      ]
     },
     "execution_count": 58,
     "metadata": {},
     "output_type": "execute_result"
    }
   ],
   "source": [
    "word='bernie'\n",
    "get_mostsimilar(word)"
   ]
  },
  {
   "cell_type": "markdown",
   "metadata": {},
   "source": [
    "I found it facinating that 'frozen' got associated with cream! The SVD must have noticed that 'ICE' and 'FROZEN' are used a lot together, and as a result, determined that frozen/cream belongs in the same group!"
   ]
  },
  {
   "cell_type": "code",
   "execution_count": 59,
   "metadata": {},
   "outputs": [
    {
     "data": {
      "text/html": [
       "<div>\n",
       "<style scoped>\n",
       "    .dataframe tbody tr th:only-of-type {\n",
       "        vertical-align: middle;\n",
       "    }\n",
       "\n",
       "    .dataframe tbody tr th {\n",
       "        vertical-align: top;\n",
       "    }\n",
       "\n",
       "    .dataframe thead th {\n",
       "        text-align: right;\n",
       "    }\n",
       "</style>\n",
       "<table border=\"1\" class=\"dataframe\">\n",
       "  <thead>\n",
       "    <tr style=\"text-align: right;\">\n",
       "      <th></th>\n",
       "      <th>compare</th>\n",
       "      <th>word2</th>\n",
       "      <th>val</th>\n",
       "    </tr>\n",
       "  </thead>\n",
       "  <tbody>\n",
       "    <tr>\n",
       "      <th>0</th>\n",
       "      <td>Most Similar</td>\n",
       "      <td>ice</td>\n",
       "      <td>0.970442</td>\n",
       "    </tr>\n",
       "    <tr>\n",
       "      <th>1</th>\n",
       "      <td>Second Most Similar</td>\n",
       "      <td>frozen</td>\n",
       "      <td>0.957203</td>\n",
       "    </tr>\n",
       "    <tr>\n",
       "      <th>2</th>\n",
       "      <td>Third Most Similar</td>\n",
       "      <td>pint</td>\n",
       "      <td>0.954999</td>\n",
       "    </tr>\n",
       "    <tr>\n",
       "      <th>3</th>\n",
       "      <td>Forth Most Similar</td>\n",
       "      <td>soup</td>\n",
       "      <td>0.861188</td>\n",
       "    </tr>\n",
       "    <tr>\n",
       "      <th>4</th>\n",
       "      <td>Fifth Most Similar</td>\n",
       "      <td>joke</td>\n",
       "      <td>0.763248</td>\n",
       "    </tr>\n",
       "    <tr>\n",
       "      <th>5</th>\n",
       "      <td>Sixth Most Similar</td>\n",
       "      <td>homemade</td>\n",
       "      <td>0.735907</td>\n",
       "    </tr>\n",
       "  </tbody>\n",
       "</table>\n",
       "</div>"
      ],
      "text/plain": [
       "               compare     word2       val\n",
       "0         Most Similar       ice  0.970442\n",
       "1  Second Most Similar    frozen  0.957203\n",
       "2   Third Most Similar      pint  0.954999\n",
       "3   Forth Most Similar      soup  0.861188\n",
       "4   Fifth Most Similar      joke  0.763248\n",
       "5   Sixth Most Similar  homemade  0.735907"
      ]
     },
     "execution_count": 59,
     "metadata": {},
     "output_type": "execute_result"
    }
   ],
   "source": [
    "word='cream'\n",
    "get_mostsimilar(word)"
   ]
  },
  {
   "cell_type": "markdown",
   "metadata": {},
   "source": [
    "NO idea why ramen (OR ARRESTED?) got into this mix, but I don't hate it. Ramen is, afterall, heavenly. <br> \n",
    "I think this year my wife and I had ramen on easter, and that is why it came up."
   ]
  },
  {
   "cell_type": "code",
   "execution_count": 60,
   "metadata": {},
   "outputs": [
    {
     "data": {
      "text/html": [
       "<div>\n",
       "<style scoped>\n",
       "    .dataframe tbody tr th:only-of-type {\n",
       "        vertical-align: middle;\n",
       "    }\n",
       "\n",
       "    .dataframe tbody tr th {\n",
       "        vertical-align: top;\n",
       "    }\n",
       "\n",
       "    .dataframe thead th {\n",
       "        text-align: right;\n",
       "    }\n",
       "</style>\n",
       "<table border=\"1\" class=\"dataframe\">\n",
       "  <thead>\n",
       "    <tr style=\"text-align: right;\">\n",
       "      <th></th>\n",
       "      <th>compare</th>\n",
       "      <th>word2</th>\n",
       "      <th>val</th>\n",
       "    </tr>\n",
       "  </thead>\n",
       "  <tbody>\n",
       "    <tr>\n",
       "      <th>0</th>\n",
       "      <td>Most Similar</td>\n",
       "      <td>christianity</td>\n",
       "      <td>0.996063</td>\n",
       "    </tr>\n",
       "    <tr>\n",
       "      <th>1</th>\n",
       "      <td>Second Most Similar</td>\n",
       "      <td>ramen</td>\n",
       "      <td>0.994380</td>\n",
       "    </tr>\n",
       "    <tr>\n",
       "      <th>2</th>\n",
       "      <td>Third Most Similar</td>\n",
       "      <td>david</td>\n",
       "      <td>0.976857</td>\n",
       "    </tr>\n",
       "    <tr>\n",
       "      <th>3</th>\n",
       "      <td>Forth Most Similar</td>\n",
       "      <td>peak</td>\n",
       "      <td>0.972345</td>\n",
       "    </tr>\n",
       "    <tr>\n",
       "      <th>4</th>\n",
       "      <td>Fifth Most Similar</td>\n",
       "      <td>greek</td>\n",
       "      <td>0.968833</td>\n",
       "    </tr>\n",
       "    <tr>\n",
       "      <th>5</th>\n",
       "      <td>Sixth Most Similar</td>\n",
       "      <td>arrested</td>\n",
       "      <td>0.960647</td>\n",
       "    </tr>\n",
       "  </tbody>\n",
       "</table>\n",
       "</div>"
      ],
      "text/plain": [
       "               compare         word2       val\n",
       "0         Most Similar  christianity  0.996063\n",
       "1  Second Most Similar         ramen  0.994380\n",
       "2   Third Most Similar         david  0.976857\n",
       "3   Forth Most Similar          peak  0.972345\n",
       "4   Fifth Most Similar         greek  0.968833\n",
       "5   Sixth Most Similar      arrested  0.960647"
      ]
     },
     "execution_count": 60,
     "metadata": {},
     "output_type": "execute_result"
    }
   ],
   "source": [
    "word='easter'\n",
    "get_mostsimilar(word)"
   ]
  },
  {
   "cell_type": "markdown",
   "metadata": {},
   "source": [
    "## Sentiment Analysis"
   ]
  },
  {
   "cell_type": "markdown",
   "metadata": {},
   "source": [
    "Finally, I wanted to create a model that can perform sentiment analysis on the groupchat dataset.\n",
    "\n",
    "What is tricky about this, tough, is that I don't really know what the sentiment is for text message. I decided to use other dataset to train a machine learning model."
   ]
  },
  {
   "cell_type": "markdown",
   "metadata": {},
   "source": [
    "#### Approach:\n",
    "\n",
    "1. Get new data to create and evaluate the model\n",
    "2. Establish a baseline model (bayes will work fine)\n",
    "3. Create a model that performs better than the baseline model (using embedding matrices/neural networks)\n",
    "4. Save the model to be used on the groupchat dataset"
   ]
  },
  {
   "cell_type": "markdown",
   "metadata": {},
   "source": [
    "#### The New Data in Town"
   ]
  },
  {
   "cell_type": "markdown",
   "metadata": {},
   "source": [
    "Due there being so many samples, I will be using the IMDB dataset to train my machine learning model. The dataset contains 50K movie reviews, each with a label stating whether the review was positive, or negative. The link to the dataset can be found below:\n",
    "\n",
    "https://www.kaggle.com/lakshmi25npathi/imdb-dataset-of-50k-movie-reviews/data?select=IMDB+Dataset.csv\n",
    "\n",
    "The struggle with just using the IMDB dataset is that a movie review is going to be much much longer than a text message. Because I am doing sentiment analysis on text message data, I decided to combine the movie review data with a similar, smaller dataset of tweets about airlines.\n",
    "\n",
    "https://www.kaggle.com/crowdflower/twitter-airline-sentiment?select=Tweets.csv"
   ]
  },
  {
   "cell_type": "markdown",
   "metadata": {},
   "source": [
    "For the IMBD dataset, I only kept reviews that were less than 200 words, in an effort to keep smaller reviews only."
   ]
  },
  {
   "cell_type": "code",
   "execution_count": 61,
   "metadata": {},
   "outputs": [
    {
     "name": "stdout",
     "output_type": "stream",
     "text": [
      "Shape of IMDB data: (29415, 2)\n",
      "Top 5 Records:\n",
      "Aggregation Around Target Value\n",
      "            text\n",
      "sentiment       \n",
      "negative   14703\n",
      "positive   14712\n",
      "\n"
     ]
    },
    {
     "data": {
      "text/html": [
       "<div>\n",
       "<style scoped>\n",
       "    .dataframe tbody tr th:only-of-type {\n",
       "        vertical-align: middle;\n",
       "    }\n",
       "\n",
       "    .dataframe tbody tr th {\n",
       "        vertical-align: top;\n",
       "    }\n",
       "\n",
       "    .dataframe thead th {\n",
       "        text-align: right;\n",
       "    }\n",
       "</style>\n",
       "<table border=\"1\" class=\"dataframe\">\n",
       "  <thead>\n",
       "    <tr style=\"text-align: right;\">\n",
       "      <th></th>\n",
       "      <th>text</th>\n",
       "      <th>sentiment</th>\n",
       "    </tr>\n",
       "  </thead>\n",
       "  <tbody>\n",
       "    <tr>\n",
       "      <th>1</th>\n",
       "      <td>A wonderful little production. &lt;br /&gt;&lt;br /&gt;The...</td>\n",
       "      <td>positive</td>\n",
       "    </tr>\n",
       "    <tr>\n",
       "      <th>2</th>\n",
       "      <td>I thought this was a wonderful way to spend ti...</td>\n",
       "      <td>positive</td>\n",
       "    </tr>\n",
       "    <tr>\n",
       "      <th>3</th>\n",
       "      <td>Basically there's a family where a little boy ...</td>\n",
       "      <td>negative</td>\n",
       "    </tr>\n",
       "    <tr>\n",
       "      <th>5</th>\n",
       "      <td>Probably my all-time favorite movie, a story o...</td>\n",
       "      <td>positive</td>\n",
       "    </tr>\n",
       "    <tr>\n",
       "      <th>6</th>\n",
       "      <td>I sure would like to see a resurrection of a u...</td>\n",
       "      <td>positive</td>\n",
       "    </tr>\n",
       "  </tbody>\n",
       "</table>\n",
       "</div>"
      ],
      "text/plain": [
       "                                                text sentiment\n",
       "1  A wonderful little production. <br /><br />The...  positive\n",
       "2  I thought this was a wonderful way to spend ti...  positive\n",
       "3  Basically there's a family where a little boy ...  negative\n",
       "5  Probably my all-time favorite movie, a story o...  positive\n",
       "6  I sure would like to see a resurrection of a u...  positive"
      ]
     },
     "execution_count": 61,
     "metadata": {},
     "output_type": "execute_result"
    }
   ],
   "source": [
    "print('Shape of IMDB data:',IMDB.shape)\n",
    "print('Top 5 Records:')\n",
    "print('Aggregation Around Target Value')\n",
    "print(IMDBdisplay)\n",
    "print('')\n",
    "IMDB.head()"
   ]
  },
  {
   "cell_type": "markdown",
   "metadata": {},
   "source": [
    "The twitter dataset was very skewed towards negative tweets (people must really hate airlines), and had some \"neutral\" tags instead of just postive/negative. I removed all of the neutral tags, and most of the negative tags from the twitter dataset. **(fig.7)**"
   ]
  },
  {
   "cell_type": "code",
   "execution_count": 62,
   "metadata": {},
   "outputs": [
    {
     "name": "stdout",
     "output_type": "stream",
     "text": [
      "Shape of Tweets data: (5000, 2)\n",
      "Top 5 Records:\n",
      "Aggregation Around Target Value\n",
      "           text\n",
      "sentiment      \n",
      "negative   2637\n",
      "positive   2363\n"
     ]
    },
    {
     "data": {
      "text/html": [
       "<div>\n",
       "<style scoped>\n",
       "    .dataframe tbody tr th:only-of-type {\n",
       "        vertical-align: middle;\n",
       "    }\n",
       "\n",
       "    .dataframe tbody tr th {\n",
       "        vertical-align: top;\n",
       "    }\n",
       "\n",
       "    .dataframe thead th {\n",
       "        text-align: right;\n",
       "    }\n",
       "</style>\n",
       "<table border=\"1\" class=\"dataframe\">\n",
       "  <thead>\n",
       "    <tr style=\"text-align: right;\">\n",
       "      <th></th>\n",
       "      <th>text</th>\n",
       "      <th>sentiment</th>\n",
       "    </tr>\n",
       "  </thead>\n",
       "  <tbody>\n",
       "    <tr>\n",
       "      <th>1</th>\n",
       "      <td>@VirginAmerica plus you've added commercials t...</td>\n",
       "      <td>positive</td>\n",
       "    </tr>\n",
       "    <tr>\n",
       "      <th>11164</th>\n",
       "      <td>@USAirways #success made flight , please thank...</td>\n",
       "      <td>positive</td>\n",
       "    </tr>\n",
       "    <tr>\n",
       "      <th>11156</th>\n",
       "      <td>@USAirways thanks</td>\n",
       "      <td>positive</td>\n",
       "    </tr>\n",
       "    <tr>\n",
       "      <th>4566</th>\n",
       "      <td>@SouthwestAir It's all good. Thanks!</td>\n",
       "      <td>positive</td>\n",
       "    </tr>\n",
       "    <tr>\n",
       "      <th>4567</th>\n",
       "      <td>@SouthwestAir thank you :)</td>\n",
       "      <td>positive</td>\n",
       "    </tr>\n",
       "  </tbody>\n",
       "</table>\n",
       "</div>"
      ],
      "text/plain": [
       "                                                    text sentiment\n",
       "1      @VirginAmerica plus you've added commercials t...  positive\n",
       "11164  @USAirways #success made flight , please thank...  positive\n",
       "11156                                  @USAirways thanks  positive\n",
       "4566                @SouthwestAir It's all good. Thanks!  positive\n",
       "4567                          @SouthwestAir thank you :)  positive"
      ]
     },
     "execution_count": 62,
     "metadata": {},
     "output_type": "execute_result"
    }
   ],
   "source": [
    "print('Shape of Tweets data:',TWEETS.shape)\n",
    "print('Top 5 Records:')\n",
    "print('Aggregation Around Target Value')\n",
    "print(TWEETSdisplay)\n",
    "TWEETS.head()"
   ]
  },
  {
   "cell_type": "markdown",
   "metadata": {},
   "source": [
    "Finally, I combined the two together. Below is the size of the new dataset"
   ]
  },
  {
   "cell_type": "code",
   "execution_count": 63,
   "metadata": {},
   "outputs": [
    {
     "data": {
      "text/plain": [
       "(34415, 3)"
      ]
     },
     "execution_count": 63,
     "metadata": {},
     "output_type": "execute_result"
    }
   ],
   "source": [
    "dfnew.shape"
   ]
  },
  {
   "cell_type": "markdown",
   "metadata": {},
   "source": [
    "#### Baseline Model"
   ]
  },
  {
   "cell_type": "markdown",
   "metadata": {},
   "source": [
    "First, after cleaning the data, I wanted to establish a baseline model. I throw the data into a BOW matrix ( for the third and final time). **(fig.8)**"
   ]
  },
  {
   "cell_type": "code",
   "execution_count": 64,
   "metadata": {},
   "outputs": [
    {
     "name": "stdout",
     "output_type": "stream",
     "text": [
      "shape of matrix: (34415, 3000)\n"
     ]
    }
   ],
   "source": [
    "reviews=dfnew['textclean'].values\n",
    "\n",
    "FULLCORP2=get_corp(reviews, '')\n",
    "\n",
    "BOW=get_bow(FULLCORP2,3000)\n",
    "\n",
    "TDMatrixsent=bagofwords(reviews,BOW)\n",
    "print('shape of matrix:',TDMatrixsent.shape)"
   ]
  },
  {
   "cell_type": "markdown",
   "metadata": {},
   "source": [
    "From there, I split the data into train/test dataset, put the data into a bayes machine learning model, and analyze the results"
   ]
  },
  {
   "cell_type": "code",
   "execution_count": 65,
   "metadata": {},
   "outputs": [
    {
     "data": {
      "text/plain": [
       "0.8251975825197583"
      ]
     },
     "execution_count": 65,
     "metadata": {},
     "output_type": "execute_result"
    }
   ],
   "source": [
    "gnb.fit(X_train2,y_train2)\n",
    "gnb.score(X_test2,y_test2)"
   ]
  },
  {
   "cell_type": "markdown",
   "metadata": {},
   "source": [
    "Looks like 82.5% is the number to beat!"
   ]
  },
  {
   "cell_type": "markdown",
   "metadata": {},
   "source": [
    "#### Create a Sentiment Model"
   ]
  },
  {
   "cell_type": "markdown",
   "metadata": {},
   "source": [
    "Let's see if we can create a more robust model using neural networks with an embedding layer. **(fig.9)**"
   ]
  },
  {
   "cell_type": "markdown",
   "metadata": {},
   "source": [
    "To make an embedding layer, we need to label encode each word. Notice the differences between the first element in \"reviews\", and \"padded_reviews\". \"Padded reviews\" is a label encoded version of \"reviews\". The data is padded with 0s at the end to ensure all reviews are the same length."
   ]
  },
  {
   "cell_type": "code",
   "execution_count": 66,
   "metadata": {},
   "outputs": [
    {
     "data": {
      "text/plain": [
       "' a wonderful little production br br the filming technique is very unassuming very oldtimebbc fashion and gives a comforting and sometimes discomforting sense of realism to the entire piece br br the actors are extremely well chosen michael sheen not only has got all the polari but he has all the voices down pat too you can truly see the seamless editing guided by the references to williams diary entries not only is it well worth the watching but it is a terrificly written and performed piece a masterful production about one of the great masters of comedy and his life br br the realism really comes home with the little things the fantasy of the guard which rather than use the traditional dream techniques remains solid then disappears it plays on our knowledge and our senses particularly with the scenes concerning orton and halliwell and the sets particularly of their flat with halliwells murals decorating every surface are terribly well done '"
      ]
     },
     "execution_count": 66,
     "metadata": {},
     "output_type": "execute_result"
    }
   ],
   "source": [
    "reviews[0]"
   ]
  },
  {
   "cell_type": "code",
   "execution_count": 67,
   "metadata": {},
   "outputs": [
    {
     "data": {
      "text/plain": [
       "array([   1,  286,  115,  361,   13,   13,    0, 1273, 3925,    5,   45,\n",
       "         45, 1733,    2,  447,    1,    2,  528,  316,    3, 1892,    4,\n",
       "          0,  426,  355,   13,   13,    0,  126,   23,  488,   71, 2340,\n",
       "        535, 3511,   21,   62,   46,  158,   27,    0,   15,   39,   46,\n",
       "         27,    0, 1955,  211, 3112,   97,   19,   61,  323,   50,    0,\n",
       "        778,   37,    0, 1806,    4, 1514,   21,   62,    5,    8,   71,\n",
       "        195,    0,  116,   15,    8,    5,    1,  415,    2, 2423,  355,\n",
       "          1, 3740,  361,   41,   25,    3,    0,   59, 3512,    3,  173,\n",
       "          2,   32,  120,   13,   13,    0, 1892,   51,  332,  378,   16,\n",
       "          0,  115,  199,    0, 1117,    3,    0, 3870,   79,  291,   76,\n",
       "        396,    0, 2370, 1159, 3183, 1491, 1100,  105,    8,  299,   20,\n",
       "        261, 2092,    2,  261, 4351,  656,   16,    0,  133, 3710,    2,\n",
       "          2,    0,  828,  656,    3,   81, 1034,   16,  156, 2480,   23,\n",
       "       1607,   71,  200,    0,    0,    0,    0,    0,    0,    0,    0,\n",
       "          0,    0,    0,    0,    0,    0,    0,    0,    0,    0,    0,\n",
       "          0,    0,    0,    0,    0,    0,    0,    0,    0,    0,    0,\n",
       "          0,    0,    0,    0,    0,    0,    0,    0,    0,    0,    0,\n",
       "          0,    0,    0,    0,    0,    0,    0,    0,    0,    0,    0,\n",
       "          0,    0,    0,    0,    0,    0,    0,    0,    0,    0,    0,\n",
       "          0,    0,    0,    0,    0,    0,    0,    0,    0,    0,    0,\n",
       "          0,    0,    0,    0,    0,    0,    0,    0,    0,    0,    0,\n",
       "          0,    0,    0,    0,    0,    0,    0,    0,    0,    0,    0,\n",
       "          0,    0,    0,    0,    0,    0,    0,    0])"
      ]
     },
     "execution_count": 67,
     "metadata": {},
     "output_type": "execute_result"
    }
   ],
   "source": [
    "padded_reviews[0]"
   ]
  },
  {
   "cell_type": "markdown",
   "metadata": {},
   "source": [
    "Next we build a model, train it, and see if it does better. The model has an embedding layer, a convolutional/max pooling layer, a layer that flattens the data, a dense layer of 16 neurons, and one final output layer."
   ]
  },
  {
   "cell_type": "code",
   "execution_count": 68,
   "metadata": {},
   "outputs": [
    {
     "name": "stdout",
     "output_type": "stream",
     "text": [
      "Model: \"sequential\"\n",
      "_________________________________________________________________\n",
      "Layer (type)                 Output Shape              Param #   \n",
      "=================================================================\n",
      "embedding (Embedding)        (None, 250, 5)            25000     \n",
      "_________________________________________________________________\n",
      "conv1d (Conv1D)              (None, 248, 128)          2048      \n",
      "_________________________________________________________________\n",
      "global_max_pooling1d (Global (None, 128)               0         \n",
      "_________________________________________________________________\n",
      "flatten (Flatten)            (None, 128)               0         \n",
      "_________________________________________________________________\n",
      "dense (Dense)                (None, 16)                2064      \n",
      "_________________________________________________________________\n",
      "dense_1 (Dense)              (None, 1)                 17        \n",
      "=================================================================\n",
      "Total params: 29,129\n",
      "Trainable params: 29,129\n",
      "Non-trainable params: 0\n",
      "_________________________________________________________________\n"
     ]
    }
   ],
   "source": [
    "model.summary()"
   ]
  },
  {
   "cell_type": "markdown",
   "metadata": {},
   "source": [
    "The optimizer was adam, and the loss binary crossentropy "
   ]
  },
  {
   "cell_type": "code",
   "execution_count": 69,
   "metadata": {},
   "outputs": [
    {
     "name": "stdout",
     "output_type": "stream",
     "text": [
      "Train on 25811 samples\n",
      "Epoch 1/6\n",
      "25811/25811 [==============================] - 7s 271us/sample - loss: 0.1051 - acc: 0.9632\n",
      "Epoch 2/6\n",
      "25811/25811 [==============================] - 7s 274us/sample - loss: 0.0857 - acc: 0.9707\n",
      "Epoch 3/6\n",
      "25811/25811 [==============================] - 7s 263us/sample - loss: 0.0680 - acc: 0.9788\n",
      "Epoch 4/6\n",
      "25811/25811 [==============================] - 7s 266us/sample - loss: 0.0535 - acc: 0.9828s - loss: 0. - ETA: 1s - lo\n",
      "Epoch 5/6\n",
      "25811/25811 [==============================] - 7s 264us/sample - loss: 0.0394 - acc: 0.9885\n",
      "Epoch 6/6\n",
      "25811/25811 [==============================] - 7s 264us/sample - loss: 0.0313 - acc: 0.9916\n",
      "8604/8604 [==============================] - 1s 99us/sample - loss: 0.6205 - acc: 0.8606\n"
     ]
    },
    {
     "data": {
      "text/plain": [
       "[0.6204582663025207, 0.8606462]"
      ]
     },
     "execution_count": 69,
     "metadata": {},
     "output_type": "execute_result"
    }
   ],
   "source": [
    "model.fit(X_train,y_train,batch_size=64,epochs=6)\n",
    "model.evaluate(X_test,y_test)"
   ]
  },
  {
   "cell_type": "markdown",
   "metadata": {},
   "source": [
    "#### Sentiment on the GroupChat"
   ]
  },
  {
   "cell_type": "markdown",
   "metadata": {},
   "source": [
    "Looks like we did better than the bayes model (86.1%)! Now its time to try it on the groupchat data! **(fig.10)**"
   ]
  },
  {
   "cell_type": "code",
   "execution_count": 70,
   "metadata": {},
   "outputs": [
    {
     "name": "stdout",
     "output_type": "stream",
     "text": [
      "51886\n",
      "51886\n"
     ]
    }
   ],
   "source": [
    "pred=model.predict(padded_reviews2)\n",
    "print(len(pred))\n",
    "print(len(messages))"
   ]
  },
  {
   "cell_type": "markdown",
   "metadata": {},
   "source": [
    "Below is the first 5 records of the final table, containing a sentiment score of each text, a probability score, and a label ecode of the text."
   ]
  },
  {
   "cell_type": "code",
   "execution_count": 71,
   "metadata": {},
   "outputs": [
    {
     "data": {
      "text/html": [
       "<div>\n",
       "<style scoped>\n",
       "    .dataframe tbody tr th:only-of-type {\n",
       "        vertical-align: middle;\n",
       "    }\n",
       "\n",
       "    .dataframe tbody tr th {\n",
       "        vertical-align: top;\n",
       "    }\n",
       "\n",
       "    .dataframe thead th {\n",
       "        text-align: right;\n",
       "    }\n",
       "</style>\n",
       "<table border=\"1\" class=\"dataframe\">\n",
       "  <thead>\n",
       "    <tr style=\"text-align: right;\">\n",
       "      <th></th>\n",
       "      <th>reviews</th>\n",
       "      <th>review_labels</th>\n",
       "      <th>pred</th>\n",
       "    </tr>\n",
       "  </thead>\n",
       "  <tbody>\n",
       "    <tr>\n",
       "      <th>0</th>\n",
       "      <td>im thinking of getting a vip table at a club ...</td>\n",
       "      <td>[122, 476, 3, 386, 1, 2875, 28, 1, 1450, 14, 4...</td>\n",
       "      <td>0.994493</td>\n",
       "    </tr>\n",
       "    <tr>\n",
       "      <th>1</th>\n",
       "      <td>damn shawty</td>\n",
       "      <td>[1443]</td>\n",
       "      <td>0.963212</td>\n",
       "    </tr>\n",
       "    <tr>\n",
       "      <th>2</th>\n",
       "      <td>im not paying for it lol</td>\n",
       "      <td>[122, 21, 2289, 14, 8, 3044]</td>\n",
       "      <td>0.977520</td>\n",
       "    </tr>\n",
       "    <tr>\n",
       "      <th>3</th>\n",
       "      <td>donde</td>\n",
       "      <td>[]</td>\n",
       "      <td>0.906987</td>\n",
       "    </tr>\n",
       "    <tr>\n",
       "      <th>4</th>\n",
       "      <td>i might be chaperoning the senior trip to dis...</td>\n",
       "      <td>[6, 253, 24, 0, 1035, 4, 791]</td>\n",
       "      <td>0.826315</td>\n",
       "    </tr>\n",
       "  </tbody>\n",
       "</table>\n",
       "</div>"
      ],
      "text/plain": [
       "                                             reviews  \\\n",
       "0   im thinking of getting a vip table at a club ...   \n",
       "1                                       damn shawty    \n",
       "2                          im not paying for it lol    \n",
       "3                                             donde    \n",
       "4   i might be chaperoning the senior trip to dis...   \n",
       "\n",
       "                                       review_labels      pred  \n",
       "0  [122, 476, 3, 386, 1, 2875, 28, 1, 1450, 14, 4...  0.994493  \n",
       "1                                             [1443]  0.963212  \n",
       "2                       [122, 21, 2289, 14, 8, 3044]  0.977520  \n",
       "3                                                 []  0.906987  \n",
       "4                      [6, 253, 24, 0, 1035, 4, 791]  0.826315  "
      ]
     },
     "execution_count": 71,
     "metadata": {},
     "output_type": "execute_result"
    }
   ],
   "source": [
    "FINAL.head()"
   ]
  },
  {
   "cell_type": "markdown",
   "metadata": {},
   "source": [
    "Some texts that I'd expect to have a low sentiment value: texts with the word **'worst'** in it"
   ]
  },
  {
   "cell_type": "code",
   "execution_count": 72,
   "metadata": {},
   "outputs": [
    {
     "data": {
      "text/html": [
       "<div>\n",
       "<style scoped>\n",
       "    .dataframe tbody tr th:only-of-type {\n",
       "        vertical-align: middle;\n",
       "    }\n",
       "\n",
       "    .dataframe tbody tr th {\n",
       "        vertical-align: top;\n",
       "    }\n",
       "\n",
       "    .dataframe thead th {\n",
       "        text-align: right;\n",
       "    }\n",
       "</style>\n",
       "<table border=\"1\" class=\"dataframe\">\n",
       "  <thead>\n",
       "    <tr style=\"text-align: right;\">\n",
       "      <th></th>\n",
       "      <th>reviews</th>\n",
       "      <th>review_labels</th>\n",
       "      <th>pred</th>\n",
       "    </tr>\n",
       "  </thead>\n",
       "  <tbody>\n",
       "    <tr>\n",
       "      <th>650</th>\n",
       "      <td>id be open and honest with her worst case sce...</td>\n",
       "      <td>[401, 24, 965, 2, 1074, 16, 63, 170, 489, 2303...</td>\n",
       "      <td>0.008103</td>\n",
       "    </tr>\n",
       "    <tr>\n",
       "      <th>845</th>\n",
       "      <td>oohh texting can be the worst sometimes and t...</td>\n",
       "      <td>[61, 24, 0, 170, 528, 2, 105, 19, 298, 147, 16...</td>\n",
       "      <td>0.004165</td>\n",
       "    </tr>\n",
       "    <tr>\n",
       "      <th>2062</th>\n",
       "      <td>aw man thats the worst does paypal have any k...</td>\n",
       "      <td>[164, 186, 0, 170, 132, 22, 99, 252, 3]</td>\n",
       "      <td>0.001213</td>\n",
       "    </tr>\n",
       "    <tr>\n",
       "      <th>2573</th>\n",
       "      <td>i also just cant be surrounded by britney gay...</td>\n",
       "      <td>[6, 95, 34, 142, 24, 3697, 37, 0, 170]</td>\n",
       "      <td>0.015276</td>\n",
       "    </tr>\n",
       "    <tr>\n",
       "      <th>2576</th>\n",
       "      <td>britney gays are the worst</td>\n",
       "      <td>[23, 0, 170]</td>\n",
       "      <td>0.000842</td>\n",
       "    </tr>\n",
       "  </tbody>\n",
       "</table>\n",
       "</div>"
      ],
      "text/plain": [
       "                                                reviews  \\\n",
       "650    id be open and honest with her worst case sce...   \n",
       "845    oohh texting can be the worst sometimes and t...   \n",
       "2062   aw man thats the worst does paypal have any k...   \n",
       "2573   i also just cant be surrounded by britney gay...   \n",
       "2576                        britney gays are the worst    \n",
       "\n",
       "                                          review_labels      pred  \n",
       "650   [401, 24, 965, 2, 1074, 16, 63, 170, 489, 2303...  0.008103  \n",
       "845   [61, 24, 0, 170, 528, 2, 105, 19, 298, 147, 16...  0.004165  \n",
       "2062            [164, 186, 0, 170, 132, 22, 99, 252, 3]  0.001213  \n",
       "2573             [6, 95, 34, 142, 24, 3697, 37, 0, 170]  0.015276  \n",
       "2576                                       [23, 0, 170]  0.000842  "
      ]
     },
     "execution_count": 72,
     "metadata": {},
     "output_type": "execute_result"
    }
   ],
   "source": [
    "FINAL[FINAL.reviews.str.contains('worst')==True].head()"
   ]
  },
  {
   "cell_type": "markdown",
   "metadata": {},
   "source": [
    "Some I'd expect to have a high sentiment value: texts with the words **'love you'** in it"
   ]
  },
  {
   "cell_type": "code",
   "execution_count": 73,
   "metadata": {},
   "outputs": [
    {
     "data": {
      "text/html": [
       "<div>\n",
       "<style scoped>\n",
       "    .dataframe tbody tr th:only-of-type {\n",
       "        vertical-align: middle;\n",
       "    }\n",
       "\n",
       "    .dataframe tbody tr th {\n",
       "        vertical-align: top;\n",
       "    }\n",
       "\n",
       "    .dataframe thead th {\n",
       "        text-align: right;\n",
       "    }\n",
       "</style>\n",
       "<table border=\"1\" class=\"dataframe\">\n",
       "  <thead>\n",
       "    <tr style=\"text-align: right;\">\n",
       "      <th></th>\n",
       "      <th>reviews</th>\n",
       "      <th>review_labels</th>\n",
       "      <th>pred</th>\n",
       "    </tr>\n",
       "  </thead>\n",
       "  <tbody>\n",
       "    <tr>\n",
       "      <th>1292</th>\n",
       "      <td>love you guys</td>\n",
       "      <td>[98, 19, 363]</td>\n",
       "      <td>0.998258</td>\n",
       "    </tr>\n",
       "    <tr>\n",
       "      <th>4547</th>\n",
       "      <td>but i love you</td>\n",
       "      <td>[15, 6, 98, 19]</td>\n",
       "      <td>0.999963</td>\n",
       "    </tr>\n",
       "    <tr>\n",
       "      <th>4548</th>\n",
       "      <td>i love you but im red</td>\n",
       "      <td>[6, 98, 19, 15, 122, 987]</td>\n",
       "      <td>0.968767</td>\n",
       "    </tr>\n",
       "    <tr>\n",
       "      <th>4790</th>\n",
       "      <td>let me love you</td>\n",
       "      <td>[368, 53, 98, 19]</td>\n",
       "      <td>0.999938</td>\n",
       "    </tr>\n",
       "    <tr>\n",
       "      <th>5162</th>\n",
       "      <td>i love you guys weve been friends a long time...</td>\n",
       "      <td>[6, 98, 19, 363, 1961, 77, 324, 1, 207, 54, 15...</td>\n",
       "      <td>0.948555</td>\n",
       "    </tr>\n",
       "  </tbody>\n",
       "</table>\n",
       "</div>"
      ],
      "text/plain": [
       "                                                reviews  \\\n",
       "1292                                     love you guys    \n",
       "4547                                    but i love you    \n",
       "4548                             i love you but im red    \n",
       "4790                                   let me love you    \n",
       "5162   i love you guys weve been friends a long time...   \n",
       "\n",
       "                                          review_labels      pred  \n",
       "1292                                      [98, 19, 363]  0.998258  \n",
       "4547                                    [15, 6, 98, 19]  0.999963  \n",
       "4548                          [6, 98, 19, 15, 122, 987]  0.968767  \n",
       "4790                                  [368, 53, 98, 19]  0.999938  \n",
       "5162  [6, 98, 19, 363, 1961, 77, 324, 1, 207, 54, 15...  0.948555  "
      ]
     },
     "execution_count": 73,
     "metadata": {},
     "output_type": "execute_result"
    }
   ],
   "source": [
    "FINAL[FINAL.reviews.str.contains('love you')==True].head()"
   ]
  },
  {
   "cell_type": "markdown",
   "metadata": {},
   "source": [
    "## Final Thoughts"
   ]
  },
  {
   "cell_type": "markdown",
   "metadata": {},
   "source": [
    "Using the group text from my friend since 11/2017, I wanted to do some NLP and data analysis on it. More specifically, I wanted to do exploritory data analytics, Identify which person has changed the most overtime, Identify synonyms, and do some sentiment analysis on the data."
   ]
  },
  {
   "cell_type": "markdown",
   "metadata": {},
   "source": [
    "The exploritory data analysis was insightful: it told me 4 people send the majority of the messages. Additionally, it told me the average word count (7) per text, which gave me some direction on how to handel my cosine similarity between words, and sentiment analysis tasks.\n",
    "\n",
    "There was no much insight achieved by measuring how similar people were accross timeframes. For the most part, We haven't change our vocabulary since the begining of the group chat. The one person that had any significat changes (60% with cosine similarity) was also one of the people that messages the least.\n",
    "\n",
    "Using Cosine distance to measure similarity between words gave the most insight in the enitre project. I believe breaking the data up by conversations instead of by just text truly helped with the discovers. Words we'd expect to be \"similar\" to eachother were indeed similar. Some examples were any of the Game of thrones characters, Tacobell/Crunchwrap, Ice/Cream, etc.\n",
    "\n",
    "Finally, I needed to use outside data to do sentiment analysis on the group messages. I used the IMDB dataset, along with a twitter dataset as my training data. From there, I label encoded my words, padded them, and put them in a neural network. That neural network had an embedding layer, a convolution/maxpooling layer, and a couple dense layers. I used binary crossentropy as my loss, and adam as my optimizer. Overall ,the model only performed slightly better than the bayes model (roughly 5% give or take). The model was used on the groupchat data, and performed relatively well! texts containing \"worst\" had low sentiment scores, and texts with \"love you\" have high sentiment scores as expected!"
   ]
  },
  {
   "cell_type": "markdown",
   "metadata": {},
   "source": [
    "## Appendix"
   ]
  },
  {
   "cell_type": "markdown",
   "metadata": {},
   "source": [
    "#### fig.0\n",
    "a bunch of functions"
   ]
  },
  {
   "cell_type": "code",
   "execution_count": 1,
   "metadata": {},
   "outputs": [],
   "source": [
    "#function that cleans column named 'text'\n",
    "def stringcleaner(data1):\n",
    "    from string import punctuation,digits\n",
    "\n",
    "    data1['textclean']=data1['text'].str.lower()\n",
    "    data1['textclean']=' '+data1['textclean']+' '\n",
    "\n",
    "    data1['textclean']=data1['textclean'].str.replace(\"’\",\"'\")\n",
    "    data1['textclean']=data1['textclean'].str.replace('  ',' ')\n",
    "    data1['textclean']=data1['textclean'].str.replace('  ',' ')\n",
    "    data1['textclean']=data1['textclean'].str.replace('  ',' ')\n",
    "\n",
    "    for i in range(len(punctuation)):\n",
    "        el=punctuation[i]\n",
    "        data1['textclean']=data1['textclean'].str.replace(el,'')\n",
    "\n",
    "    for i in range(len(digits)):\n",
    "        el=digits[i]\n",
    "        data1['textclean']=data1['textclean'].str.replace(el,'')\n",
    "\n",
    "    data1['textclean']=data1['textclean'].str.replace('  ',' ')\n",
    "    return data1\n",
    "\n",
    "\n",
    "#function to get full corpus\n",
    "def get_corp(data,y):\n",
    "    from nltk.corpus import stopwords\n",
    "    stop=stopwords.words('english')\n",
    "    s=\" \"\n",
    "    FULLCORP=s.join(map(str,data))\n",
    "    if str(y)=='remove stops':\n",
    "        #remove stop words\n",
    "        for i in range(len(stop)):\n",
    "            FULLCORP=FULLCORP.replace(' ',' ')\n",
    "            word=stop[i]\n",
    "            FULLCORP=FULLCORP.replace(' '+word+' ',' ').replace('  ',' ')\n",
    "            FULLCORP=FULLCORP.replace(\"   \",' ')\n",
    "    return FULLCORP.replace(\"   \",' ')\n",
    "\n",
    "#making dictionary function to get word counts\n",
    "def word_dict(string):\n",
    "    dic = dict()\n",
    "    for w in string.split():\n",
    "        if w in dic.keys():\n",
    "            dic[w] = dic[w]+1\n",
    "        else:\n",
    "            dic[w] = 1\n",
    "    return sorted(dic.items(), key=lambda x: x[1], reverse=True)\n",
    "\n",
    "#function to get a list of words from the corpus for the BOW function below\n",
    "def get_bow(corp,y):\n",
    "    from nltk.corpus import stopwords\n",
    "    stop=stopwords.words('english')\n",
    "\n",
    "    WORDS=word_dict(corp)\n",
    "    WORDS=WORDS[:y]\n",
    "    BOW=[]\n",
    "    for i in range(len(WORDS)):\n",
    "        BOW.append(WORDS[i][0])\n",
    "    return BOW\n",
    "\n",
    "#function that create a BOW matrix\n",
    "def bagofwords(data,BOW):\n",
    "    data_BOW=[]\n",
    "    for x in range(len(data)):\n",
    "        rowvec=[]\n",
    "        for i in range(len(BOW)):\n",
    "            rowvec.append(str(data[x]).count(' '+BOW[i]+' '))\n",
    "        data_BOW.append(rowvec)\n",
    "    data_BOW=np.asarray(data_BOW)\n",
    "    return data_BOW"
   ]
  },
  {
   "cell_type": "markdown",
   "metadata": {},
   "source": [
    "#### fig.1\n",
    "Importing and Cleaning the data"
   ]
  },
  {
   "cell_type": "code",
   "execution_count": 2,
   "metadata": {},
   "outputs": [],
   "source": [
    "import numpy as np\n",
    "import pandas as pd\n",
    "import matplotlib.pyplot as plt\n",
    "#loading the data\n",
    "df=pd.read_excel('groupchatdata.xlsx',index='RECID')\n",
    "\n",
    "#filtering only by one groupchat\n",
    "df=df[df['Group Chat']=='Guardz']\n",
    "\n",
    "#dropping un-needed columns\n",
    "df=df.drop(columns=['RECID','ROWID','handle_id','chat_id','Group Chat','id','associated_message_type'])\n",
    "\n",
    "#the associated message guid is a foriegn key to the guid field\n",
    "df['lengthLikeId']=df[~df.associated_message_guid.isna()]['associated_message_guid'].apply(lambda x: len(x))\n",
    "\n",
    "#when someone sends a poll in an imessage group chat, the associated id is of length 36. I'm dropping these rows\n",
    "df=df[df['lengthLikeId']!=36]\n",
    "\n",
    "#resetting index\n",
    "df=df.reset_index(drop=True)\n",
    "df=df.reset_index()\n",
    "\n",
    "#changing column names\n",
    "df.columns=['myid','guid', 'text', 'cache_has_attachments', 'Person', 'ts',\n",
    "       'f_guid', 'Emote','lengthLikeId']\n",
    "\n",
    "#dropping lengthLikeId column\n",
    "df=df.drop(columns=['lengthLikeId'])\n",
    "\n",
    "#getting wordlength of message\n",
    "df['wordlength']=df['text'].str.split().str.len()\n",
    "\n",
    "\n",
    "#data has likes/emotes encorporated with it. cleaning the key to match which message received a like.\n",
    "\n",
    "#when someone likes a hyper link, the associated guid prefix starts with \"bp:\". \n",
    "#otherwise, it starts with \"p:\" then some number, then a backslash.\n",
    "#I will replace all of the \"bp:\"'s with \"P:1/\", and split the string on \"/\" to only pick up anything after the string prefix\n",
    "df['f_guid']=df[(~df.f_guid.isna())]['f_guid'].str.replace(\"bp:\",\"p:1/\")\n",
    "df['f_guid']=df[(~df.f_guid.isna())]['f_guid'].str.split(\"/\")\n",
    "df['f_guid']=df[(~df.f_guid.isna())]['f_guid'].apply(lambda x: x[1])"
   ]
  },
  {
   "cell_type": "markdown",
   "metadata": {},
   "source": [
    "#### fig.2\n",
    "Getting plots"
   ]
  },
  {
   "cell_type": "code",
   "execution_count": 3,
   "metadata": {},
   "outputs": [],
   "source": [
    "#df just to get word legth stats\n",
    "Wordlength=df[df.Emote=='text'][['wordlength']]\n",
    "plotWord=df[(df.Emote=='text') & (df.wordlength<50)][['wordlength']]\n",
    "\n",
    "#df just to plot Emotes\n",
    "plotEmote=df[['text','Emote']].groupby('Emote').count().sort_values(by='text', ascending=False).head(7)\n",
    "\n",
    "#df just to plot People\n",
    "plotPerson=df[['text','Person']].groupby('Person').count().sort_values(by='text', ascending=False)"
   ]
  },
  {
   "cell_type": "markdown",
   "metadata": {},
   "source": [
    "#### fig.3\n",
    "Breaking the data up by conversation"
   ]
  },
  {
   "cell_type": "code",
   "execution_count": 4,
   "metadata": {},
   "outputs": [],
   "source": [
    "#getting just texts (no emotes)\n",
    "texts=df[(df.f_guid.isna())]\n",
    "texts=texts.reset_index(drop=True)\n",
    "\n",
    "#making a 'previous message' df, where the index=index+1\n",
    "prev=texts[texts.index!=len(texts)-1]\n",
    "prev.index=prev.index+1\n",
    "\n",
    "#changing column names\n",
    "texts.columns=['OGindex','guid', 'text', 'cache_has_attachments', 'Person', 'ts',\n",
    "       'f_guid', 'Emote','wordlength']\n",
    "\n",
    "\n",
    "#getting the amount of minutes that passed from a previous message\n",
    "\n",
    "prevts=texts.merge(prev,left_index=True,right_index=True)[['OGindex','text_x','ts_x','ts_y','text_x']]\n",
    "prevts['dif']=prevts['ts_x']-prevts['ts_y']\n",
    "prevts['dif']=prevts['dif'].astype('timedelta64[m]')\n",
    "\n",
    "#defining the end of a conversation to be when 15 minutes have passed from the previous message\n",
    "convoStart=prevts[prevts.dif>=15]\n",
    "convoStart=convoStart.reset_index(drop=True)\n",
    "\n",
    "\n",
    "#getting durration of convo based on the OGindex\n",
    "\n",
    "#making a previous conversation dataframe, where the index=conversation.index+1\n",
    "convoStartprev=convoStart[convoStart.index!=len(convoStart)-1]\n",
    "convoStartprev.index=convoStartprev.index+1\n",
    "\n",
    "#making a dataframe that has the duration of the conversation, and a unique identifier for each conversation\n",
    "\n",
    "convoDur=convoStart.merge(convoStartprev,left_index=True,right_index=True)\n",
    "convoDur=convoDur[['OGindex_y','OGindex_x']]\n",
    "convoDur=convoDur.reset_index()\n",
    "convoDur.columns=['ConvoId','Start','End']\n",
    "convoDur.loc[-1] = [0,0,6]\n",
    "convoDur.loc[len(convoDur)+1]=[6166,73266,73328]\n",
    "convoDur=convoDur.sort_values(by=['ConvoId'])\n",
    "convoDur=convoDur.reset_index(drop=True)\n",
    "\n",
    "\n",
    "#Bringing in \"conversation id\" into the main dataframe\n",
    "import pandasql as ps\n",
    "\n",
    "qry= \"\"\"\n",
    "select df.*,\n",
    "convoDur.ConvoId\n",
    "from df\n",
    "left join convoDur\n",
    "on df.myid >= convoDur.Start\n",
    "and df.myid < convoDur.End\n",
    "\"\"\"\n",
    "df=ps.sqldf(qry)\n",
    "\n",
    "\n",
    "#get converstation starter and ender for convolengths\n",
    "qry=\"\"\"\n",
    "select convoDur.*,\n",
    "tb1.person as ConvoStarter,\n",
    "tb2.person as ConvoEnder\n",
    "from convoDur\n",
    "left join df as tb1\n",
    "on tb1.myid=convoDur.Start\n",
    "left join df as tb2\n",
    "on tb2.myid=convoDur.End-1\n",
    "\"\"\"\n",
    "convoDur=ps.sqldf(qry)\n",
    "\n",
    "#doing some aggregations at the conversation level\n",
    "qry=\"\"\"\n",
    "select \n",
    "df.ConvoId,\n",
    "convoDur.Start Startid,\n",
    "convoDur.End-1 as Endid,\n",
    "convoDur.ConvoStarter,\n",
    "convoDur.ConvoEnder,\n",
    "\n",
    "min(df.ts) as Min_ts,\n",
    "max(df.ts) as Max_ts,\n",
    "sum(df.wordlength) as WordCount,\n",
    "avg(df.wordlength) as AverageWordCount,\n",
    "count(*) as MessageCount\n",
    "from convoDur\n",
    "left join df\n",
    "    on df.ConvoId=convoDur.ConvoId\n",
    "\n",
    "where df.Emote='text'\n",
    "group by df.ConvoId, Startid, Endid, convoDur.ConvoStarter, convoDur.ConvoEnder\n",
    "\"\"\"\n",
    "\n",
    "convo=ps.sqldf(qry)\n",
    "convo.Min_ts = pd.to_datetime(convo.Min_ts)\n",
    "convo.Max_ts = pd.to_datetime(convo.Max_ts)\n",
    "convo['ConvoMinLength']=convo['Max_ts']-convo['Min_ts']\n",
    "convo['ConvoMinLength']=convo['ConvoMinLength'].astype('timedelta64[m]')\n",
    "\n",
    "convo=convo.sort_values(by='ConvoId')\n",
    "convo=convo.reset_index(drop=True)"
   ]
  },
  {
   "cell_type": "markdown",
   "metadata": {},
   "source": [
    "#### fig.4\n",
    "Word Clouds"
   ]
  },
  {
   "cell_type": "code",
   "execution_count": 5,
   "metadata": {},
   "outputs": [],
   "source": [
    "from PIL import Image\n",
    "import matplotlib.pyplot as plt\n",
    "from wordcloud import WordCloud\n",
    "\n",
    "messages=df[(df.f_guid.isna()) & (df.cache_has_attachments==0)] [['Person','text','ts','ConvoId']]\n",
    "messages=stringcleaner(messages)\n",
    "\n",
    "x = list(messages[['textclean']].values.T)[0]\n",
    "FULLCORP=get_corp(x,'remove stops')\n",
    "\n",
    "WORDS=word_dict(FULLCORP)\n",
    "wc = WordCloud(max_words=500).generate_from_frequencies(dict(WORDS))\n",
    "#plt.imshow(wc)"
   ]
  },
  {
   "cell_type": "markdown",
   "metadata": {},
   "source": [
    "#### fig.5\n",
    "How much people have changed"
   ]
  },
  {
   "cell_type": "code",
   "execution_count": 6,
   "metadata": {},
   "outputs": [],
   "source": [
    "messages.loc[messages.ts<='2018-08-31','Time Period']='Part 1'\n",
    "messages.loc[(messages['Time Period'].isna()) & (messages.ts<='2019-06-30'),'Time Period']='Part 2'\n",
    "messages.loc[(messages['Time Period'].isna()), 'Time Period']='Part 3'\n",
    "\n",
    "messages['Person/Period']=messages['Person']+' '+messages['Time Period']\n",
    "\n",
    "\n",
    "people=list(dict.fromkeys(messages[['Person/Period']].values.flatten()))"
   ]
  },
  {
   "cell_type": "code",
   "execution_count": 7,
   "metadata": {},
   "outputs": [],
   "source": [
    "data=[]\n",
    "for person in people:\n",
    "    corp=''.join(messages[messages['Person/Period']==person][['textclean']].dropna().values.flatten())\n",
    "    corp.replace(' ','')\n",
    "    data.append(corp)\n",
    "\n",
    "    \n",
    "#Get full corp and BOW\n",
    "x = list(messages[['textclean']].values.T)[0]\n",
    "FULLCORP=get_corp(x,' ')\n",
    "\n",
    "#getting word frequencies\n",
    "BOWp=get_bow(FULLCORP,3000)\n",
    "\n",
    "#TD Matrix    \n",
    "TDMatrix=bagofwords(data,BOWp)\n",
    "TDMatrixdisplay=pd.DataFrame(TDMatrix,index=people,columns=BOWp)"
   ]
  },
  {
   "cell_type": "code",
   "execution_count": 8,
   "metadata": {},
   "outputs": [],
   "source": [
    "from sklearn.decomposition import TruncatedSVD\n",
    "\n",
    "svd=TruncatedSVD(n_components=36, n_iter=7,random_state=42)\n",
    "svd.fit(TDMatrix)\n",
    "mysvd=svd.transform(TDMatrix)"
   ]
  },
  {
   "cell_type": "code",
   "execution_count": 9,
   "metadata": {},
   "outputs": [],
   "source": [
    "from sklearn.metrics.pairwise import cosine_similarity\n",
    "\n",
    "people1=[]\n",
    "for i in range(len(people)):\n",
    "    people1.append(people[i].split()[0])\n",
    "parts=[]\n",
    "for i in range(len(people)):\n",
    "    parts.append(people[i].split()[-1])\n",
    "\n",
    "peopleunique=list(dict.fromkeys(people1))\n",
    "results=[]\n",
    "for i in range(len(people1)):\n",
    "    for x in range(len(people1)):\n",
    "        if people1[i]==people1[x]:\n",
    "            if parts[i]<=parts[x]:\n",
    "                cos=cosine_similarity([mysvd[i]],[mysvd[x]])\n",
    "                results.append([people1[x],'Capter '+str(parts[i])+' to '+str(parts[x]),cos[0][0]])\n",
    "\n",
    "\n",
    "cosineperson=pd.DataFrame(results,columns=['Person','Compare','Cosine Distance'])\n",
    "cosinepersondisplay=cosineperson.pivot(index='Person',columns='Compare').dropna()"
   ]
  },
  {
   "cell_type": "markdown",
   "metadata": {},
   "source": [
    "#### fig.6\n",
    "Measuring similarities of words"
   ]
  },
  {
   "cell_type": "code",
   "execution_count": 10,
   "metadata": {},
   "outputs": [],
   "source": [
    "x = list(messages[['textclean']].values.T)[0]\n",
    "\n",
    "FULLCORP=get_corp(x,'remove stops')\n",
    "BOWsim=get_bow(FULLCORP,3000)\n",
    "\n",
    "data2=[]\n",
    "for conv in convo.index:\n",
    "    corp=''.join(messages[messages['ConvoId']==conv][['textclean']].dropna().values.flatten())\n",
    "    corp.replace(' ','')\n",
    "    data2.append(corp)\n",
    "len(data2)\n",
    "\n",
    "convobow=pd.DataFrame(bagofwords(data2,BOWsim),index=convo.index,columns=BOWsim).T"
   ]
  },
  {
   "cell_type": "code",
   "execution_count": 11,
   "metadata": {},
   "outputs": [],
   "source": [
    "svd2=TruncatedSVD(n_components=100, n_iter=7,random_state=42)\n",
    "svd2.fit(convobow)\n",
    "convosvd=svd2.transform(convobow)\n",
    "cosineword=cosine_similarity(convosvd,convosvd)"
   ]
  },
  {
   "cell_type": "code",
   "execution_count": 12,
   "metadata": {},
   "outputs": [],
   "source": [
    "#functions for cosine similarity of each word\n",
    "def get_mostsimilar(word):\n",
    "    cos3=[]\n",
    "    comps=[(-2,'Most Similar'),(-3,'Second Most Similar'),(-4,'Third Most Similar'),\n",
    "           (-5,'Forth Most Similar'),(-6,'Fifth Most Similar'),(-7,'Sixth Most Similar')]\n",
    "    try:\n",
    "        row=list(cosineword[BOWsim.index(word)])\n",
    "        for what in comps:\n",
    "            val=sorted(row)[what[0]]\n",
    "            idval=row.index(val)\n",
    "            cos3.append([what[1],BOWsim[idval],val])\n",
    "        \n",
    "        return pd.DataFrame(cos3,columns=['compare','word2','val'])\n",
    "    except:\n",
    "        return 'word not found'\n",
    "    \n",
    "def get_leastsimilar(word):\n",
    "    cos3=[]\n",
    "    comps=[(0,'Least Similar'),(1,'Second Least Similar'),(2,'Third Least Similar'),\n",
    "           (3,'Forth Least Similar'),(4,'Fifth Least Similar'),(5,'Sixth Least Similar')]\n",
    "    try:\n",
    "        row=list(cosineword[BOW.index(word)])\n",
    "        for what in comps:\n",
    "            val=sorted(row)[what[0]]\n",
    "            idval=row.index(val)\n",
    "            cos3.append([what[1],BOW[idval],val])\n",
    "        \n",
    "        return pd.DataFrame(cos3,columns=['compare','word2','val'])\n",
    "    except:\n",
    "        return 'word not found'"
   ]
  },
  {
   "cell_type": "markdown",
   "metadata": {},
   "source": [
    "#### fig.7\n",
    "loading additional data for sentiment analysis"
   ]
  },
  {
   "cell_type": "code",
   "execution_count": 13,
   "metadata": {},
   "outputs": [],
   "source": [
    "IMDB=pd.read_csv('IMDB Dataset.csv')\n",
    "TWEETS=pd.read_csv('Tweets.csv')\n",
    "\n",
    "IMDB['wordlength']=IMDB['review'].str.split().str.len()\n",
    "IMDB=IMDB[['review','sentiment']][IMDB.wordlength<200]\n",
    "IMDB.columns=['text','sentiment']\n",
    "IMDBdisplay=IMDB.groupby(IMDB.sentiment).count()\n",
    "\n",
    "#ORGANIZING TWEETS\n",
    "TWEETS=TWEETS[['text','airline_sentiment']][TWEETS.airline_sentiment!='neutral']\n",
    "TWEETS.columns=['text','sentiment']\n",
    "TWEETS=TWEETS.sort_values(by='sentiment', ascending=False).head(5000)\n",
    "TWEETSdisplay=TWEETS.groupby(TWEETS.sentiment).count()\n",
    "\n",
    "\n",
    "dfnew=pd.concat([IMDB,TWEETS])"
   ]
  },
  {
   "cell_type": "markdown",
   "metadata": {},
   "source": [
    "#### fig.8\n",
    "baseline model for sentiment analysis"
   ]
  },
  {
   "cell_type": "code",
   "execution_count": 14,
   "metadata": {},
   "outputs": [],
   "source": [
    "dfnew=stringcleaner(dfnew)\n",
    "\n",
    "#getting X,y in a usable format for ML training:\n",
    "\n",
    "reviews=dfnew['textclean'].values\n",
    "labels=dfnew['sentiment'].values\n",
    "\n",
    "y=[]\n",
    "len(labels)\n",
    "for el in labels:\n",
    "    if el=='positive':\n",
    "         y.append(1)\n",
    "    elif el=='negative':\n",
    "         y.append(0)\n",
    "\n",
    "FULLCORP2=get_corp(reviews,' ')\n",
    "BOW=get_bow(FULLCORP2,3000)\n",
    "TDMatrixsent=bagofwords(reviews,BOW)"
   ]
  },
  {
   "cell_type": "code",
   "execution_count": 15,
   "metadata": {},
   "outputs": [
    {
     "data": {
      "text/plain": [
       "GaussianNB(priors=None, var_smoothing=1e-09)"
      ]
     },
     "execution_count": 15,
     "metadata": {},
     "output_type": "execute_result"
    }
   ],
   "source": [
    "from sklearn.model_selection import train_test_split\n",
    "\n",
    "X_train2,X_test2,y_train2,y_test2=train_test_split(TDMatrixsent,y,random_state=20)\n",
    "\n",
    "from sklearn.naive_bayes import GaussianNB\n",
    "\n",
    "gnb=GaussianNB()\n",
    "\n",
    "gnb.fit(X_train2,y_train2)"
   ]
  },
  {
   "cell_type": "markdown",
   "metadata": {},
   "source": [
    "#### fig.9\n",
    "Creating the Sentiment model using embedding layers"
   ]
  },
  {
   "cell_type": "code",
   "execution_count": 16,
   "metadata": {},
   "outputs": [
    {
     "name": "stderr",
     "output_type": "stream",
     "text": [
      "C:\\Users\\wamsa\\Anaconda3\\lib\\site-packages\\tensorboard\\compat\\tensorflow_stub\\dtypes.py:541: FutureWarning: Passing (type, 1) or '1type' as a synonym of type is deprecated; in a future version of numpy, it will be understood as (type, (1,)) / '(1,)type'.\n",
      "  _np_qint8 = np.dtype([(\"qint8\", np.int8, 1)])\n",
      "C:\\Users\\wamsa\\Anaconda3\\lib\\site-packages\\tensorboard\\compat\\tensorflow_stub\\dtypes.py:542: FutureWarning: Passing (type, 1) or '1type' as a synonym of type is deprecated; in a future version of numpy, it will be understood as (type, (1,)) / '(1,)type'.\n",
      "  _np_quint8 = np.dtype([(\"quint8\", np.uint8, 1)])\n",
      "C:\\Users\\wamsa\\Anaconda3\\lib\\site-packages\\tensorboard\\compat\\tensorflow_stub\\dtypes.py:543: FutureWarning: Passing (type, 1) or '1type' as a synonym of type is deprecated; in a future version of numpy, it will be understood as (type, (1,)) / '(1,)type'.\n",
      "  _np_qint16 = np.dtype([(\"qint16\", np.int16, 1)])\n",
      "C:\\Users\\wamsa\\Anaconda3\\lib\\site-packages\\tensorboard\\compat\\tensorflow_stub\\dtypes.py:544: FutureWarning: Passing (type, 1) or '1type' as a synonym of type is deprecated; in a future version of numpy, it will be understood as (type, (1,)) / '(1,)type'.\n",
      "  _np_quint16 = np.dtype([(\"quint16\", np.uint16, 1)])\n",
      "C:\\Users\\wamsa\\Anaconda3\\lib\\site-packages\\tensorboard\\compat\\tensorflow_stub\\dtypes.py:545: FutureWarning: Passing (type, 1) or '1type' as a synonym of type is deprecated; in a future version of numpy, it will be understood as (type, (1,)) / '(1,)type'.\n",
      "  _np_qint32 = np.dtype([(\"qint32\", np.int32, 1)])\n",
      "C:\\Users\\wamsa\\Anaconda3\\lib\\site-packages\\tensorboard\\compat\\tensorflow_stub\\dtypes.py:550: FutureWarning: Passing (type, 1) or '1type' as a synonym of type is deprecated; in a future version of numpy, it will be understood as (type, (1,)) / '(1,)type'.\n",
      "  np_resource = np.dtype([(\"resource\", np.ubyte, 1)])\n"
     ]
    }
   ],
   "source": [
    "from tensorflow.keras.models import Sequential\n",
    "from tensorflow.keras.layers import Embedding\n",
    "import numpy as np\n",
    "from numpy import array\n",
    "from tensorflow.keras.preprocessing.text import one_hot\n",
    "from tensorflow.keras.preprocessing.sequence import pad_sequences\n",
    "from tensorflow.keras.models import Sequential\n",
    "from tensorflow.keras.layers import Flatten, Embedding, Dense, Conv1D, GlobalMaxPooling1D"
   ]
  },
  {
   "cell_type": "code",
   "execution_count": 17,
   "metadata": {},
   "outputs": [],
   "source": [
    "#making a function that will label encode the values \n",
    "def label_func(string):\n",
    "    row=[]\n",
    "    review=str(string).split()\n",
    "    for word in review:\n",
    "        try:\n",
    "            thelabel=customlabeler.index(word)\n",
    "            row.append(thelabel)\n",
    "        except:\n",
    "            pass\n",
    "    return row"
   ]
  },
  {
   "cell_type": "code",
   "execution_count": 18,
   "metadata": {},
   "outputs": [],
   "source": [
    "#getting word counts\n",
    "WORDS=word_dict(get_corp(reviews.flatten(),''))\n",
    "\n",
    "#making my custom label encoder\n",
    "customlabeler=list(np.asarray(WORDS[:5000]).T[0])\n",
    "\n",
    "#encoding the reviews\n",
    "review_labels=[]\n",
    "for rev in reviews:\n",
    "    review_labels.append(label_func(rev))\n",
    "    \n",
    "#padding the reviews to be the same length\n",
    "VOCABSIZE = 5000\n",
    "MAXLENGTH = 250\n",
    "\n",
    "padded_reviews=pad_sequences(review_labels,maxlen=MAXLENGTH,padding='post')"
   ]
  },
  {
   "cell_type": "code",
   "execution_count": 19,
   "metadata": {},
   "outputs": [
    {
     "name": "stdout",
     "output_type": "stream",
     "text": [
      "WARNING:tensorflow:From C:\\Users\\wamsa\\Anaconda3\\lib\\site-packages\\tensorflow_core\\python\\keras\\initializers.py:119: calling RandomUniform.__init__ (from tensorflow.python.ops.init_ops) with dtype is deprecated and will be removed in a future version.\n",
      "Instructions for updating:\n",
      "Call initializer instance with the dtype argument instead of passing it to the constructor\n",
      "WARNING:tensorflow:From C:\\Users\\wamsa\\Anaconda3\\lib\\site-packages\\tensorflow_core\\python\\ops\\resource_variable_ops.py:1630: calling BaseResourceVariable.__init__ (from tensorflow.python.ops.resource_variable_ops) with constraint is deprecated and will be removed in a future version.\n",
      "Instructions for updating:\n",
      "If using Keras pass *_constraint arguments to layers.\n",
      "WARNING:tensorflow:From C:\\Users\\wamsa\\Anaconda3\\lib\\site-packages\\tensorflow_core\\python\\ops\\nn_impl.py:183: where (from tensorflow.python.ops.array_ops) is deprecated and will be removed in a future version.\n",
      "Instructions for updating:\n",
      "Use tf.where in 2.0, which has the same broadcast rule as np.where\n"
     ]
    }
   ],
   "source": [
    "#building the model\n",
    "filters = 128\n",
    "kernal_size = 3\n",
    "\n",
    "model = Sequential()\n",
    "embedding_layer = Embedding(VOCABSIZE,5,input_length=MAXLENGTH)\n",
    "model.add(embedding_layer)\n",
    "\n",
    "model.add(Conv1D(filters,kernal_size,padding='valid',activation='relu'))\n",
    "model.add(GlobalMaxPooling1D())\n",
    "\n",
    "model.add(Flatten())\n",
    "model.add(Dense(16,activation='relu'))\n",
    "model.add(Dense(1,activation='sigmoid'))\n",
    "model.compile(optimizer='adam',\n",
    "    loss='binary_crossentropy',\n",
    "    metrics=['accuracy'])"
   ]
  },
  {
   "cell_type": "code",
   "execution_count": 20,
   "metadata": {},
   "outputs": [],
   "source": [
    "#splitting the data\n",
    "from sklearn.model_selection import train_test_split\n",
    "X_train,X_test,y_train,y_test=train_test_split(padded_reviews,y,random_state=20)\n",
    "X_train1,X_test1,y_train1,y_test1=train_test_split(reviews,y,random_state=20)"
   ]
  },
  {
   "cell_type": "code",
   "execution_count": 21,
   "metadata": {},
   "outputs": [
    {
     "name": "stdout",
     "output_type": "stream",
     "text": [
      "Train on 25811 samples\n",
      "Epoch 1/6\n",
      "25811/25811 [==============================] - 7s 270us/sample - loss: 0.4964 - acc: 0.7537\n",
      "Epoch 2/6\n",
      "25811/25811 [==============================] - 7s 265us/sample - loss: 0.2948 - acc: 0.8764\n",
      "Epoch 3/6\n",
      "25811/25811 [==============================] - 7s 261us/sample - loss: 0.2318 - acc: 0.9069\n",
      "Epoch 4/6\n",
      "25811/25811 [==============================] - 7s 261us/sample - loss: 0.1900 - acc: 0.9255\n",
      "Epoch 5/6\n",
      "25811/25811 [==============================] - 7s 261us/sample - loss: 0.1581 - acc: 0.9394\n",
      "Epoch 6/6\n",
      "25811/25811 [==============================] - 7s 261us/sample - loss: 0.1287 - acc: 0.9528\n",
      "8604/8604 [==============================] - 1s 98us/sample - loss: 0.3655 - acc: 0.8752\n"
     ]
    },
    {
     "data": {
      "text/plain": [
       "[0.36548443482898657, 0.87517434]"
      ]
     },
     "execution_count": 21,
     "metadata": {},
     "output_type": "execute_result"
    }
   ],
   "source": [
    "#training the model\n",
    "model.fit(X_train,y_train,batch_size=64,epochs=6)\n",
    "model.evaluate(X_test,y_test)"
   ]
  },
  {
   "cell_type": "markdown",
   "metadata": {},
   "source": [
    "#### fig.10\n",
    "Doing Sentiment on the Grouptext data"
   ]
  },
  {
   "cell_type": "code",
   "execution_count": 22,
   "metadata": {},
   "outputs": [],
   "source": [
    "reviews2=messages['textclean'].values\n",
    "\n",
    "review_labels2=[]\n",
    "for rev in reviews2:\n",
    "    try:\n",
    "        review_labels2.append(label_func(rev))\n",
    "    except:\n",
    "        review_labels2.append([])\n",
    "padded_reviews2=pad_sequences(review_labels2,maxlen=MAXLENGTH,padding='post')"
   ]
  },
  {
   "cell_type": "code",
   "execution_count": 23,
   "metadata": {},
   "outputs": [],
   "source": [
    "pred=model.predict(padded_reviews2)"
   ]
  },
  {
   "cell_type": "code",
   "execution_count": 24,
   "metadata": {},
   "outputs": [],
   "source": [
    "FINAL=pd.DataFrame(zip(reviews2,review_labels2,list(pred.flatten())),columns=['reviews','review_labels','pred'])"
   ]
  },
  {
   "cell_type": "code",
   "execution_count": 25,
   "metadata": {},
   "outputs": [],
   "source": [
    "FINAL.to_csv('FINAL.csv')"
   ]
  },
  {
   "cell_type": "code",
   "execution_count": 26,
   "metadata": {},
   "outputs": [],
   "source": [
    "convo.to_csv('theconvos.csv')"
   ]
  },
  {
   "cell_type": "code",
   "execution_count": 27,
   "metadata": {},
   "outputs": [],
   "source": [
    "df.to_csv('thedataforme.csv')"
   ]
  },
  {
   "cell_type": "code",
   "execution_count": 28,
   "metadata": {},
   "outputs": [],
   "source": [
    "messages['labelencode']=messages['textclean'].apply(lambda x: label_func(x))"
   ]
  },
  {
   "cell_type": "code",
   "execution_count": 29,
   "metadata": {},
   "outputs": [],
   "source": [
    "messages['labelencode1']=messages['labelencode'].apply(lambda x: pad_sequences([x],maxlen=MAXLENGTH,padding='post').flatten())"
   ]
  },
  {
   "cell_type": "code",
   "execution_count": 30,
   "metadata": {},
   "outputs": [],
   "source": [
    "messages['prediction']=messages['labelencode1'].apply(lambda x: model.predict(x.reshape((1,250))))"
   ]
  },
  {
   "cell_type": "code",
   "execution_count": 31,
   "metadata": {},
   "outputs": [],
   "source": [
    "messages.to_csv('messagesdf.csv')"
   ]
  },
  {
   "cell_type": "code",
   "execution_count": 33,
   "metadata": {},
   "outputs": [],
   "source": [
    "#type(cosineword).to_csv('C:\\Desktop\\cosineword.csv')"
   ]
  },
  {
   "cell_type": "code",
   "execution_count": 34,
   "metadata": {},
   "outputs": [],
   "source": [
    "pd.DataFrame(cosineword,index=BOWsim,columns=BOWsim).to_csv('cosineword.csv')"
   ]
  },
  {
   "cell_type": "code",
   "execution_count": 35,
   "metadata": {},
   "outputs": [],
   "source": [
    "df[df.Emote!='text'].to_csv('LIKES.csv')"
   ]
  },
  {
   "cell_type": "code",
   "execution_count": 36,
   "metadata": {},
   "outputs": [],
   "source": [
    "#functions for cosine similarity of each word\n",
    "def get_mostsimilar(word):\n",
    "    cos3=[]\n",
    "    comps=[(-2,'Most Similar'),(-3,'Second Most Similar'),(-4,'Third Most Similar'),\n",
    "           (-5,'Forth Most Similar'),(-6,'Fifth Most Similar'),(-7,'Sixth Most Similar')]\n",
    "    try:\n",
    "        row=list(cosineword[BOWsim.index(word)])\n",
    "        for what in comps:\n",
    "            val=sorted(row)[what[0]]\n",
    "            idval=row.index(val)\n",
    "            cos3.append([what[1],BOWsim[idval],val])\n",
    "        \n",
    "        return pd.DataFrame(cos3,columns=['compare','word2','val'])\n",
    "    except:\n",
    "        return 'word not found'\n",
    " "
   ]
  },
  {
   "cell_type": "code",
   "execution_count": null,
   "metadata": {},
   "outputs": [],
   "source": []
  }
 ],
 "metadata": {
  "kernelspec": {
   "display_name": "Python 3",
   "language": "python",
   "name": "python3"
  },
  "language_info": {
   "codemirror_mode": {
    "name": "ipython",
    "version": 3
   },
   "file_extension": ".py",
   "mimetype": "text/x-python",
   "name": "python",
   "nbconvert_exporter": "python",
   "pygments_lexer": "ipython3",
   "version": "3.6.5"
  }
 },
 "nbformat": 4,
 "nbformat_minor": 2
}
