{
 "cells": [
  {
   "cell_type": "code",
   "execution_count": 1,
   "metadata": {
    "slideshow": {
     "slide_type": "skip"
    }
   },
   "outputs": [],
   "source": [
    "import pandas as pd\n",
    "import numpy as np\n",
    "from pivottablejs import pivot_ui\n",
    "from playsound import playsound"
   ]
  },
  {
   "cell_type": "code",
   "execution_count": 2,
   "metadata": {
    "slideshow": {
     "slide_type": "skip"
    }
   },
   "outputs": [],
   "source": [
    "convo=pd.read_csv('convo.csv')\n",
    "cosinewordpd=pd.read_csv('cosineword.csv')\n",
    "cosinewordpd=cosinewordpd.drop(columns=['Unnamed: 0'])\n",
    "BOWsim=cosinewordpd.columns.values.tolist()\n",
    "cosinewordpd.index=BOWsim\n",
    "cosineword=cosinewordpd.values"
   ]
  },
  {
   "cell_type": "code",
   "execution_count": 3,
   "metadata": {
    "slideshow": {
     "slide_type": "skip"
    }
   },
   "outputs": [],
   "source": [
    "#functions for cosine similarity of each word\n",
    "def get_mostsimilar(word):\n",
    "    cos3=[]\n",
    "    comps=[(-2,'Most Similar'),(-3,'Second Most Similar'),(-4,'Third Most Similar'),\n",
    "           (-5,'Forth Most Similar'),(-6,'Fifth Most Similar'),(-7,'Sixth Most Similar')]\n",
    "    try:\n",
    "        row=list(cosineword[BOWsim.index(word)])\n",
    "        for what in comps:\n",
    "            val=sorted(row)[what[0]]\n",
    "            idval=row.index(val)\n",
    "            cos3.append([what[1],BOWsim[idval],val])\n",
    "        \n",
    "        return pd.DataFrame(cos3,columns=['compare','word2','val'])\n",
    "    except:\n",
    "        return 'word not found'"
   ]
  },
  {
   "cell_type": "code",
   "execution_count": 4,
   "metadata": {
    "slideshow": {
     "slide_type": "skip"
    }
   },
   "outputs": [],
   "source": [
    "df=pd.read_csv('working.csv')\n",
    "dfts=pd.read_excel('WORKING.xlsx')\n",
    "texts=pd.read_csv('thedataforme.csv')"
   ]
  },
  {
   "cell_type": "code",
   "execution_count": 5,
   "metadata": {
    "slideshow": {
     "slide_type": "skip"
    }
   },
   "outputs": [],
   "source": [
    "df=df.drop(columns=['ts','new_ts'])\n",
    "df=df.merge(dfts[['new_ts']],left_index=True, right_index=True)\n",
    "del dfts"
   ]
  },
  {
   "cell_type": "code",
   "execution_count": 6,
   "metadata": {
    "slideshow": {
     "slide_type": "skip"
    }
   },
   "outputs": [],
   "source": [
    "df['ts']=pd.to_datetime(df['new_ts'])\n",
    "df=df.drop(columns=['new_ts'])\n",
    "df['weekday']=df['ts'].dt.dayofweek\n",
    "df['month']=df['ts'].dt.month\n",
    "df['hour']=df['ts'].dt.hour"
   ]
  },
  {
   "cell_type": "code",
   "execution_count": 7,
   "metadata": {
    "slideshow": {
     "slide_type": "skip"
    }
   },
   "outputs": [],
   "source": [
    "def tabcleaner(string,per):\n",
    "    out=[]\n",
    "    mylist=string.split(\"\\n\")#split list by enters\n",
    "    for el in mylist: #split each row by tabs\n",
    "        row=el.split(\"\\t\")\n",
    "        for i in range(len(row)): #convert string to number\n",
    "            try:\n",
    "                row[i]=round(float(row[i]),4)\n",
    "                if per=='%':\n",
    "                    row[i]=row[i]*100\n",
    "            except:\n",
    "                if row[i]=='':\n",
    "                    row[i]=0\n",
    "        out.append(row) #append output list\n",
    "    hdr=out[0] #columns\n",
    "    out=out[1:] #everything else\n",
    "    out=pd.DataFrame(out,columns=hdr)\n",
    "    return out"
   ]
  },
  {
   "cell_type": "code",
   "execution_count": 179,
   "metadata": {
    "slideshow": {
     "slide_type": "skip"
    }
   },
   "outputs": [
    {
     "data": {
      "text/html": [
       "\n",
       "        <iframe\n",
       "            width=\"100%\"\n",
       "            height=\"500\"\n",
       "            src=\"pivottablejs.html\"\n",
       "            frameborder=\"0\"\n",
       "            allowfullscreen\n",
       "        ></iframe>\n",
       "        "
      ],
      "text/plain": [
       "<IPython.lib.display.IFrame at 0x1c2a3ed0080>"
      ]
     },
     "execution_count": 179,
     "metadata": {},
     "output_type": "execute_result"
    }
   ],
   "source": [
    "pivot_ui(df)"
   ]
  },
  {
   "cell_type": "code",
   "execution_count": 9,
   "metadata": {
    "slideshow": {
     "slide_type": "skip"
    }
   },
   "outputs": [],
   "source": [
    "emote='''Person First Name\tQuestioned\tDisliked\tLiked\tLoved\tEmphasized\tLaughed\ttext\n",
    "Allison\t0.0030303030303030303\t0.00909090909090909\t0.02484848484848485\t0.037575757575757575\t0.022424242424242423\t0.04787878787878788\t0.8551515151515151\n",
    "Ana\t0.0021287919105907396\t0.0070706302744621\t0.05352391089485289\t0.02653387059986315\t0.02265642819128716\t0.08682429863909374\t0.8012620694898502\n",
    "Ben\t0.0061633281972265025\t0.0015408320493066256\t0.04776579352850539\t0.01848998459167951\t0.04930662557781202\t0.06779661016949152\t0.8089368258859785\n",
    "Brandy\t0.001199040767386091\t0.005995203836930456\t0.03597122302158273\t0.09892086330935251\t0.008992805755395683\t0.013189448441247002\t0.8357314148681055\n",
    "Colleen\t0.006448265638897124\t0.007337681589089831\t0.014749481174029055\t0.02023421286688408\t0.04810257930625556\t0.09146160687815001\t0.8116661725466944\n",
    "Geoff\t0.006195473511189784\t0.02414970287014793\t0.029839423441648756\t0.029649766089265394\t0.062144392464281196\t0.15842710835756732\t0.6895941332658996\n",
    "Hannah\t0.006242684354272337\t0.02262973078423722\t0.030433086227077643\t0.12290284822473664\t0.0647678501755755\t0.13265704252828717\t0.6203667577058135\n",
    "Justin\t0.004229654578209446\t0.013863867784130963\t0.029607582047466125\t0.0033680582752408554\t0.020521657397979165\t0.03618704472468082\t0.8922221351922926\n",
    "Katherine\t\t0.01050420168067227\t0.0273109243697479\t0.17016806722689076\t0.11974789915966387\t0.18067226890756302\t0.49159663865546216\n",
    "Kenn\t\t\t0.008583690987124463\t0.004291845493562232\t0.004291845493562232\t\t0.9828326180257511\n",
    "Sam\t0.002390914524805738\t0.01434548714883443\t0.07232516437537357\t0.09205020920502092\t0.06156604901374776\t0.15540944411237298\t0.6019127316198446\n",
    "Sarah\t0.002522421524663677\t0.021580717488789237\t0.016255605381165917\t0.06838565022421525\t0.014854260089686098\t0.11491031390134529\t0.7614910313901345\n",
    "Stefani\t0.0007208506037123806\t0.003964678320418093\t0.012254460263110471\t0.05280230672193188\t0.019643178951162372\t0.07208506037123806\t0.8385294647684267'''\n",
    "emotedf=tabcleaner(emote,'%')\n",
    "\n",
    "avgword=\"\"\"Person First Name\ttext\n",
    "Allison\t8.510985116938345\n",
    "Ana\t6.545921277809465\n",
    "Ben\t8.459923664122151\n",
    "Brandy\t5.9174443646805415\n",
    "Colleen\t6.665021478841028\n",
    "Geoff\t7.109489720998538\n",
    "Hannah\t7.538510101010103\n",
    "Justin\t8.206065934065925\n",
    "Katherine\t10.123931623931621\n",
    "Kenn\t7.969298245614033\n",
    "Sam\t7.636182902584492\n",
    "Sarah\t4.706966457795802\n",
    "Stefani\t6.915859694426507\"\"\"\n",
    "avgworddf=tabcleaner(avgword,'')\n",
    "\n",
    "sent=\"\"\"Person First Name\tNegative\tPositive\n",
    "Allison\t0.23736075407026563\t0.7626392459297343\n",
    "Ana\t0.2606917069542581\t0.7393082930457419\n",
    "Ben\t0.21052631578947367\t0.7894736842105263\n",
    "Brandy\t0.25022583559168926\t0.7497741644083108\n",
    "Colleen\t0.2596002694812486\t0.7403997305187514\n",
    "Geoff\t0.26277632517233185\t0.7372236748276681\n",
    "Hannah\t0.23722044728434505\t0.762779552715655\n",
    "Justin\t0.2724759369240221\t0.7275240630759778\n",
    "Katherine\t0.23157894736842105\t0.7684210526315789\n",
    "Kenn\t0.31413612565445026\t0.6858638743455497\n",
    "Sam\t0.26947637292464876\t0.7305236270753512\n",
    "Sarah\t0.2087737843551797\t0.7912262156448203\n",
    "Stefani\t0.2716671084018023\t0.7283328915981977\"\"\"\n",
    "sentdf=tabcleaner(sent,'%')\n",
    "\n",
    "attachmentemote=\"\"\"Person First Name\t1-N\t1-Y\n",
    "Allison\t0.460431654676259\t0.539568345323741\n",
    "Ana\t0.6552706552706553\t0.34472934472934474\n",
    "Ben\t0.42857142857142854\t0.5714285714285714\n",
    "Brandy\t0.5434782608695652\t0.45652173913043475\n",
    "Colleen\t0.5325248070562293\t0.46747519294377065\n",
    "Geoff\t0.6903831118060985\t0.3096168881939015\n",
    "Hannah\t0.4489795918367347\t0.5510204081632652\n",
    "Justin\t0.6248175182481752\t0.37518248175182483\n",
    "Katherine\t0.1935483870967742\t0.8064516129032258\n",
    "Kenn\t0.4782608695652174\t0.5217391304347826\n",
    "Sam\t0.3248407643312102\t0.6751592356687898\n",
    "Sarah\t0.6833333333333333\t0.31666666666666665\n",
    "Stefani\t0.7405764966740577\t0.25942350332594233\"\"\"\n",
    "attachmentemotedf=tabcleaner(attachmentemote,'%')\n",
    "\n",
    "convosum=\"\"\"Person First Name\tConvo End\tConvo Start\tCrickets\tEngager\ttext\n",
    "Allison\t0.05102763997165131\t0.16654854712969524\t0.024096385542168676\t0.09142452161587526\t0.6669029057406095\n",
    "Ana\t0.03653098016889648\t0.10228674447291014\t0.016415219660309326\t0.05683651200303634\t0.7879305436948477\n",
    "Ben\t0.03238095238095238\t0.11428571428571428\t0.02857142857142857\t0.07809523809523809\t0.7466666666666667\n",
    "Brandy\t0.05667144906743185\t0.16212338593974174\t0.027259684361549498\t0.08464849354375897\t0.669296987087518\n",
    "Colleen\t0.054880832800657475\t0.06839558031230025\t0.014245274404164003\t0.049219249383617936\t0.8132590630992603\n",
    "Geoff\t0.05454712137880455\t0.09965163182984965\t0.015493215988265493\t0.07004033736707003\t0.7602676934360103\n",
    "Hannah\t0.04213836477987421\t0.1559748427672956\t0.0389937106918239\t0.0660377358490566\t0.6968553459119496\n",
    "Justin\t0.04240189623386884\t0.057325959090510054\t0.008515494688789395\t0.05987182863664296\t0.8318848213501887\n",
    "Katherine\t0.038461538461538464\t0.17094017094017094\t0.021367521367521368\t0.038461538461538464\t0.7307692307692307\n",
    "Kenn\t0.034934497816593885\t0.11790393013100436\t0.013100436681222706\t0.06986899563318777\t0.7641921397379913\n",
    "Sam\t0.031777557100297914\t0.21449851042701093\t0.038728897715988086\t0.07646474677259185\t0.6385302879841113\n",
    "Sarah\t0.061832903938167094\t0.1589988958410011\t0.04195804195804196\t0.1034228928965771\t0.6337872653662128\n",
    "Stefani\t0.026219643240919837\t0.04212336127229744\t0.0027938964109176876\t0.03137760584569095\t0.8974854932301741\"\"\"\n",
    "convosumdf=tabcleaner(convosum,'%')\n",
    "\n",
    "attachment=\"\"\"Person First Name\t0\t1\n",
    "Allison\t0.9014883061658399\t0.09851169383416017\n",
    "Ana\t0.8667805294619982\t0.1332194705380017\n",
    "Ben\t0.96\t0.04\n",
    "Brandy\t0.9010043041606887\t0.09899569583931134\n",
    "Colleen\t0.9171765135604054\t0.08282348643959455\n",
    "Geoff\t0.8827466079941327\t0.11725339200586725\n",
    "Hannah\t0.8767295597484277\t0.12327044025157233\n",
    "Justin\t0.9398648055482398\t0.06013519445176016\n",
    "Katherine\t0.8675213675213675\t0.13247863247863248\n",
    "Kenn\t0.8995633187772926\t0.10043668122270742\n",
    "Sam\t0.8440913604766633\t0.15590863952333664\n",
    "Sarah\t0.9116672800883327\t0.08833271991166727\n",
    "Stefani\t0.9030732860520094\t0.09692671394799054\"\"\"\n",
    "attachmentdf=tabcleaner(attachment,'%')\n",
    "\n",
    "receiveemote=\"\"\"Person First Name\tN\tY\n",
    "Allison\t0.7002126151665485\t0.29978738483345146\n",
    "Ana\t0.8109698234959195\t0.18903017650408046\n",
    "Ben\t0.6533333333333333\t0.3466666666666667\n",
    "Brandy\t0.7898134863701578\t0.21018651362984217\n",
    "Colleen\t0.8255707762557077\t0.17442922374429223\n",
    "Geoff\t0.8036303630363036\t0.19636963696369636\n",
    "Hannah\t0.6880503144654088\t0.3119496855345912\n",
    "Justin\t0.8080941093846019\t0.19190589061539812\n",
    "Katherine\t0.6794871794871795\t0.32051282051282054\n",
    "Kenn\t0.7074235807860262\t0.2925764192139738\n",
    "Sam\t0.6444885799404171\t0.3555114200595829\n",
    "Sarah\t0.8432094221567906\t0.15679057784320943\n",
    "Stefani\t0.8676122931442081\t0.13238770685579196\"\"\"\n",
    "receiveemotedf=tabcleaner(receiveemote,'%')\n"
   ]
  },
  {
   "cell_type": "code",
   "execution_count": 10,
   "metadata": {
    "slideshow": {
     "slide_type": "skip"
    }
   },
   "outputs": [],
   "source": [
    "#getting them ready for questions!\n",
    "Q0=avgworddf.sort_values(by=['text'], ascending=False)\n",
    "Q0['Score']=Q0['text']*10\n",
    "Q0=Q0[['Person First Name','Score','text']]\n",
    "Q0.columns=['Person First Name','Score','Average Words per Text']\n",
    "Q0=Q0.reset_index(drop=True)\n",
    "Q0.index=Q0.index+1\n",
    "\n",
    "emotedf['emote']=100-emotedf['text']\n",
    "Q1=emotedf[['Person First Name','emote','text']]\n",
    "Q1=Q1.sort_values(by=['emote'], ascending=False)\n",
    "Q1.columns=['Person First Name','Emote Percentage','Text Percentage']\n",
    "Q1=Q1.reset_index(drop=True)\n",
    "Q1.index=Q1.index+1\n",
    "\n",
    "Q2=sentdf.sort_values(by=['Positive'], ascending=False)\n",
    "Q2.columns=['Person First Name','Negative Messages Percentage','Positive Messages Percentage']\n",
    "Q2=Q2[['Person First Name','Positive Messages Percentage','Negative Messages Percentage']]\n",
    "Q2=Q2.reset_index(drop=True)\n",
    "Q2.index=Q2.index+1\n",
    "\n",
    "Q3=attachmentemotedf[['Person First Name','1-Y','1-N']]\n",
    "Q3=Q3.sort_values(by=['1-Y'], ascending=False)\n",
    "Q3.columns=['Person First Name','Attachment w/ Emote Percentage','No w/out Emote Percentage']\n",
    "Q3=Q3.reset_index(drop=True)\n",
    "Q3.index=Q3.index+1\n",
    "\n",
    "Q4=convosumdf[['Person First Name','Convo Start']]\n",
    "Q4=Q4[['Person First Name','Convo Start']]\n",
    "Q4=Q4.sort_values(by=['Convo Start'], ascending=False)\n",
    "Q4.columns=['Person First Name','Convo Start Percentage']\n",
    "Q4=Q4.reset_index(drop=True)\n",
    "Q4.index=Q4.index+1\n",
    "\n",
    "Q5=attachmentdf[['Person First Name',100,0]]\n",
    "Q5=Q5.sort_values(by=[100], ascending=False)\n",
    "Q5.columns=['Person First Name','Text w/ Attachment Percentage','Text w/out Attachment Percentage']\n",
    "Q5=Q5.reset_index(drop=True)\n",
    "Q5.index=Q5.index+1\n",
    "Q5\n",
    "\n",
    "Q6=receiveemotedf[['Person First Name','Y','N']]\n",
    "Q6=Q6.sort_values(by=['Y'],ascending=False)\n",
    "Q6.columns=['Person First Name','Text w/ Emote Percentage','Text w/out Emote Percentage']\n",
    "Q6=Q6.reset_index(drop=True)\n",
    "Q6.index=Q6.index+1"
   ]
  },
  {
   "cell_type": "code",
   "execution_count": 11,
   "metadata": {
    "slideshow": {
     "slide_type": "skip"
    }
   },
   "outputs": [],
   "source": [
    "PEOPLE=attachmentdf[['Person First Name']]\n",
    "fnl=[]\n",
    "def getresults():\n",
    "    return pd.DataFrame(fnl,columns=['Team','Answer','Points']).groupby('Team').sum()"
   ]
  },
  {
   "cell_type": "code",
   "execution_count": 12,
   "metadata": {
    "slideshow": {
     "slide_type": "skip"
    }
   },
   "outputs": [],
   "source": [
    "#avgworddf\n",
    "#Qs=[emotedf,sentdf,attachmentemotedf,convosumdf,attachmentdf,receiveemotedf]\n",
    "Qs=[\n",
    "\n",
    "[Q1,'Emote vs Text'],\n",
    "[Q2,'Sentiment Analysis'],\n",
    "[Q3,'Attachments with/without Emotes'],\n",
    "[Q4,'Starting Converstations'],\n",
    "[Q5,'Text with Attachment'],\n",
    "[Q6,'Text with/without Emote']\n",
    "]"
   ]
  },
  {
   "cell_type": "code",
   "execution_count": 13,
   "metadata": {
    "slideshow": {
     "slide_type": "skip"
    }
   },
   "outputs": [],
   "source": [
    "def Question(data):\n",
    "    from ipywidgets import widgets, Label\n",
    "    from IPython.display import display, clear_output\n",
    "    #making my widgets\n",
    "    team1 = widgets.Text(description=\"Team 1!\")\n",
    "    team2 = widgets.Text(description=\"Team 2!\")\n",
    "    button=widgets.Button(description=\"FUCK\")\n",
    "    undo=widgets.Button(description=\"UNFUCK\")\n",
    "    done=widgets.Button(description=\"DONE\")\n",
    "    box=widgets.HBox(children=[team1,team2,button,undo,done])\n",
    "    Scoreboard=[]\n",
    "    results=[]\n",
    "    resultsdf=[]\n",
    "\n",
    "    def btn(b):\n",
    "        playsound('survey1.mp3')\n",
    "        clear_output()\n",
    "        display(box)\n",
    "        if team1.value in PEOPLE.values.flatten(): #if answer is in list, then get points\n",
    "            results.append(team1.value)\n",
    "            team1ans=data[data['Person First Name']==team1.value].values[0][1]\n",
    "        else:\n",
    "            team1ans=0 #if answer is invalid, give 0\n",
    "\n",
    "        if team2.value in PEOPLE.values.flatten(): #if answer is in list, then get points\n",
    "            results.append(team2.value)\n",
    "            team2ans=data[data['Person First Name']==team2.value].values[0][1]\n",
    "        else:\n",
    "            team2ans=0 #if answer is invalid, give 0\n",
    "            \n",
    "        resultsdf=data[data['Person First Name'].isin(results)]\n",
    "        display(Label('Answers:'))\n",
    "        display(resultsdf)\n",
    "        Scoreboard.append(['Team 1',team1.value,team1ans]) #getting results values!\n",
    "        Scoreboard.append(['Team 2',team2.value,team2ans]) #getting results values!\n",
    "        display(Label('Team Score:'))\n",
    "        display(pd.DataFrame(Scoreboard,columns=['Team','Answer','Points']))\n",
    "        team1.value='' #resetting text boxes\n",
    "        team2.value=''\n",
    "        playsound('survey2.mp3')\n",
    "        \n",
    "    #in case i push the wrong button, I can undo the scoreboard\n",
    "    def undobtn(b):\n",
    "        del Scoreboard[-1] #remove the last two results\n",
    "        del Scoreboard[-1]\n",
    "        clear_output()\n",
    "        display(box)\n",
    "        resultsdf=data[data['Person First Name'].isin(results)]\n",
    "        display(Label('Answers:'))\n",
    "        display(resultsdf)\n",
    "        display(Label('Team Score:'))\n",
    "        display(pd.DataFrame(Scoreboard,columns=['Team','Answer','Points']))\n",
    "    def GETSCORE(b):\n",
    "        clear_output()\n",
    "        for el in Scoreboard:\n",
    "            fnl.append(el)\n",
    "        display(Label('Answers:'))\n",
    "        display(data)\n",
    "        display(Label('Score:'))\n",
    "        display(getresults())\n",
    "        playsound('survey4.mp3')\n",
    "    button.on_click(btn)\n",
    "    undo.on_click(undobtn)\n",
    "    done.on_click(GETSCORE)\n",
    "    return display(box)"
   ]
  },
  {
   "cell_type": "code",
   "execution_count": 14,
   "metadata": {
    "slideshow": {
     "slide_type": "skip"
    }
   },
   "outputs": [],
   "source": [
    "def Words():\n",
    "    from ipywidgets import widgets, Label\n",
    "    from IPython.display import display, clear_output\n",
    "    import time\n",
    "    #making my widgets\n",
    "    WORD = widgets.Text(description=\"Start Word!\")\n",
    "    word1 = widgets.Text(description=\"Team 1!\")\n",
    "    word2 = widgets.Text(description=\"Team 2!\")\n",
    "    undo=widgets.Button(description=\"UNFUCK\")\n",
    "    done=widgets.Button(description=\"DONE\")\n",
    "    button1=widgets.Button(description=\"Team 1 FUCK\")\n",
    "    button2=widgets.Button(description=\"Team 2 FUCK\")\n",
    "    #undo=widgets.Button(description=\"UNFUCK\")\n",
    "    #done=widgets.Button(description=\"DONE\")\n",
    "    box1=widgets.HBox(children=[word1,button1,undo,done])\n",
    "    box2=widgets.HBox(children=[word2,button2,undo,done])\n",
    "\n",
    "    Scoreboard=[]\n",
    "\n",
    "    def wordcompare1(b):\n",
    "        clear_output()\n",
    "        display(WORD,box1,box2)\n",
    "        #display(pd.DataFrame(Scoreboard,columns=['Team','Answer','Points']))\n",
    "        playsound('survey1.mp3')\n",
    "        try:\n",
    "            row=list(cosineword[BOWsim.index(WORD.value)])\n",
    "            id1=BOWsim.index(word1.value)\n",
    "            time.sleep(.3)\n",
    "            val1=row[id1]\n",
    "            val1=round(val1,4)*100\n",
    "            Scoreboard.append(['Team 1',word1.value,val1]) #getting results values!\n",
    "            display(Label('Team Score:'))\n",
    "            display(pd.DataFrame(Scoreboard,columns=['Team','Answer','Points']))\n",
    "            playsound('survey2.mp3')\n",
    "            word1.value='' #resetting text boxes\n",
    "        except:\n",
    "            val1=0\n",
    "            time.sleep(.3)\n",
    "            Scoreboard.append(['Team 1',word1.value,val1]) #getting results values!\n",
    "            display(Label('Team Score:'))\n",
    "            display(pd.DataFrame(Scoreboard,columns=['Team','Answer','Points']))\n",
    "            playsound('survey5.mp3')\n",
    "        \n",
    "    def wordcompare2(b):\n",
    "        clear_output()\n",
    "        display(WORD,box1,box2)\n",
    "        #display(pd.DataFrame(Scoreboard,columns=['Team','Answer','Points']))\n",
    "        playsound('survey1.mp3')\n",
    "        try:\n",
    "            row=list(cosineword[BOWsim.index(WORD.value)])\n",
    "            id2=BOWsim.index(word2.value)\n",
    "            time.sleep(.3)\n",
    "            val2=row[id2]\n",
    "            val2=round(val2,4)*100\n",
    "            Scoreboard.append(['Team 2',word2.value,val2]) #getting results values!\n",
    "            display(Label('Team Score:'))\n",
    "            display(pd.DataFrame(Scoreboard,columns=['Team','Answer','Points']))\n",
    "            playsound('survey2.mp3')\n",
    "            word2.value='' #resetting text boxes\n",
    "        except:\n",
    "            val2=0\n",
    "            time.sleep(.3)\n",
    "            Scoreboard.append(['Team 2',word2.value,val2]) #getting results values!\n",
    "            display(Label('Team Score:'))\n",
    "            display(pd.DataFrame(Scoreboard,columns=['Team','Answer','Points']))\n",
    "            playsound('survey5.mp3')\n",
    "\n",
    "    #in case i push the wrong button, I can undo the scoreboard\n",
    "    def undobtn(b):\n",
    "        del Scoreboard[-1] #remove the last two results\n",
    "        clear_output()\n",
    "        display(box1,box2)\n",
    "        display(Label('Team Score:'))\n",
    "        display(pd.DataFrame(Scoreboard,columns=['Team','Answer','Points']))\n",
    "    def GETSCORE(b):\n",
    "        clear_output()\n",
    "        for el in Scoreboard:\n",
    "            fnl.append(el)\n",
    "        display(Label('Word:'))\n",
    "        display(WORD)\n",
    "        display(Label('Most Similar:'))\n",
    "        display(get_mostsimilar(WORD.value))\n",
    "        display(Label('Score:'))\n",
    "        display(getresults())\n",
    "        playsound('survey4.mp3')\n",
    "\n",
    "    button1.on_click(wordcompare1)\n",
    "    button2.on_click(wordcompare2)\n",
    "    undo.on_click(undobtn)\n",
    "    done.on_click(GETSCORE)\n",
    "    return display(WORD,box1,box2)"
   ]
  },
  {
   "cell_type": "markdown",
   "metadata": {
    "slideshow": {
     "slide_type": "slide"
    }
   },
   "source": [
    "# Lifeguard Family Feud\n",
    "\n",
    "A Gameshow on our group messages!\n",
    "\n",
    "\n",
    "Hosted by the NOTORIOUS Sammy-Dizzle"
   ]
  },
  {
   "cell_type": "markdown",
   "metadata": {
    "slideshow": {
     "slide_type": "slide"
    }
   },
   "source": [
    "# How to play\n",
    "\n",
    "- I will give everyone a question. Each team gives a person they think answers the question best!\n",
    "- For example: \"Which person is most likely to start a conversation?\"\n",
    "- The closer you are to the right answer, the more points you'll get!\n",
    "- Each question last's for three rounds\n",
    "- This means you get three opportunities to get points!\n",
    "- You cannot answer the same person twice, but both teams may guess the same person in the same round\n"
   ]
  },
  {
   "cell_type": "markdown",
   "metadata": {
    "slideshow": {
     "slide_type": "slide"
    }
   },
   "source": [
    "# Question 1\n",
    "\n",
    "## Emotes Vs Texts\n",
    "\n",
    "A person can either send a text message, or they can send an emote! (like, dislike, heart, etc).\n",
    "\n",
    "Can you guess the person with the highest percentage of emotes?"
   ]
  },
  {
   "cell_type": "code",
   "execution_count": 16,
   "metadata": {
    "slideshow": {
     "slide_type": "subslide"
    }
   },
   "outputs": [
    {
     "data": {
      "application/vnd.jupyter.widget-view+json": {
       "model_id": "bd15130577b6498793239f1c69e0911e",
       "version_major": 2,
       "version_minor": 0
      },
      "text/plain": [
       "Label(value='Answers:')"
      ]
     },
     "metadata": {},
     "output_type": "display_data"
    },
    {
     "data": {
      "text/html": [
       "<div>\n",
       "<style scoped>\n",
       "    .dataframe tbody tr th:only-of-type {\n",
       "        vertical-align: middle;\n",
       "    }\n",
       "\n",
       "    .dataframe tbody tr th {\n",
       "        vertical-align: top;\n",
       "    }\n",
       "\n",
       "    .dataframe thead th {\n",
       "        text-align: right;\n",
       "    }\n",
       "</style>\n",
       "<table border=\"1\" class=\"dataframe\">\n",
       "  <thead>\n",
       "    <tr style=\"text-align: right;\">\n",
       "      <th></th>\n",
       "      <th>Person First Name</th>\n",
       "      <th>Emote Percentage</th>\n",
       "      <th>Text Percentage</th>\n",
       "    </tr>\n",
       "  </thead>\n",
       "  <tbody>\n",
       "    <tr>\n",
       "      <th>1</th>\n",
       "      <td>Katherine</td>\n",
       "      <td>50.84</td>\n",
       "      <td>49.16</td>\n",
       "    </tr>\n",
       "    <tr>\n",
       "      <th>2</th>\n",
       "      <td>Sam</td>\n",
       "      <td>39.81</td>\n",
       "      <td>60.19</td>\n",
       "    </tr>\n",
       "    <tr>\n",
       "      <th>3</th>\n",
       "      <td>Hannah</td>\n",
       "      <td>37.96</td>\n",
       "      <td>62.04</td>\n",
       "    </tr>\n",
       "    <tr>\n",
       "      <th>4</th>\n",
       "      <td>Geoff</td>\n",
       "      <td>31.04</td>\n",
       "      <td>68.96</td>\n",
       "    </tr>\n",
       "    <tr>\n",
       "      <th>5</th>\n",
       "      <td>Sarah</td>\n",
       "      <td>23.85</td>\n",
       "      <td>76.15</td>\n",
       "    </tr>\n",
       "    <tr>\n",
       "      <th>6</th>\n",
       "      <td>Ana</td>\n",
       "      <td>19.87</td>\n",
       "      <td>80.13</td>\n",
       "    </tr>\n",
       "    <tr>\n",
       "      <th>7</th>\n",
       "      <td>Ben</td>\n",
       "      <td>19.11</td>\n",
       "      <td>80.89</td>\n",
       "    </tr>\n",
       "    <tr>\n",
       "      <th>8</th>\n",
       "      <td>Colleen</td>\n",
       "      <td>18.83</td>\n",
       "      <td>81.17</td>\n",
       "    </tr>\n",
       "    <tr>\n",
       "      <th>9</th>\n",
       "      <td>Brandy</td>\n",
       "      <td>16.43</td>\n",
       "      <td>83.57</td>\n",
       "    </tr>\n",
       "    <tr>\n",
       "      <th>10</th>\n",
       "      <td>Stefani</td>\n",
       "      <td>16.15</td>\n",
       "      <td>83.85</td>\n",
       "    </tr>\n",
       "    <tr>\n",
       "      <th>11</th>\n",
       "      <td>Allison</td>\n",
       "      <td>14.48</td>\n",
       "      <td>85.52</td>\n",
       "    </tr>\n",
       "    <tr>\n",
       "      <th>12</th>\n",
       "      <td>Justin</td>\n",
       "      <td>10.78</td>\n",
       "      <td>89.22</td>\n",
       "    </tr>\n",
       "    <tr>\n",
       "      <th>13</th>\n",
       "      <td>Kenn</td>\n",
       "      <td>1.72</td>\n",
       "      <td>98.28</td>\n",
       "    </tr>\n",
       "  </tbody>\n",
       "</table>\n",
       "</div>"
      ],
      "text/plain": [
       "   Person First Name  Emote Percentage  Text Percentage\n",
       "1          Katherine             50.84            49.16\n",
       "2                Sam             39.81            60.19\n",
       "3             Hannah             37.96            62.04\n",
       "4              Geoff             31.04            68.96\n",
       "5              Sarah             23.85            76.15\n",
       "6                Ana             19.87            80.13\n",
       "7                Ben             19.11            80.89\n",
       "8            Colleen             18.83            81.17\n",
       "9             Brandy             16.43            83.57\n",
       "10           Stefani             16.15            83.85\n",
       "11           Allison             14.48            85.52\n",
       "12            Justin             10.78            89.22\n",
       "13              Kenn              1.72            98.28"
      ]
     },
     "metadata": {},
     "output_type": "display_data"
    },
    {
     "data": {
      "application/vnd.jupyter.widget-view+json": {
       "model_id": "fe0a9dac18124de981a63828389a7303",
       "version_major": 2,
       "version_minor": 0
      },
      "text/plain": [
       "Label(value='Score:')"
      ]
     },
     "metadata": {},
     "output_type": "display_data"
    },
    {
     "data": {
      "text/html": [
       "<div>\n",
       "<style scoped>\n",
       "    .dataframe tbody tr th:only-of-type {\n",
       "        vertical-align: middle;\n",
       "    }\n",
       "\n",
       "    .dataframe tbody tr th {\n",
       "        vertical-align: top;\n",
       "    }\n",
       "\n",
       "    .dataframe thead th {\n",
       "        text-align: right;\n",
       "    }\n",
       "</style>\n",
       "<table border=\"1\" class=\"dataframe\">\n",
       "  <thead>\n",
       "    <tr style=\"text-align: right;\">\n",
       "      <th></th>\n",
       "      <th>Points</th>\n",
       "    </tr>\n",
       "    <tr>\n",
       "      <th>Team</th>\n",
       "      <th></th>\n",
       "    </tr>\n",
       "  </thead>\n",
       "  <tbody>\n",
       "    <tr>\n",
       "      <th>Team 1</th>\n",
       "      <td>88.11</td>\n",
       "    </tr>\n",
       "    <tr>\n",
       "      <th>Team 2</th>\n",
       "      <td>81.68</td>\n",
       "    </tr>\n",
       "  </tbody>\n",
       "</table>\n",
       "</div>"
      ],
      "text/plain": [
       "        Points\n",
       "Team          \n",
       "Team 1   88.11\n",
       "Team 2   81.68"
      ]
     },
     "metadata": {},
     "output_type": "display_data"
    }
   ],
   "source": [
    "Question(Qs[0][0])"
   ]
  },
  {
   "cell_type": "markdown",
   "metadata": {
    "slideshow": {
     "slide_type": "slide"
    }
   },
   "source": [
    "# Question 2\n",
    "\n",
    "## Sentiment Analysis\n",
    "\n",
    "#### A person's text can be positive, or negative! \n",
    "\n",
    "Example: A message like \"I hate you\" will be classified as a negative message, while something like \"I love you\" will be classified as positive.\n",
    "\n",
    "Can you guess the person with the highest percentage of positive messages?"
   ]
  },
  {
   "cell_type": "code",
   "execution_count": 17,
   "metadata": {
    "slideshow": {
     "slide_type": "subslide"
    }
   },
   "outputs": [
    {
     "data": {
      "application/vnd.jupyter.widget-view+json": {
       "model_id": "f3199a0a76374d9097842b979aa79113",
       "version_major": 2,
       "version_minor": 0
      },
      "text/plain": [
       "Label(value='Answers:')"
      ]
     },
     "metadata": {},
     "output_type": "display_data"
    },
    {
     "data": {
      "text/html": [
       "<div>\n",
       "<style scoped>\n",
       "    .dataframe tbody tr th:only-of-type {\n",
       "        vertical-align: middle;\n",
       "    }\n",
       "\n",
       "    .dataframe tbody tr th {\n",
       "        vertical-align: top;\n",
       "    }\n",
       "\n",
       "    .dataframe thead th {\n",
       "        text-align: right;\n",
       "    }\n",
       "</style>\n",
       "<table border=\"1\" class=\"dataframe\">\n",
       "  <thead>\n",
       "    <tr style=\"text-align: right;\">\n",
       "      <th></th>\n",
       "      <th>Person First Name</th>\n",
       "      <th>Positive Messages Percentage</th>\n",
       "      <th>Negative Messages Percentage</th>\n",
       "    </tr>\n",
       "  </thead>\n",
       "  <tbody>\n",
       "    <tr>\n",
       "      <th>1</th>\n",
       "      <td>Sarah</td>\n",
       "      <td>79.12</td>\n",
       "      <td>20.88</td>\n",
       "    </tr>\n",
       "    <tr>\n",
       "      <th>2</th>\n",
       "      <td>Ben</td>\n",
       "      <td>78.95</td>\n",
       "      <td>21.05</td>\n",
       "    </tr>\n",
       "    <tr>\n",
       "      <th>3</th>\n",
       "      <td>Katherine</td>\n",
       "      <td>76.84</td>\n",
       "      <td>23.16</td>\n",
       "    </tr>\n",
       "    <tr>\n",
       "      <th>4</th>\n",
       "      <td>Hannah</td>\n",
       "      <td>76.28</td>\n",
       "      <td>23.72</td>\n",
       "    </tr>\n",
       "    <tr>\n",
       "      <th>5</th>\n",
       "      <td>Allison</td>\n",
       "      <td>76.26</td>\n",
       "      <td>23.74</td>\n",
       "    </tr>\n",
       "    <tr>\n",
       "      <th>6</th>\n",
       "      <td>Brandy</td>\n",
       "      <td>74.98</td>\n",
       "      <td>25.02</td>\n",
       "    </tr>\n",
       "    <tr>\n",
       "      <th>7</th>\n",
       "      <td>Colleen</td>\n",
       "      <td>74.04</td>\n",
       "      <td>25.96</td>\n",
       "    </tr>\n",
       "    <tr>\n",
       "      <th>8</th>\n",
       "      <td>Ana</td>\n",
       "      <td>73.93</td>\n",
       "      <td>26.07</td>\n",
       "    </tr>\n",
       "    <tr>\n",
       "      <th>9</th>\n",
       "      <td>Geoff</td>\n",
       "      <td>73.72</td>\n",
       "      <td>26.28</td>\n",
       "    </tr>\n",
       "    <tr>\n",
       "      <th>10</th>\n",
       "      <td>Sam</td>\n",
       "      <td>73.05</td>\n",
       "      <td>26.95</td>\n",
       "    </tr>\n",
       "    <tr>\n",
       "      <th>11</th>\n",
       "      <td>Stefani</td>\n",
       "      <td>72.83</td>\n",
       "      <td>27.17</td>\n",
       "    </tr>\n",
       "    <tr>\n",
       "      <th>12</th>\n",
       "      <td>Justin</td>\n",
       "      <td>72.75</td>\n",
       "      <td>27.25</td>\n",
       "    </tr>\n",
       "    <tr>\n",
       "      <th>13</th>\n",
       "      <td>Kenn</td>\n",
       "      <td>68.59</td>\n",
       "      <td>31.41</td>\n",
       "    </tr>\n",
       "  </tbody>\n",
       "</table>\n",
       "</div>"
      ],
      "text/plain": [
       "   Person First Name  Positive Messages Percentage  \\\n",
       "1              Sarah                         79.12   \n",
       "2                Ben                         78.95   \n",
       "3          Katherine                         76.84   \n",
       "4             Hannah                         76.28   \n",
       "5            Allison                         76.26   \n",
       "6             Brandy                         74.98   \n",
       "7            Colleen                         74.04   \n",
       "8                Ana                         73.93   \n",
       "9              Geoff                         73.72   \n",
       "10               Sam                         73.05   \n",
       "11           Stefani                         72.83   \n",
       "12            Justin                         72.75   \n",
       "13              Kenn                         68.59   \n",
       "\n",
       "    Negative Messages Percentage  \n",
       "1                          20.88  \n",
       "2                          21.05  \n",
       "3                          23.16  \n",
       "4                          23.72  \n",
       "5                          23.74  \n",
       "6                          25.02  \n",
       "7                          25.96  \n",
       "8                          26.07  \n",
       "9                          26.28  \n",
       "10                         26.95  \n",
       "11                         27.17  \n",
       "12                         27.25  \n",
       "13                         31.41  "
      ]
     },
     "metadata": {},
     "output_type": "display_data"
    },
    {
     "data": {
      "application/vnd.jupyter.widget-view+json": {
       "model_id": "856e771207084c9c94e4dbd4491e922c",
       "version_major": 2,
       "version_minor": 0
      },
      "text/plain": [
       "Label(value='Score:')"
      ]
     },
     "metadata": {},
     "output_type": "display_data"
    },
    {
     "data": {
      "text/html": [
       "<div>\n",
       "<style scoped>\n",
       "    .dataframe tbody tr th:only-of-type {\n",
       "        vertical-align: middle;\n",
       "    }\n",
       "\n",
       "    .dataframe tbody tr th {\n",
       "        vertical-align: top;\n",
       "    }\n",
       "\n",
       "    .dataframe thead th {\n",
       "        text-align: right;\n",
       "    }\n",
       "</style>\n",
       "<table border=\"1\" class=\"dataframe\">\n",
       "  <thead>\n",
       "    <tr style=\"text-align: right;\">\n",
       "      <th></th>\n",
       "      <th>Points</th>\n",
       "    </tr>\n",
       "    <tr>\n",
       "      <th>Team</th>\n",
       "      <th></th>\n",
       "    </tr>\n",
       "  </thead>\n",
       "  <tbody>\n",
       "    <tr>\n",
       "      <th>Team 1</th>\n",
       "      <td>311.18</td>\n",
       "    </tr>\n",
       "    <tr>\n",
       "      <th>Team 2</th>\n",
       "      <td>302.16</td>\n",
       "    </tr>\n",
       "  </tbody>\n",
       "</table>\n",
       "</div>"
      ],
      "text/plain": [
       "        Points\n",
       "Team          \n",
       "Team 1  311.18\n",
       "Team 2  302.16"
      ]
     },
     "metadata": {},
     "output_type": "display_data"
    }
   ],
   "source": [
    "Question(Qs[1][0])"
   ]
  },
  {
   "cell_type": "markdown",
   "metadata": {
    "slideshow": {
     "slide_type": "slide"
    }
   },
   "source": [
    "# Question 3\n",
    "\n",
    "## Attachments with and without Emotes\n",
    "\n",
    "#### Sometimes we send texts that have attachments. And sometimes, people react to those messages!\n",
    "\n",
    "Can you guess the person who receives the highest percentage of emotes for the attachments they send?\n",
    "\n",
    "Basically, who sends the funniest attachments!"
   ]
  },
  {
   "cell_type": "code",
   "execution_count": 19,
   "metadata": {
    "slideshow": {
     "slide_type": "subslide"
    }
   },
   "outputs": [
    {
     "data": {
      "application/vnd.jupyter.widget-view+json": {
       "model_id": "32e5fd5fb90b477e81b059cb4169b4d2",
       "version_major": 2,
       "version_minor": 0
      },
      "text/plain": [
       "Label(value='Answers:')"
      ]
     },
     "metadata": {},
     "output_type": "display_data"
    },
    {
     "data": {
      "text/html": [
       "<div>\n",
       "<style scoped>\n",
       "    .dataframe tbody tr th:only-of-type {\n",
       "        vertical-align: middle;\n",
       "    }\n",
       "\n",
       "    .dataframe tbody tr th {\n",
       "        vertical-align: top;\n",
       "    }\n",
       "\n",
       "    .dataframe thead th {\n",
       "        text-align: right;\n",
       "    }\n",
       "</style>\n",
       "<table border=\"1\" class=\"dataframe\">\n",
       "  <thead>\n",
       "    <tr style=\"text-align: right;\">\n",
       "      <th></th>\n",
       "      <th>Person First Name</th>\n",
       "      <th>Attachment w/ Emote Percentage</th>\n",
       "      <th>No w/out Emote Percentage</th>\n",
       "    </tr>\n",
       "  </thead>\n",
       "  <tbody>\n",
       "    <tr>\n",
       "      <th>1</th>\n",
       "      <td>Katherine</td>\n",
       "      <td>80.65</td>\n",
       "      <td>19.35</td>\n",
       "    </tr>\n",
       "    <tr>\n",
       "      <th>2</th>\n",
       "      <td>Sam</td>\n",
       "      <td>67.52</td>\n",
       "      <td>32.48</td>\n",
       "    </tr>\n",
       "    <tr>\n",
       "      <th>3</th>\n",
       "      <td>Ben</td>\n",
       "      <td>57.14</td>\n",
       "      <td>42.86</td>\n",
       "    </tr>\n",
       "    <tr>\n",
       "      <th>4</th>\n",
       "      <td>Hannah</td>\n",
       "      <td>55.10</td>\n",
       "      <td>44.90</td>\n",
       "    </tr>\n",
       "    <tr>\n",
       "      <th>5</th>\n",
       "      <td>Allison</td>\n",
       "      <td>53.96</td>\n",
       "      <td>46.04</td>\n",
       "    </tr>\n",
       "    <tr>\n",
       "      <th>6</th>\n",
       "      <td>Kenn</td>\n",
       "      <td>52.17</td>\n",
       "      <td>47.83</td>\n",
       "    </tr>\n",
       "    <tr>\n",
       "      <th>7</th>\n",
       "      <td>Colleen</td>\n",
       "      <td>46.75</td>\n",
       "      <td>53.25</td>\n",
       "    </tr>\n",
       "    <tr>\n",
       "      <th>8</th>\n",
       "      <td>Brandy</td>\n",
       "      <td>45.65</td>\n",
       "      <td>54.35</td>\n",
       "    </tr>\n",
       "    <tr>\n",
       "      <th>9</th>\n",
       "      <td>Justin</td>\n",
       "      <td>37.52</td>\n",
       "      <td>62.48</td>\n",
       "    </tr>\n",
       "    <tr>\n",
       "      <th>10</th>\n",
       "      <td>Ana</td>\n",
       "      <td>34.47</td>\n",
       "      <td>65.53</td>\n",
       "    </tr>\n",
       "    <tr>\n",
       "      <th>11</th>\n",
       "      <td>Sarah</td>\n",
       "      <td>31.67</td>\n",
       "      <td>68.33</td>\n",
       "    </tr>\n",
       "    <tr>\n",
       "      <th>12</th>\n",
       "      <td>Geoff</td>\n",
       "      <td>30.96</td>\n",
       "      <td>69.04</td>\n",
       "    </tr>\n",
       "    <tr>\n",
       "      <th>13</th>\n",
       "      <td>Stefani</td>\n",
       "      <td>25.94</td>\n",
       "      <td>74.06</td>\n",
       "    </tr>\n",
       "  </tbody>\n",
       "</table>\n",
       "</div>"
      ],
      "text/plain": [
       "   Person First Name  Attachment w/ Emote Percentage  \\\n",
       "1          Katherine                           80.65   \n",
       "2                Sam                           67.52   \n",
       "3                Ben                           57.14   \n",
       "4             Hannah                           55.10   \n",
       "5            Allison                           53.96   \n",
       "6               Kenn                           52.17   \n",
       "7            Colleen                           46.75   \n",
       "8             Brandy                           45.65   \n",
       "9             Justin                           37.52   \n",
       "10               Ana                           34.47   \n",
       "11             Sarah                           31.67   \n",
       "12             Geoff                           30.96   \n",
       "13           Stefani                           25.94   \n",
       "\n",
       "    No w/out Emote Percentage  \n",
       "1                       19.35  \n",
       "2                       32.48  \n",
       "3                       42.86  \n",
       "4                       44.90  \n",
       "5                       46.04  \n",
       "6                       47.83  \n",
       "7                       53.25  \n",
       "8                       54.35  \n",
       "9                       62.48  \n",
       "10                      65.53  \n",
       "11                      68.33  \n",
       "12                      69.04  \n",
       "13                      74.06  "
      ]
     },
     "metadata": {},
     "output_type": "display_data"
    },
    {
     "data": {
      "application/vnd.jupyter.widget-view+json": {
       "model_id": "c609eb9e5b9046ec8acb7a832cfc7dc4",
       "version_major": 2,
       "version_minor": 0
      },
      "text/plain": [
       "Label(value='Score:')"
      ]
     },
     "metadata": {},
     "output_type": "display_data"
    },
    {
     "data": {
      "text/html": [
       "<div>\n",
       "<style scoped>\n",
       "    .dataframe tbody tr th:only-of-type {\n",
       "        vertical-align: middle;\n",
       "    }\n",
       "\n",
       "    .dataframe tbody tr th {\n",
       "        vertical-align: top;\n",
       "    }\n",
       "\n",
       "    .dataframe thead th {\n",
       "        text-align: right;\n",
       "    }\n",
       "</style>\n",
       "<table border=\"1\" class=\"dataframe\">\n",
       "  <thead>\n",
       "    <tr style=\"text-align: right;\">\n",
       "      <th></th>\n",
       "      <th>Points</th>\n",
       "    </tr>\n",
       "    <tr>\n",
       "      <th>Team</th>\n",
       "      <th></th>\n",
       "    </tr>\n",
       "  </thead>\n",
       "  <tbody>\n",
       "    <tr>\n",
       "      <th>Team 1</th>\n",
       "      <td>468.44</td>\n",
       "    </tr>\n",
       "    <tr>\n",
       "      <th>Team 2</th>\n",
       "      <td>459.37</td>\n",
       "    </tr>\n",
       "  </tbody>\n",
       "</table>\n",
       "</div>"
      ],
      "text/plain": [
       "        Points\n",
       "Team          \n",
       "Team 1  468.44\n",
       "Team 2  459.37"
      ]
     },
     "metadata": {},
     "output_type": "display_data"
    }
   ],
   "source": [
    "Question(Qs[2][0])"
   ]
  },
  {
   "cell_type": "markdown",
   "metadata": {
    "slideshow": {
     "slide_type": "slide"
    }
   },
   "source": [
    "# Question 4\n",
    "\n",
    "## Starting Conversations\n",
    "\n",
    "#### A text conversation has got to be started by someone! You can either start a conversation, or don't!\n",
    "\n",
    "Can you guess the person who starts the most conversations (by percentage)?"
   ]
  },
  {
   "cell_type": "code",
   "execution_count": 20,
   "metadata": {
    "slideshow": {
     "slide_type": "subslide"
    }
   },
   "outputs": [
    {
     "data": {
      "application/vnd.jupyter.widget-view+json": {
       "model_id": "2c4d7c36fa5b4d2badcad49b1fd78f38",
       "version_major": 2,
       "version_minor": 0
      },
      "text/plain": [
       "Label(value='Answers:')"
      ]
     },
     "metadata": {},
     "output_type": "display_data"
    },
    {
     "data": {
      "text/html": [
       "<div>\n",
       "<style scoped>\n",
       "    .dataframe tbody tr th:only-of-type {\n",
       "        vertical-align: middle;\n",
       "    }\n",
       "\n",
       "    .dataframe tbody tr th {\n",
       "        vertical-align: top;\n",
       "    }\n",
       "\n",
       "    .dataframe thead th {\n",
       "        text-align: right;\n",
       "    }\n",
       "</style>\n",
       "<table border=\"1\" class=\"dataframe\">\n",
       "  <thead>\n",
       "    <tr style=\"text-align: right;\">\n",
       "      <th></th>\n",
       "      <th>Person First Name</th>\n",
       "      <th>Convo Start Percentage</th>\n",
       "    </tr>\n",
       "  </thead>\n",
       "  <tbody>\n",
       "    <tr>\n",
       "      <th>1</th>\n",
       "      <td>Sam</td>\n",
       "      <td>21.45</td>\n",
       "    </tr>\n",
       "    <tr>\n",
       "      <th>2</th>\n",
       "      <td>Katherine</td>\n",
       "      <td>17.09</td>\n",
       "    </tr>\n",
       "    <tr>\n",
       "      <th>3</th>\n",
       "      <td>Allison</td>\n",
       "      <td>16.65</td>\n",
       "    </tr>\n",
       "    <tr>\n",
       "      <th>4</th>\n",
       "      <td>Brandy</td>\n",
       "      <td>16.21</td>\n",
       "    </tr>\n",
       "    <tr>\n",
       "      <th>5</th>\n",
       "      <td>Sarah</td>\n",
       "      <td>15.90</td>\n",
       "    </tr>\n",
       "    <tr>\n",
       "      <th>6</th>\n",
       "      <td>Hannah</td>\n",
       "      <td>15.60</td>\n",
       "    </tr>\n",
       "    <tr>\n",
       "      <th>7</th>\n",
       "      <td>Kenn</td>\n",
       "      <td>11.79</td>\n",
       "    </tr>\n",
       "    <tr>\n",
       "      <th>8</th>\n",
       "      <td>Ben</td>\n",
       "      <td>11.43</td>\n",
       "    </tr>\n",
       "    <tr>\n",
       "      <th>9</th>\n",
       "      <td>Ana</td>\n",
       "      <td>10.23</td>\n",
       "    </tr>\n",
       "    <tr>\n",
       "      <th>10</th>\n",
       "      <td>Geoff</td>\n",
       "      <td>9.97</td>\n",
       "    </tr>\n",
       "    <tr>\n",
       "      <th>11</th>\n",
       "      <td>Colleen</td>\n",
       "      <td>6.84</td>\n",
       "    </tr>\n",
       "    <tr>\n",
       "      <th>12</th>\n",
       "      <td>Justin</td>\n",
       "      <td>5.73</td>\n",
       "    </tr>\n",
       "    <tr>\n",
       "      <th>13</th>\n",
       "      <td>Stefani</td>\n",
       "      <td>4.21</td>\n",
       "    </tr>\n",
       "  </tbody>\n",
       "</table>\n",
       "</div>"
      ],
      "text/plain": [
       "   Person First Name  Convo Start Percentage\n",
       "1                Sam                   21.45\n",
       "2          Katherine                   17.09\n",
       "3            Allison                   16.65\n",
       "4             Brandy                   16.21\n",
       "5              Sarah                   15.90\n",
       "6             Hannah                   15.60\n",
       "7               Kenn                   11.79\n",
       "8                Ben                   11.43\n",
       "9                Ana                   10.23\n",
       "10             Geoff                    9.97\n",
       "11           Colleen                    6.84\n",
       "12            Justin                    5.73\n",
       "13           Stefani                    4.21"
      ]
     },
     "metadata": {},
     "output_type": "display_data"
    },
    {
     "data": {
      "application/vnd.jupyter.widget-view+json": {
       "model_id": "5c7d35cd336644b196f05f8729930a63",
       "version_major": 2,
       "version_minor": 0
      },
      "text/plain": [
       "Label(value='Score:')"
      ]
     },
     "metadata": {},
     "output_type": "display_data"
    },
    {
     "data": {
      "text/html": [
       "<div>\n",
       "<style scoped>\n",
       "    .dataframe tbody tr th:only-of-type {\n",
       "        vertical-align: middle;\n",
       "    }\n",
       "\n",
       "    .dataframe tbody tr th {\n",
       "        vertical-align: top;\n",
       "    }\n",
       "\n",
       "    .dataframe thead th {\n",
       "        text-align: right;\n",
       "    }\n",
       "</style>\n",
       "<table border=\"1\" class=\"dataframe\">\n",
       "  <thead>\n",
       "    <tr style=\"text-align: right;\">\n",
       "      <th></th>\n",
       "      <th>Points</th>\n",
       "    </tr>\n",
       "    <tr>\n",
       "      <th>Team</th>\n",
       "      <th></th>\n",
       "    </tr>\n",
       "  </thead>\n",
       "  <tbody>\n",
       "    <tr>\n",
       "      <th>Team 1</th>\n",
       "      <td>512.71</td>\n",
       "    </tr>\n",
       "    <tr>\n",
       "      <th>Team 2</th>\n",
       "      <td>490.91</td>\n",
       "    </tr>\n",
       "  </tbody>\n",
       "</table>\n",
       "</div>"
      ],
      "text/plain": [
       "        Points\n",
       "Team          \n",
       "Team 1  512.71\n",
       "Team 2  490.91"
      ]
     },
     "metadata": {},
     "output_type": "display_data"
    }
   ],
   "source": [
    "Question(Qs[3][0])"
   ]
  },
  {
   "cell_type": "markdown",
   "metadata": {
    "slideshow": {
     "slide_type": "slide"
    }
   },
   "source": [
    "# Question 5\n",
    "\n",
    "## Texts with Attachments\n",
    "\n",
    "####  Sometimes we send texts that have attachments!\n",
    "\n",
    "Can you guess the person who sends the most texts with attachments (by percentage)?"
   ]
  },
  {
   "cell_type": "code",
   "execution_count": 21,
   "metadata": {
    "slideshow": {
     "slide_type": "subslide"
    }
   },
   "outputs": [
    {
     "data": {
      "application/vnd.jupyter.widget-view+json": {
       "model_id": "ccebd967d7244e19b394fbb74694b913",
       "version_major": 2,
       "version_minor": 0
      },
      "text/plain": [
       "Label(value='Answers:')"
      ]
     },
     "metadata": {},
     "output_type": "display_data"
    },
    {
     "data": {
      "text/html": [
       "<div>\n",
       "<style scoped>\n",
       "    .dataframe tbody tr th:only-of-type {\n",
       "        vertical-align: middle;\n",
       "    }\n",
       "\n",
       "    .dataframe tbody tr th {\n",
       "        vertical-align: top;\n",
       "    }\n",
       "\n",
       "    .dataframe thead th {\n",
       "        text-align: right;\n",
       "    }\n",
       "</style>\n",
       "<table border=\"1\" class=\"dataframe\">\n",
       "  <thead>\n",
       "    <tr style=\"text-align: right;\">\n",
       "      <th></th>\n",
       "      <th>Person First Name</th>\n",
       "      <th>Text w/ Attachment Percentage</th>\n",
       "      <th>Text w/out Attachment Percentage</th>\n",
       "    </tr>\n",
       "  </thead>\n",
       "  <tbody>\n",
       "    <tr>\n",
       "      <th>1</th>\n",
       "      <td>Sam</td>\n",
       "      <td>15.59</td>\n",
       "      <td>84.41</td>\n",
       "    </tr>\n",
       "    <tr>\n",
       "      <th>2</th>\n",
       "      <td>Ana</td>\n",
       "      <td>13.32</td>\n",
       "      <td>86.68</td>\n",
       "    </tr>\n",
       "    <tr>\n",
       "      <th>3</th>\n",
       "      <td>Katherine</td>\n",
       "      <td>13.25</td>\n",
       "      <td>86.75</td>\n",
       "    </tr>\n",
       "    <tr>\n",
       "      <th>4</th>\n",
       "      <td>Hannah</td>\n",
       "      <td>12.33</td>\n",
       "      <td>87.67</td>\n",
       "    </tr>\n",
       "    <tr>\n",
       "      <th>5</th>\n",
       "      <td>Geoff</td>\n",
       "      <td>11.73</td>\n",
       "      <td>88.27</td>\n",
       "    </tr>\n",
       "    <tr>\n",
       "      <th>6</th>\n",
       "      <td>Kenn</td>\n",
       "      <td>10.04</td>\n",
       "      <td>89.96</td>\n",
       "    </tr>\n",
       "    <tr>\n",
       "      <th>7</th>\n",
       "      <td>Brandy</td>\n",
       "      <td>9.90</td>\n",
       "      <td>90.10</td>\n",
       "    </tr>\n",
       "    <tr>\n",
       "      <th>8</th>\n",
       "      <td>Allison</td>\n",
       "      <td>9.85</td>\n",
       "      <td>90.15</td>\n",
       "    </tr>\n",
       "    <tr>\n",
       "      <th>9</th>\n",
       "      <td>Stefani</td>\n",
       "      <td>9.69</td>\n",
       "      <td>90.31</td>\n",
       "    </tr>\n",
       "    <tr>\n",
       "      <th>10</th>\n",
       "      <td>Sarah</td>\n",
       "      <td>8.83</td>\n",
       "      <td>91.17</td>\n",
       "    </tr>\n",
       "    <tr>\n",
       "      <th>11</th>\n",
       "      <td>Colleen</td>\n",
       "      <td>8.28</td>\n",
       "      <td>91.72</td>\n",
       "    </tr>\n",
       "    <tr>\n",
       "      <th>12</th>\n",
       "      <td>Justin</td>\n",
       "      <td>6.01</td>\n",
       "      <td>93.99</td>\n",
       "    </tr>\n",
       "    <tr>\n",
       "      <th>13</th>\n",
       "      <td>Ben</td>\n",
       "      <td>4.00</td>\n",
       "      <td>96.00</td>\n",
       "    </tr>\n",
       "  </tbody>\n",
       "</table>\n",
       "</div>"
      ],
      "text/plain": [
       "   Person First Name  Text w/ Attachment Percentage  \\\n",
       "1                Sam                          15.59   \n",
       "2                Ana                          13.32   \n",
       "3          Katherine                          13.25   \n",
       "4             Hannah                          12.33   \n",
       "5              Geoff                          11.73   \n",
       "6               Kenn                          10.04   \n",
       "7             Brandy                           9.90   \n",
       "8            Allison                           9.85   \n",
       "9            Stefani                           9.69   \n",
       "10             Sarah                           8.83   \n",
       "11           Colleen                           8.28   \n",
       "12            Justin                           6.01   \n",
       "13               Ben                           4.00   \n",
       "\n",
       "    Text w/out Attachment Percentage  \n",
       "1                              84.41  \n",
       "2                              86.68  \n",
       "3                              86.75  \n",
       "4                              87.67  \n",
       "5                              88.27  \n",
       "6                              89.96  \n",
       "7                              90.10  \n",
       "8                              90.15  \n",
       "9                              90.31  \n",
       "10                             91.17  \n",
       "11                             91.72  \n",
       "12                             93.99  \n",
       "13                             96.00  "
      ]
     },
     "metadata": {},
     "output_type": "display_data"
    },
    {
     "data": {
      "application/vnd.jupyter.widget-view+json": {
       "model_id": "419ab2a560de43309bb16aadb09f7f0d",
       "version_major": 2,
       "version_minor": 0
      },
      "text/plain": [
       "Label(value='Score:')"
      ]
     },
     "metadata": {},
     "output_type": "display_data"
    },
    {
     "data": {
      "text/html": [
       "<div>\n",
       "<style scoped>\n",
       "    .dataframe tbody tr th:only-of-type {\n",
       "        vertical-align: middle;\n",
       "    }\n",
       "\n",
       "    .dataframe tbody tr th {\n",
       "        vertical-align: top;\n",
       "    }\n",
       "\n",
       "    .dataframe thead th {\n",
       "        text-align: right;\n",
       "    }\n",
       "</style>\n",
       "<table border=\"1\" class=\"dataframe\">\n",
       "  <thead>\n",
       "    <tr style=\"text-align: right;\">\n",
       "      <th></th>\n",
       "      <th>Points</th>\n",
       "    </tr>\n",
       "    <tr>\n",
       "      <th>Team</th>\n",
       "      <th></th>\n",
       "    </tr>\n",
       "  </thead>\n",
       "  <tbody>\n",
       "    <tr>\n",
       "      <th>Team 1</th>\n",
       "      <td>551.66</td>\n",
       "    </tr>\n",
       "    <tr>\n",
       "      <th>Team 2</th>\n",
       "      <td>521.97</td>\n",
       "    </tr>\n",
       "  </tbody>\n",
       "</table>\n",
       "</div>"
      ],
      "text/plain": [
       "        Points\n",
       "Team          \n",
       "Team 1  551.66\n",
       "Team 2  521.97"
      ]
     },
     "metadata": {},
     "output_type": "display_data"
    }
   ],
   "source": [
    "Question(Qs[4][0])"
   ]
  },
  {
   "cell_type": "markdown",
   "metadata": {
    "slideshow": {
     "slide_type": "slide"
    }
   },
   "source": [
    "# Question 6\n",
    "\n",
    "## Texts with or without an emote\n",
    "\n",
    "####  Lets face it! Some people just send better messages than others\n",
    "\n",
    "Can you guess the person who receives the most reactions (by percentage)?"
   ]
  },
  {
   "cell_type": "code",
   "execution_count": 22,
   "metadata": {
    "slideshow": {
     "slide_type": "subslide"
    }
   },
   "outputs": [
    {
     "data": {
      "application/vnd.jupyter.widget-view+json": {
       "model_id": "e6df0b5208f14c3ebc90452bf7bc7d22",
       "version_major": 2,
       "version_minor": 0
      },
      "text/plain": [
       "Label(value='Answers:')"
      ]
     },
     "metadata": {},
     "output_type": "display_data"
    },
    {
     "data": {
      "text/html": [
       "<div>\n",
       "<style scoped>\n",
       "    .dataframe tbody tr th:only-of-type {\n",
       "        vertical-align: middle;\n",
       "    }\n",
       "\n",
       "    .dataframe tbody tr th {\n",
       "        vertical-align: top;\n",
       "    }\n",
       "\n",
       "    .dataframe thead th {\n",
       "        text-align: right;\n",
       "    }\n",
       "</style>\n",
       "<table border=\"1\" class=\"dataframe\">\n",
       "  <thead>\n",
       "    <tr style=\"text-align: right;\">\n",
       "      <th></th>\n",
       "      <th>Person First Name</th>\n",
       "      <th>Text w/ Emote Percentage</th>\n",
       "      <th>Text w/out Emote Percentage</th>\n",
       "    </tr>\n",
       "  </thead>\n",
       "  <tbody>\n",
       "    <tr>\n",
       "      <th>1</th>\n",
       "      <td>Sam</td>\n",
       "      <td>35.55</td>\n",
       "      <td>64.45</td>\n",
       "    </tr>\n",
       "    <tr>\n",
       "      <th>2</th>\n",
       "      <td>Ben</td>\n",
       "      <td>34.67</td>\n",
       "      <td>65.33</td>\n",
       "    </tr>\n",
       "    <tr>\n",
       "      <th>3</th>\n",
       "      <td>Katherine</td>\n",
       "      <td>32.05</td>\n",
       "      <td>67.95</td>\n",
       "    </tr>\n",
       "    <tr>\n",
       "      <th>4</th>\n",
       "      <td>Hannah</td>\n",
       "      <td>31.19</td>\n",
       "      <td>68.81</td>\n",
       "    </tr>\n",
       "    <tr>\n",
       "      <th>5</th>\n",
       "      <td>Allison</td>\n",
       "      <td>29.98</td>\n",
       "      <td>70.02</td>\n",
       "    </tr>\n",
       "    <tr>\n",
       "      <th>6</th>\n",
       "      <td>Kenn</td>\n",
       "      <td>29.26</td>\n",
       "      <td>70.74</td>\n",
       "    </tr>\n",
       "    <tr>\n",
       "      <th>7</th>\n",
       "      <td>Brandy</td>\n",
       "      <td>21.02</td>\n",
       "      <td>78.98</td>\n",
       "    </tr>\n",
       "    <tr>\n",
       "      <th>8</th>\n",
       "      <td>Geoff</td>\n",
       "      <td>19.64</td>\n",
       "      <td>80.36</td>\n",
       "    </tr>\n",
       "    <tr>\n",
       "      <th>9</th>\n",
       "      <td>Justin</td>\n",
       "      <td>19.19</td>\n",
       "      <td>80.81</td>\n",
       "    </tr>\n",
       "    <tr>\n",
       "      <th>10</th>\n",
       "      <td>Ana</td>\n",
       "      <td>18.90</td>\n",
       "      <td>81.10</td>\n",
       "    </tr>\n",
       "    <tr>\n",
       "      <th>11</th>\n",
       "      <td>Colleen</td>\n",
       "      <td>17.44</td>\n",
       "      <td>82.56</td>\n",
       "    </tr>\n",
       "    <tr>\n",
       "      <th>12</th>\n",
       "      <td>Sarah</td>\n",
       "      <td>15.68</td>\n",
       "      <td>84.32</td>\n",
       "    </tr>\n",
       "    <tr>\n",
       "      <th>13</th>\n",
       "      <td>Stefani</td>\n",
       "      <td>13.24</td>\n",
       "      <td>86.76</td>\n",
       "    </tr>\n",
       "  </tbody>\n",
       "</table>\n",
       "</div>"
      ],
      "text/plain": [
       "   Person First Name  Text w/ Emote Percentage  Text w/out Emote Percentage\n",
       "1                Sam                     35.55                        64.45\n",
       "2                Ben                     34.67                        65.33\n",
       "3          Katherine                     32.05                        67.95\n",
       "4             Hannah                     31.19                        68.81\n",
       "5            Allison                     29.98                        70.02\n",
       "6               Kenn                     29.26                        70.74\n",
       "7             Brandy                     21.02                        78.98\n",
       "8              Geoff                     19.64                        80.36\n",
       "9             Justin                     19.19                        80.81\n",
       "10               Ana                     18.90                        81.10\n",
       "11           Colleen                     17.44                        82.56\n",
       "12             Sarah                     15.68                        84.32\n",
       "13           Stefani                     13.24                        86.76"
      ]
     },
     "metadata": {},
     "output_type": "display_data"
    },
    {
     "data": {
      "application/vnd.jupyter.widget-view+json": {
       "model_id": "99b8558a3670405784e8d24cb5701b08",
       "version_major": 2,
       "version_minor": 0
      },
      "text/plain": [
       "Label(value='Score:')"
      ]
     },
     "metadata": {},
     "output_type": "display_data"
    },
    {
     "data": {
      "text/html": [
       "<div>\n",
       "<style scoped>\n",
       "    .dataframe tbody tr th:only-of-type {\n",
       "        vertical-align: middle;\n",
       "    }\n",
       "\n",
       "    .dataframe tbody tr th {\n",
       "        vertical-align: top;\n",
       "    }\n",
       "\n",
       "    .dataframe thead th {\n",
       "        text-align: right;\n",
       "    }\n",
       "</style>\n",
       "<table border=\"1\" class=\"dataframe\">\n",
       "  <thead>\n",
       "    <tr style=\"text-align: right;\">\n",
       "      <th></th>\n",
       "      <th>Points</th>\n",
       "    </tr>\n",
       "    <tr>\n",
       "      <th>Team</th>\n",
       "      <th></th>\n",
       "    </tr>\n",
       "  </thead>\n",
       "  <tbody>\n",
       "    <tr>\n",
       "      <th>Team 1</th>\n",
       "      <td>653.93</td>\n",
       "    </tr>\n",
       "    <tr>\n",
       "      <th>Team 2</th>\n",
       "      <td>617.95</td>\n",
       "    </tr>\n",
       "  </tbody>\n",
       "</table>\n",
       "</div>"
      ],
      "text/plain": [
       "        Points\n",
       "Team          \n",
       "Team 1  653.93\n",
       "Team 2  617.95"
      ]
     },
     "metadata": {},
     "output_type": "display_data"
    }
   ],
   "source": [
    "Question(Qs[5][0])"
   ]
  },
  {
   "cell_type": "markdown",
   "metadata": {
    "slideshow": {
     "slide_type": "slide"
    }
   },
   "source": [
    "# Final Feud!\n",
    "\n",
    "Some words are more similar than others. One way to determine their similarity is to find what words are used most frequently together! \n",
    "\n",
    "#### Be aware: I only kept the top 3,000 words!\n",
    "- First, I broke the data up by conversations. \n",
    "- Then, I counted how many times each word appeared in each conversation."
   ]
  },
  {
   "attachments": {
    "image.png": {
     "image/png": "[encoded data removed]"
    }
   },
   "cell_type": "markdown",
   "metadata": {
    "slideshow": {
     "slide_type": "slide"
    }
   },
   "source": [
    "![image.png](attachment:image.png)"
   ]
  },
  {
   "attachments": {
    "image.png": {
     "image/png": "[encoded data removed]"
    }
   },
   "cell_type": "markdown",
   "metadata": {
    "slideshow": {
     "slide_type": "slide"
    }
   },
   "source": [
    "![image.png](attachment:image.png)"
   ]
  },
  {
   "cell_type": "markdown",
   "metadata": {
    "slideshow": {
     "slide_type": "slide"
    }
   },
   "source": [
    "#### The word \"like\" appears in conversation 6157 a total of 7 times! Now that we have a numerical representation of the words, we can mathematically measure how similar the row of numbers are to eachother "
   ]
  },
  {
   "cell_type": "code",
   "execution_count": 178,
   "metadata": {
    "slideshow": {
     "slide_type": "slide"
    }
   },
   "outputs": [
    {
     "data": {
      "text/html": [
       "<div>\n",
       "<style scoped>\n",
       "    .dataframe tbody tr th:only-of-type {\n",
       "        vertical-align: middle;\n",
       "    }\n",
       "\n",
       "    .dataframe tbody tr th {\n",
       "        vertical-align: top;\n",
       "    }\n",
       "\n",
       "    .dataframe thead th {\n",
       "        text-align: right;\n",
       "    }\n",
       "</style>\n",
       "<table border=\"1\" class=\"dataframe\">\n",
       "  <thead>\n",
       "    <tr style=\"text-align: right;\">\n",
       "      <th></th>\n",
       "      <th>compare</th>\n",
       "      <th>word2</th>\n",
       "      <th>val</th>\n",
       "    </tr>\n",
       "  </thead>\n",
       "  <tbody>\n",
       "    <tr>\n",
       "      <th>0</th>\n",
       "      <td>Most Similar</td>\n",
       "      <td>roll</td>\n",
       "      <td>0.578521</td>\n",
       "    </tr>\n",
       "    <tr>\n",
       "      <th>1</th>\n",
       "      <td>Second Most Similar</td>\n",
       "      <td>screaming</td>\n",
       "      <td>0.571080</td>\n",
       "    </tr>\n",
       "    <tr>\n",
       "      <th>2</th>\n",
       "      <td>Third Most Similar</td>\n",
       "      <td>troll</td>\n",
       "      <td>0.564849</td>\n",
       "    </tr>\n",
       "    <tr>\n",
       "      <th>3</th>\n",
       "      <td>Forth Most Similar</td>\n",
       "      <td>yo</td>\n",
       "      <td>0.541503</td>\n",
       "    </tr>\n",
       "    <tr>\n",
       "      <th>4</th>\n",
       "      <td>Fifth Most Similar</td>\n",
       "      <td>bitch</td>\n",
       "      <td>0.532115</td>\n",
       "    </tr>\n",
       "    <tr>\n",
       "      <th>5</th>\n",
       "      <td>Sixth Most Similar</td>\n",
       "      <td>fucking</td>\n",
       "      <td>0.530924</td>\n",
       "    </tr>\n",
       "  </tbody>\n",
       "</table>\n",
       "</div>"
      ],
      "text/plain": [
       "               compare      word2       val\n",
       "0         Most Similar       roll  0.578521\n",
       "1  Second Most Similar  screaming  0.571080\n",
       "2   Third Most Similar      troll  0.564849\n",
       "3   Forth Most Similar         yo  0.541503\n",
       "4   Fifth Most Similar      bitch  0.532115\n",
       "5   Sixth Most Similar    fucking  0.530924"
      ]
     },
     "execution_count": 178,
     "metadata": {},
     "output_type": "execute_result"
    }
   ],
   "source": [
    "#Some Examples!\n",
    "word='ass'\n",
    "get_mostsimilar(word)"
   ]
  },
  {
   "cell_type": "markdown",
   "metadata": {
    "slideshow": {
     "slide_type": "slide"
    }
   },
   "source": [
    "# How to play\n",
    "\n",
    "- Similar to before! \n",
    "- I will give you a word. Each team will guess a word they think is closest to it!\n",
    "- The closer in similarity the word is, the more points you'll get!\n",
    "- If the word you give isn't in the top 3,000 words, then you get 0 points!"
   ]
  },
  {
   "cell_type": "code",
   "execution_count": 38,
   "metadata": {
    "slideshow": {
     "slide_type": "slide"
    }
   },
   "outputs": [
    {
     "data": {
      "application/vnd.jupyter.widget-view+json": {
       "model_id": "390cd993354f47489a1e7e42b17d97ec",
       "version_major": 2,
       "version_minor": 0
      },
      "text/plain": [
       "Label(value='Word:')"
      ]
     },
     "metadata": {},
     "output_type": "display_data"
    },
    {
     "data": {
      "application/vnd.jupyter.widget-view+json": {
       "model_id": "9e7b841fc5ed4b24839a882c02da11d2",
       "version_major": 2,
       "version_minor": 0
      },
      "text/plain": [
       "Text(value='cersei', description='Start Word!')"
      ]
     },
     "metadata": {},
     "output_type": "display_data"
    },
    {
     "data": {
      "application/vnd.jupyter.widget-view+json": {
       "model_id": "cb1a5793f49649a794d01cf5892ec851",
       "version_major": 2,
       "version_minor": 0
      },
      "text/plain": [
       "Label(value='Most Similar:')"
      ]
     },
     "metadata": {},
     "output_type": "display_data"
    },
    {
     "data": {
      "text/html": [
       "<div>\n",
       "<style scoped>\n",
       "    .dataframe tbody tr th:only-of-type {\n",
       "        vertical-align: middle;\n",
       "    }\n",
       "\n",
       "    .dataframe tbody tr th {\n",
       "        vertical-align: top;\n",
       "    }\n",
       "\n",
       "    .dataframe thead th {\n",
       "        text-align: right;\n",
       "    }\n",
       "</style>\n",
       "<table border=\"1\" class=\"dataframe\">\n",
       "  <thead>\n",
       "    <tr style=\"text-align: right;\">\n",
       "      <th></th>\n",
       "      <th>compare</th>\n",
       "      <th>word2</th>\n",
       "      <th>val</th>\n",
       "    </tr>\n",
       "  </thead>\n",
       "  <tbody>\n",
       "    <tr>\n",
       "      <th>0</th>\n",
       "      <td>Most Similar</td>\n",
       "      <td>arya</td>\n",
       "      <td>0.906401</td>\n",
       "    </tr>\n",
       "    <tr>\n",
       "      <th>1</th>\n",
       "      <td>Second Most Similar</td>\n",
       "      <td>tyrion</td>\n",
       "      <td>0.903458</td>\n",
       "    </tr>\n",
       "    <tr>\n",
       "      <th>2</th>\n",
       "      <td>Third Most Similar</td>\n",
       "      <td>dany</td>\n",
       "      <td>0.900225</td>\n",
       "    </tr>\n",
       "    <tr>\n",
       "      <th>3</th>\n",
       "      <td>Forth Most Similar</td>\n",
       "      <td>jaime</td>\n",
       "      <td>0.898992</td>\n",
       "    </tr>\n",
       "    <tr>\n",
       "      <th>4</th>\n",
       "      <td>Fifth Most Similar</td>\n",
       "      <td>prophecy</td>\n",
       "      <td>0.898252</td>\n",
       "    </tr>\n",
       "    <tr>\n",
       "      <th>5</th>\n",
       "      <td>Sixth Most Similar</td>\n",
       "      <td>ghost</td>\n",
       "      <td>0.891854</td>\n",
       "    </tr>\n",
       "  </tbody>\n",
       "</table>\n",
       "</div>"
      ],
      "text/plain": [
       "               compare     word2       val\n",
       "0         Most Similar      arya  0.906401\n",
       "1  Second Most Similar    tyrion  0.903458\n",
       "2   Third Most Similar      dany  0.900225\n",
       "3   Forth Most Similar     jaime  0.898992\n",
       "4   Fifth Most Similar  prophecy  0.898252\n",
       "5   Sixth Most Similar     ghost  0.891854"
      ]
     },
     "metadata": {},
     "output_type": "display_data"
    },
    {
     "data": {
      "application/vnd.jupyter.widget-view+json": {
       "model_id": "201b08c8dc7d4a9b99351e28752f283f",
       "version_major": 2,
       "version_minor": 0
      },
      "text/plain": [
       "Label(value='Score:')"
      ]
     },
     "metadata": {},
     "output_type": "display_data"
    },
    {
     "data": {
      "text/html": [
       "<div>\n",
       "<style scoped>\n",
       "    .dataframe tbody tr th:only-of-type {\n",
       "        vertical-align: middle;\n",
       "    }\n",
       "\n",
       "    .dataframe tbody tr th {\n",
       "        vertical-align: top;\n",
       "    }\n",
       "\n",
       "    .dataframe thead th {\n",
       "        text-align: right;\n",
       "    }\n",
       "</style>\n",
       "<table border=\"1\" class=\"dataframe\">\n",
       "  <thead>\n",
       "    <tr style=\"text-align: right;\">\n",
       "      <th></th>\n",
       "      <th>Points</th>\n",
       "    </tr>\n",
       "    <tr>\n",
       "      <th>Team</th>\n",
       "      <th></th>\n",
       "    </tr>\n",
       "  </thead>\n",
       "  <tbody>\n",
       "    <tr>\n",
       "      <th>Team 1</th>\n",
       "      <td>1246.95</td>\n",
       "    </tr>\n",
       "    <tr>\n",
       "      <th>Team 2</th>\n",
       "      <td>1178.43</td>\n",
       "    </tr>\n",
       "  </tbody>\n",
       "</table>\n",
       "</div>"
      ],
      "text/plain": [
       "         Points\n",
       "Team           \n",
       "Team 1  1246.95\n",
       "Team 2  1178.43"
      ]
     },
     "metadata": {},
     "output_type": "display_data"
    }
   ],
   "source": [
    "Words()"
   ]
  },
  {
   "cell_type": "code",
   "execution_count": 28,
   "metadata": {
    "slideshow": {
     "slide_type": "slide"
    }
   },
   "outputs": [
    {
     "data": {
      "text/html": [
       "<div>\n",
       "<style scoped>\n",
       "    .dataframe tbody tr th:only-of-type {\n",
       "        vertical-align: middle;\n",
       "    }\n",
       "\n",
       "    .dataframe tbody tr th {\n",
       "        vertical-align: top;\n",
       "    }\n",
       "\n",
       "    .dataframe thead th {\n",
       "        text-align: right;\n",
       "    }\n",
       "</style>\n",
       "<table border=\"1\" class=\"dataframe\">\n",
       "  <thead>\n",
       "    <tr style=\"text-align: right;\">\n",
       "      <th></th>\n",
       "      <th>Points</th>\n",
       "    </tr>\n",
       "    <tr>\n",
       "      <th>Team</th>\n",
       "      <th></th>\n",
       "    </tr>\n",
       "  </thead>\n",
       "  <tbody>\n",
       "    <tr>\n",
       "      <th>Team 1</th>\n",
       "      <td>519.90</td>\n",
       "    </tr>\n",
       "    <tr>\n",
       "      <th>Team 2</th>\n",
       "      <td>494.91</td>\n",
       "    </tr>\n",
       "  </tbody>\n",
       "</table>\n",
       "</div>"
      ],
      "text/plain": [
       "        Points\n",
       "Team          \n",
       "Team 1  519.90\n",
       "Team 2  494.91"
      ]
     },
     "execution_count": 28,
     "metadata": {},
     "output_type": "execute_result"
    }
   ],
   "source": [
    "getresults()"
   ]
  },
  {
   "cell_type": "code",
   "execution_count": null,
   "metadata": {},
   "outputs": [],
   "source": []
  }
 ],
 "metadata": {
  "celltoolbar": "Slideshow",
  "kernelspec": {
   "display_name": "Python 3",
   "language": "python",
   "name": "python3"
  },
  "language_info": {
   "codemirror_mode": {
    "name": "ipython",
    "version": 3
   },
   "file_extension": ".py",
   "mimetype": "text/x-python",
   "name": "python",
   "nbconvert_exporter": "python",
   "pygments_lexer": "ipython3",
   "version": "3.6.5"
  }
 },
 "nbformat": 4,
 "nbformat_minor": 2
}
